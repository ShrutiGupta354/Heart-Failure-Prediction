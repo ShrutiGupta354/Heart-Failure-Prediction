{
  "nbformat": 4,
  "nbformat_minor": 0,
  "metadata": {
    "colab": {
      "provenance": [],
      "collapsed_sections": []
    },
    "kernelspec": {
      "display_name": "Python 3",
      "name": "python3"
    },
    "language_info": {
      "name": "python"
    }
  },
  "cells": [
    {
      "cell_type": "markdown",
      "metadata": {
        "id": "l6NLfR_InWkL"
      },
      "source": [
        "The study is focused on survival analysis of heart failure patients, aged 40 years or above, admitted to Institute of Cardiology and Allied hospital Faisalabad-Pakistan. There are a total of 299 patients in the study. Out of the 299 patients in the study, 105 are women and 194 are men\n",
        "\n",
        "The dataset contains 13 features, which report clinical, body, and lifestyle information, that we briefly describe here. Age, serum sodium, serum creatinine, gender, smoking, Blood Pressure (BP), Ejection Fraction (EF), anemia, platelets, Creatinine Phosphokinase (CPK) and diabetes were considered as potential variables explaining mortality caused by CHD. Age, serum sodium and Creatinine Phosphokinase (CPK) are continuous variables whereas EF, serum creatinine and platelets were taken as categorical variables.\n",
        "\n",
        "The paper mentions that heart failure occurs when the heart is unable to pump enough blood to the body, and it is usually caused by diabetes, high blood pressure, or other heart conditions or diseases.\n",
        "\n",
        "The main objective of this study is to estimate death rates due to heart failure \n",
        "\n",
        "[Link to the reseach paper](https://bmcmedinformdecismak.biomedcentral.com/articles/10.1186/s12911-020-1023-5#Sec2)"
      ]
    },
    {
      "cell_type": "markdown",
      "metadata": {
        "id": "3qfmwm4IZtLW"
      },
      "source": [
        "# Heart Failure Prediction using Machine Learning"
      ]
    },
    {
      "cell_type": "markdown",
      "metadata": {
        "id": "TGWRMUulZsBk"
      },
      "source": [
        "## Data Pre-processing"
      ]
    },
    {
      "cell_type": "code",
      "metadata": {
        "colab": {
          "base_uri": "https://localhost:8080/"
        },
        "id": "LnL7cz2kZDDh",
        "outputId": "0d68b080-a640-4866-e5d3-4126d41acda0"
      },
      "source": [
        "from google.colab import drive\n",
        "drive.mount('/content/drive')"
      ],
      "execution_count": null,
      "outputs": [
        {
          "output_type": "stream",
          "text": [
            "Mounted at /content/drive\n"
          ],
          "name": "stdout"
        }
      ]
    },
    {
      "cell_type": "code",
      "metadata": {
        "id": "d4zB3QUza8ft"
      },
      "source": [
        "import graphviz\n",
        "import matplotlib.pyplot as plt\n",
        "import numpy as np\n",
        "import pandas as pd\n",
        "from sklearn import tree\n",
        "from sklearn.ensemble import RandomForestClassifier\n",
        "from sklearn.ensemble import VotingClassifier\n",
        "from sklearn.linear_model import LogisticRegression\n",
        "from sklearn.metrics import f1_score\n",
        "from sklearn.metrics import make_scorer\n",
        "from sklearn.metrics import plot_confusion_matrix\n",
        "from sklearn.metrics import precision_score\n",
        "from sklearn.metrics import recall_score\n",
        "from sklearn.model_selection import train_test_split\n",
        "from sklearn.model_selection import GridSearchCV\n",
        "from sklearn.neural_network import MLPClassifier\n",
        "from sklearn.preprocessing import StandardScaler\n",
        "from sklearn.svm import SVC\n",
        "from sklearn.tree import DecisionTreeClassifier\n",
        "from sklearn.utils import resample"
      ],
      "execution_count": null,
      "outputs": []
    },
    {
      "cell_type": "code",
      "metadata": {
        "id": "ClD9hBYRbUzj"
      },
      "source": [
        "df = pd.read_csv('/content/drive/MyDrive/Colab Notebooks/heart_failure_clinical_records_dataset.csv')"
      ],
      "execution_count": null,
      "outputs": []
    },
    {
      "cell_type": "code",
      "metadata": {
        "colab": {
          "base_uri": "https://localhost:8080/"
        },
        "id": "lYKj389w7GxU",
        "outputId": "fa5d2bd9-0d32-46d5-9304-585991dcb6c0"
      },
      "source": [
        "#Check if there are any missing values in each features.\n",
        "df.isnull().sum()"
      ],
      "execution_count": null,
      "outputs": [
        {
          "output_type": "execute_result",
          "data": {
            "text/plain": [
              "age                         0\n",
              "anaemia                     0\n",
              "creatinine_phosphokinase    0\n",
              "diabetes                    0\n",
              "ejection_fraction           0\n",
              "high_blood_pressure         0\n",
              "platelets                   0\n",
              "serum_creatinine            0\n",
              "serum_sodium                0\n",
              "sex                         0\n",
              "smoking                     0\n",
              "time                        0\n",
              "DEATH_EVENT                 0\n",
              "dtype: int64"
            ]
          },
          "metadata": {
            "tags": []
          },
          "execution_count": 4
        }
      ]
    },
    {
      "cell_type": "markdown",
      "metadata": {
        "id": "emy_h_YD5c4s"
      },
      "source": [
        "##### There are no missing data in the dataset\n",
        "\n"
      ]
    },
    {
      "cell_type": "markdown",
      "metadata": {
        "id": "Xdw1DilecE6t"
      },
      "source": [
        "##### The class labels are already encoded.\n",
        "##### The data also contains sex, anemia, diabetes, high blood pressure, smoking, death_event encoded as 0 and 1 which are categorical data."
      ]
    },
    {
      "cell_type": "code",
      "metadata": {
        "colab": {
          "base_uri": "https://localhost:8080/",
          "height": 224
        },
        "id": "3-q4pyLN7Wls",
        "outputId": "9b2a326d-deb7-4b91-ebe8-52566e966802"
      },
      "source": [
        "df.head()"
      ],
      "execution_count": null,
      "outputs": [
        {
          "output_type": "execute_result",
          "data": {
            "text/html": [
              "<div>\n",
              "<style scoped>\n",
              "    .dataframe tbody tr th:only-of-type {\n",
              "        vertical-align: middle;\n",
              "    }\n",
              "\n",
              "    .dataframe tbody tr th {\n",
              "        vertical-align: top;\n",
              "    }\n",
              "\n",
              "    .dataframe thead th {\n",
              "        text-align: right;\n",
              "    }\n",
              "</style>\n",
              "<table border=\"1\" class=\"dataframe\">\n",
              "  <thead>\n",
              "    <tr style=\"text-align: right;\">\n",
              "      <th></th>\n",
              "      <th>age</th>\n",
              "      <th>anaemia</th>\n",
              "      <th>creatinine_phosphokinase</th>\n",
              "      <th>diabetes</th>\n",
              "      <th>ejection_fraction</th>\n",
              "      <th>high_blood_pressure</th>\n",
              "      <th>platelets</th>\n",
              "      <th>serum_creatinine</th>\n",
              "      <th>serum_sodium</th>\n",
              "      <th>sex</th>\n",
              "      <th>smoking</th>\n",
              "      <th>time</th>\n",
              "      <th>DEATH_EVENT</th>\n",
              "    </tr>\n",
              "  </thead>\n",
              "  <tbody>\n",
              "    <tr>\n",
              "      <th>0</th>\n",
              "      <td>75.0</td>\n",
              "      <td>0</td>\n",
              "      <td>582</td>\n",
              "      <td>0</td>\n",
              "      <td>20</td>\n",
              "      <td>1</td>\n",
              "      <td>265000.00</td>\n",
              "      <td>1.9</td>\n",
              "      <td>130</td>\n",
              "      <td>1</td>\n",
              "      <td>0</td>\n",
              "      <td>4</td>\n",
              "      <td>1</td>\n",
              "    </tr>\n",
              "    <tr>\n",
              "      <th>1</th>\n",
              "      <td>55.0</td>\n",
              "      <td>0</td>\n",
              "      <td>7861</td>\n",
              "      <td>0</td>\n",
              "      <td>38</td>\n",
              "      <td>0</td>\n",
              "      <td>263358.03</td>\n",
              "      <td>1.1</td>\n",
              "      <td>136</td>\n",
              "      <td>1</td>\n",
              "      <td>0</td>\n",
              "      <td>6</td>\n",
              "      <td>1</td>\n",
              "    </tr>\n",
              "    <tr>\n",
              "      <th>2</th>\n",
              "      <td>65.0</td>\n",
              "      <td>0</td>\n",
              "      <td>146</td>\n",
              "      <td>0</td>\n",
              "      <td>20</td>\n",
              "      <td>0</td>\n",
              "      <td>162000.00</td>\n",
              "      <td>1.3</td>\n",
              "      <td>129</td>\n",
              "      <td>1</td>\n",
              "      <td>1</td>\n",
              "      <td>7</td>\n",
              "      <td>1</td>\n",
              "    </tr>\n",
              "    <tr>\n",
              "      <th>3</th>\n",
              "      <td>50.0</td>\n",
              "      <td>1</td>\n",
              "      <td>111</td>\n",
              "      <td>0</td>\n",
              "      <td>20</td>\n",
              "      <td>0</td>\n",
              "      <td>210000.00</td>\n",
              "      <td>1.9</td>\n",
              "      <td>137</td>\n",
              "      <td>1</td>\n",
              "      <td>0</td>\n",
              "      <td>7</td>\n",
              "      <td>1</td>\n",
              "    </tr>\n",
              "    <tr>\n",
              "      <th>4</th>\n",
              "      <td>65.0</td>\n",
              "      <td>1</td>\n",
              "      <td>160</td>\n",
              "      <td>1</td>\n",
              "      <td>20</td>\n",
              "      <td>0</td>\n",
              "      <td>327000.00</td>\n",
              "      <td>2.7</td>\n",
              "      <td>116</td>\n",
              "      <td>0</td>\n",
              "      <td>0</td>\n",
              "      <td>8</td>\n",
              "      <td>1</td>\n",
              "    </tr>\n",
              "  </tbody>\n",
              "</table>\n",
              "</div>"
            ],
            "text/plain": [
              "    age  anaemia  creatinine_phosphokinase  ...  smoking  time  DEATH_EVENT\n",
              "0  75.0        0                       582  ...        0     4            1\n",
              "1  55.0        0                      7861  ...        0     6            1\n",
              "2  65.0        0                       146  ...        1     7            1\n",
              "3  50.0        1                       111  ...        0     7            1\n",
              "4  65.0        1                       160  ...        0     8            1\n",
              "\n",
              "[5 rows x 13 columns]"
            ]
          },
          "metadata": {
            "tags": []
          },
          "execution_count": 5
        }
      ]
    },
    {
      "cell_type": "markdown",
      "metadata": {
        "id": "1Bqh4Q-P8gex"
      },
      "source": [
        "##### **DEATH_EVENT** is the dependent variable and the rest are independent variable."
      ]
    },
    {
      "cell_type": "code",
      "metadata": {
        "id": "H7HpGwmn9yQU"
      },
      "source": [
        "data = df.to_numpy()\n",
        "X = data[:, :-1]\n",
        "Y = data[:, -1]"
      ],
      "execution_count": null,
      "outputs": []
    },
    {
      "cell_type": "code",
      "metadata": {
        "colab": {
          "base_uri": "https://localhost:8080/"
        },
        "id": "5kH1MFJ36qNv",
        "outputId": "3d72c96c-2e49-46a4-9b78-2e5047d0881f"
      },
      "source": [
        "np.bincount(Y.astype(int))"
      ],
      "execution_count": null,
      "outputs": [
        {
          "output_type": "execute_result",
          "data": {
            "text/plain": [
              "array([203,  96])"
            ]
          },
          "metadata": {
            "tags": []
          },
          "execution_count": 7
        }
      ]
    },
    {
      "cell_type": "markdown",
      "metadata": {
        "id": "7HQiCo1ukYWA"
      },
      "source": [
        "##### We can see that the data is highly disproportional in terms of the frequencies of death_event\n",
        "\n",
        "\n"
      ]
    },
    {
      "cell_type": "code",
      "metadata": {
        "colab": {
          "base_uri": "https://localhost:8080/"
        },
        "id": "OzRGwDRE-UWH",
        "outputId": "c5aae3c5-bc1d-42e9-ddef-3d619453c74b"
      },
      "source": [
        "# Checking X and Y vectors have the right shape.\n",
        "n, m = X.shape\n",
        "print(n, m)\n",
        "# Checking X and Y vectors have right data.\n",
        "assert(X[0][0] == 75)\n",
        "assert(X[0][-1] == 4)\n",
        "assert(Y[0] == 1)"
      ],
      "execution_count": null,
      "outputs": [
        {
          "output_type": "stream",
          "text": [
            "299 12\n"
          ],
          "name": "stdout"
        }
      ]
    },
    {
      "cell_type": "code",
      "metadata": {
        "id": "oCKOC2pb_lJj"
      },
      "source": [
        "# Assigning 30% of dataset for training.\n",
        "X_train, X_test, Y_train, Y_test = train_test_split(\n",
        "    X, Y, test_size = 0.3, stratify = Y)"
      ],
      "execution_count": null,
      "outputs": []
    },
    {
      "cell_type": "code",
      "metadata": {
        "id": "gMZixC7jBf-L"
      },
      "source": [
        "# Standardization\n",
        "stdsc = StandardScaler()\n",
        "X_train_std = stdsc.fit_transform(X_train)\n",
        "X_test_std = stdsc.transform(X_test)\n",
        "\n",
        "model_scores = []"
      ],
      "execution_count": null,
      "outputs": []
    },
    {
      "cell_type": "markdown",
      "metadata": {
        "id": "kL72Ng0rKDNk"
      },
      "source": [
        "## Training and Predicting using different Estimators"
      ]
    },
    {
      "cell_type": "markdown",
      "metadata": {
        "id": "gy1IMk3EI0d-"
      },
      "source": [
        "### Logistic Regression"
      ]
    },
    {
      "cell_type": "markdown",
      "metadata": {
        "id": "DMyNpWbDY-jx"
      },
      "source": [
        "##### Accuracy"
      ]
    },
    {
      "cell_type": "code",
      "metadata": {
        "colab": {
          "base_uri": "https://localhost:8080/"
        },
        "id": "zmCiNfYVD1nE",
        "outputId": "64af991c-9d71-40fb-fac3-81731b43e357"
      },
      "source": [
        "#Creating param grids for Logistic Regression\n",
        "c_values = np.linspace(-1,1,25)\n",
        "\n",
        "grid = [\n",
        "  {'penalty': ['l1'], 'solver': ['liblinear', 'saga'], 'C' : c_values},\n",
        "  {'penalty': ['l2'], 'solver': ['newton-cg', 'sag', 'lbfgs'], 'C' : c_values},\n",
        "  {'penalty': ['elasticnet'], 'solver': ['saga'], 'C' : c_values, 'l1_ratio' : np.linspace(0, 1, 25)},\n",
        "]\n",
        "\n",
        "\n",
        "lr_accuracy = LogisticRegression(class_weight='balanced')\n",
        "lr_accuracy_gs = GridSearchCV(estimator=lr_accuracy, param_grid=grid, cv = 5, n_jobs=-1, scoring='accuracy')\n",
        "\n",
        "lr_accuracy_gs.fit(X_train_std, Y_train)"
      ],
      "execution_count": null,
      "outputs": [
        {
          "output_type": "execute_result",
          "data": {
            "text/plain": [
              "GridSearchCV(cv=5, error_score=nan,\n",
              "             estimator=LogisticRegression(C=1.0, class_weight='balanced',\n",
              "                                          dual=False, fit_intercept=True,\n",
              "                                          intercept_scaling=1, l1_ratio=None,\n",
              "                                          max_iter=100, multi_class='auto',\n",
              "                                          n_jobs=None, penalty='l2',\n",
              "                                          random_state=None, solver='lbfgs',\n",
              "                                          tol=0.0001, verbose=0,\n",
              "                                          warm_start=False),\n",
              "             iid='deprecated', n_jobs=-1,\n",
              "             param_grid=[{'C': array([-1.        , -0.916666...\n",
              "                          'l1_ratio': array([0.        , 0.04166667, 0.08333333, 0.125     , 0.16666667,\n",
              "       0.20833333, 0.25      , 0.29166667, 0.33333333, 0.375     ,\n",
              "       0.41666667, 0.45833333, 0.5       , 0.54166667, 0.58333333,\n",
              "       0.625     , 0.66666667, 0.70833333, 0.75      , 0.79166667,\n",
              "       0.83333333, 0.875     , 0.91666667, 0.95833333, 1.        ]),\n",
              "                          'penalty': ['elasticnet'], 'solver': ['saga']}],\n",
              "             pre_dispatch='2*n_jobs', refit=True, return_train_score=False,\n",
              "             scoring='accuracy', verbose=0)"
            ]
          },
          "metadata": {
            "tags": []
          },
          "execution_count": 83
        }
      ]
    },
    {
      "cell_type": "code",
      "metadata": {
        "id": "xggc2INzwlzS",
        "colab": {
          "base_uri": "https://localhost:8080/"
        },
        "outputId": "b6312f55-9f45-4180-863c-992a2c033640"
      },
      "source": [
        "best_lr_accuracy = lr_accuracy_gs.best_estimator_\n",
        "\n",
        "print(\"Best Hyperparameters\", lr_accuracy_gs.best_params_)\n",
        "print('Training score:', lr_accuracy_gs.best_score_)\n",
        "\n",
        "print('Test score:', best_lr_accuracy.score(X_test_std, Y_test))\n",
        "model_scores.append([lr_accuracy_gs.best_score_, best_lr_accuracy.score(X_test_std, Y_test)])"
      ],
      "execution_count": null,
      "outputs": [
        {
          "output_type": "stream",
          "text": [
            "Best Hyperparameters {'C': 0.16666666666666652, 'l1_ratio': 0.29166666666666663, 'penalty': 'elasticnet', 'solver': 'saga'}\n",
            "Training score: 0.8044134727061557\n",
            "Test score: 0.8444444444444444\n"
          ],
          "name": "stdout"
        }
      ]
    },
    {
      "cell_type": "code",
      "metadata": {
        "id": "71LiJh9bVT-M",
        "colab": {
          "base_uri": "https://localhost:8080/",
          "height": 279
        },
        "outputId": "1a016216-7a44-4f6c-f008-b4072d8866de"
      },
      "source": [
        "plot_confusion_matrix(best_lr_accuracy, X_test_std, Y_test)\n",
        "plt.show() "
      ],
      "execution_count": null,
      "outputs": [
        {
          "output_type": "display_data",
          "data": {
            "image/png": "[encoded data removed]",
            "text/plain": [
              "<Figure size 432x288 with 2 Axes>"
            ]
          },
          "metadata": {
            "tags": [],
            "needs_background": "light"
          }
        }
      ]
    },
    {
      "cell_type": "markdown",
      "metadata": {
        "id": "W_BB-4OIZD5g"
      },
      "source": [
        "##### Recall"
      ]
    },
    {
      "cell_type": "code",
      "metadata": {
        "colab": {
          "base_uri": "https://localhost:8080/"
        },
        "id": "u4_DQmaKVS5c",
        "outputId": "0fbe6211-a4eb-4d96-c488-185dcca1221a"
      },
      "source": [
        "#Creating param grids for Logistic Regression\n",
        "c_values = np.linspace(0, 3, 20)\n",
        "\n",
        "grid = [\n",
        "  {'penalty': ['l1'], 'solver': ['liblinear', 'saga'], 'C' : c_values},\n",
        "  {'penalty': ['l2'], 'solver': ['newton-cg', 'sag', 'lbfgs'], 'C' : c_values},\n",
        "  {'penalty': ['elasticnet'], 'solver': ['saga'], 'C' : c_values, 'l1_ratio' : np.linspace(0, 1, 25)},\n",
        "]\n",
        "\n",
        "lr_recall = LogisticRegression(class_weight='balanced')\n",
        "lr_recall_gs = GridSearchCV(estimator=lr_recall, param_grid=grid, cv = 5, n_jobs=-1, scoring='recall')\n",
        "\n",
        "lr_recall_gs.fit(X_train_std, Y_train)"
      ],
      "execution_count": null,
      "outputs": [
        {
          "output_type": "execute_result",
          "data": {
            "text/plain": [
              "GridSearchCV(cv=5, error_score=nan,\n",
              "             estimator=LogisticRegression(C=1.0, class_weight='balanced',\n",
              "                                          dual=False, fit_intercept=True,\n",
              "                                          intercept_scaling=1, l1_ratio=None,\n",
              "                                          max_iter=100, multi_class='auto',\n",
              "                                          n_jobs=None, penalty='l2',\n",
              "                                          random_state=None, solver='lbfgs',\n",
              "                                          tol=0.0001, verbose=0,\n",
              "                                          warm_start=False),\n",
              "             iid='deprecated', n_jobs=-1,\n",
              "             param_grid=[{'C': array([0.        , 0.15789474...\n",
              "                          'l1_ratio': array([0.        , 0.04166667, 0.08333333, 0.125     , 0.16666667,\n",
              "       0.20833333, 0.25      , 0.29166667, 0.33333333, 0.375     ,\n",
              "       0.41666667, 0.45833333, 0.5       , 0.54166667, 0.58333333,\n",
              "       0.625     , 0.66666667, 0.70833333, 0.75      , 0.79166667,\n",
              "       0.83333333, 0.875     , 0.91666667, 0.95833333, 1.        ]),\n",
              "                          'penalty': ['elasticnet'], 'solver': ['saga']}],\n",
              "             pre_dispatch='2*n_jobs', refit=True, return_train_score=False,\n",
              "             scoring='recall', verbose=0)"
            ]
          },
          "metadata": {
            "tags": []
          },
          "execution_count": 14
        }
      ]
    },
    {
      "cell_type": "code",
      "metadata": {
        "colab": {
          "base_uri": "https://localhost:8080/"
        },
        "id": "7xm7ngEJZTJ2",
        "outputId": "597e477e-9f9e-477c-950d-7f54fa7f0937"
      },
      "source": [
        "best_lr_recall = lr_recall_gs.best_estimator_\n",
        "\n",
        "print(\"Best Hyperparameters\", lr_recall_gs.best_params_)\n",
        "print('Training score:', lr_recall_gs.best_score_)\n",
        "print('Test score:', best_lr_recall.score(X_test_std, Y_test))\n",
        "model_scores.append([lr_recall_gs.best_score_, best_lr_recall.score(X_test_std, Y_test)])"
      ],
      "execution_count": null,
      "outputs": [
        {
          "output_type": "stream",
          "text": [
            "Best Hyperparameters {'C': 0.15789473684210525, 'penalty': 'l2', 'solver': 'newton-cg'}\n",
            "Training score: 0.7923076923076924\n",
            "Test score: 0.8222222222222222\n"
          ],
          "name": "stdout"
        }
      ]
    },
    {
      "cell_type": "code",
      "metadata": {
        "colab": {
          "base_uri": "https://localhost:8080/",
          "height": 279
        },
        "id": "HwgAcPk3Zykj",
        "outputId": "c86a8061-8bab-4cb6-82ec-c1daa9118d34"
      },
      "source": [
        "plot_confusion_matrix(best_lr_recall, X_test_std, Y_test)\n",
        "plt.show() "
      ],
      "execution_count": null,
      "outputs": [
        {
          "output_type": "display_data",
          "data": {
            "image/png": "[encoded data removed]",
            "text/plain": [
              "<Figure size 432x288 with 2 Axes>"
            ]
          },
          "metadata": {
            "tags": [],
            "needs_background": "light"
          }
        }
      ]
    },
    {
      "cell_type": "markdown",
      "metadata": {
        "id": "khzqZVEBaIFA"
      },
      "source": [
        "##### Precision"
      ]
    },
    {
      "cell_type": "code",
      "metadata": {
        "colab": {
          "base_uri": "https://localhost:8080/"
        },
        "id": "B0f_yy_LaNIO",
        "outputId": "44033401-f711-474b-eca6-9162c8e7ad58"
      },
      "source": [
        "#Creating param grids for Logistic Regression\n",
        "c_values = np.logspace(-4.5, 0, 20, endpoint=False)\n",
        "grid = [\n",
        "  {'penalty': ['l1'], 'solver': ['liblinear', 'saga'], 'C' : c_values},\n",
        "  {'penalty': ['l2'], 'solver': ['newton-cg', 'sag', 'lbfgs'], 'C' : c_values},\n",
        "  {'penalty': ['elasticnet'], 'solver': ['saga'], 'C' : c_values, 'l1_ratio' : np.logspace(-6, -1, 25)},\n",
        "]\n",
        "\n",
        "lr_precision = LogisticRegression(class_weight='balanced')\n",
        "lr_precision_gs = GridSearchCV(estimator=lr_precision, param_grid=grid, cv = 5, n_jobs=-1, scoring='precision')\n",
        "\n",
        "lr_precision_gs.fit(X_train_std, Y_train)\n"
      ],
      "execution_count": null,
      "outputs": [
        {
          "output_type": "execute_result",
          "data": {
            "text/plain": [
              "GridSearchCV(cv=5, error_score=nan,\n",
              "             estimator=LogisticRegression(C=1.0, class_weight='balanced',\n",
              "                                          dual=False, fit_intercept=True,\n",
              "                                          intercept_scaling=1, l1_ratio=None,\n",
              "                                          max_iter=100, multi_class='auto',\n",
              "                                          n_jobs=None, penalty='l2',\n",
              "                                          random_state=None, solver='lbfgs',\n",
              "                                          tol=0.0001, verbose=0,\n",
              "                                          warm_start=False),\n",
              "             iid='deprecated', n_jobs=-1,\n",
              "             param_grid=[{'C': array([3.16227766e-0...\n",
              "       4.64158883e-05, 7.49894209e-05, 1.21152766e-04, 1.95734178e-04,\n",
              "       3.16227766e-04, 5.10896977e-04, 8.25404185e-04, 1.33352143e-03,\n",
              "       2.15443469e-03, 3.48070059e-03, 5.62341325e-03, 9.08517576e-03,\n",
              "       1.46779927e-02, 2.37137371e-02, 3.83118685e-02, 6.18965819e-02,\n",
              "       1.00000000e-01]),\n",
              "                          'penalty': ['elasticnet'], 'solver': ['saga']}],\n",
              "             pre_dispatch='2*n_jobs', refit=True, return_train_score=False,\n",
              "             scoring='precision', verbose=0)"
            ]
          },
          "metadata": {
            "tags": []
          },
          "execution_count": 17
        }
      ]
    },
    {
      "cell_type": "code",
      "metadata": {
        "colab": {
          "base_uri": "https://localhost:8080/"
        },
        "id": "_mojt09aabOd",
        "outputId": "d52c2ea4-2a1b-40ec-bbd9-98c53319ecd7"
      },
      "source": [
        "best_lr_precision = lr_precision_gs.best_estimator_\n",
        "\n",
        "print(\"Best Hyperparameters\", lr_precision_gs.best_params_)\n",
        "print('Training score:', lr_precision_gs.best_score_)\n",
        "print('Test score:', best_lr_precision.score(X_test_std, Y_test))\n",
        "model_scores.append([lr_precision_gs.best_score_, best_lr_precision.score(X_test_std, Y_test)])"
      ],
      "execution_count": null,
      "outputs": [
        {
          "output_type": "stream",
          "text": [
            "Best Hyperparameters {'C': 5.308844442309879e-05, 'l1_ratio': 6.8129206905796085e-06, 'penalty': 'elasticnet', 'solver': 'saga'}\n",
            "Training score: 0.7773426573426574\n",
            "Test score: 0.8444444444444444\n"
          ],
          "name": "stdout"
        }
      ]
    },
    {
      "cell_type": "code",
      "metadata": {
        "colab": {
          "base_uri": "https://localhost:8080/",
          "height": 279
        },
        "id": "D99M9R6La7k_",
        "outputId": "29c2ca2d-f8a5-4bd3-f824-c2bdb908f327"
      },
      "source": [
        "plot_confusion_matrix(best_lr_precision, X_test_std, Y_test)\n",
        "plt.show() "
      ],
      "execution_count": null,
      "outputs": [
        {
          "output_type": "display_data",
          "data": {
            "image/png": "[encoded data removed]",
            "text/plain": [
              "<Figure size 432x288 with 2 Axes>"
            ]
          },
          "metadata": {
            "tags": [],
            "needs_background": "light"
          }
        }
      ]
    },
    {
      "cell_type": "markdown",
      "metadata": {
        "id": "2M0LfUOmapQI"
      },
      "source": [
        "##### F1"
      ]
    },
    {
      "cell_type": "code",
      "metadata": {
        "colab": {
          "base_uri": "https://localhost:8080/"
        },
        "id": "gqhJD80RasVK",
        "outputId": "e8372e81-25f6-470f-c256-675ce805c636"
      },
      "source": [
        "#Creating param grids for Logistic Regression\n",
        "c_values = np.logspace(-8, -5, 20)\n",
        "grid = [\n",
        "  {'penalty': ['l1', 'l2'], 'solver': ['liblinear', 'saga'], 'C' : c_values},\n",
        "  {'penalty': ['l2'], 'solver': ['newton-cg', 'sag', 'lbfgs'], 'C' : c_values},\n",
        "  {'penalty': ['elasticnet'], 'solver': ['saga'], 'C' : c_values, 'l1_ratio' : np.logspace(-7, -3, 20)}\n",
        "]\n",
        "\n",
        "lr_f1 = LogisticRegression(class_weight='balanced')\n",
        "lr_f1_gs = GridSearchCV(estimator=lr_f1, param_grid=grid, cv = 5, n_jobs=-1, scoring='f1')\n",
        "\n",
        "lr_f1_gs.fit(X_train_std, Y_train)"
      ],
      "execution_count": null,
      "outputs": [
        {
          "output_type": "execute_result",
          "data": {
            "text/plain": [
              "GridSearchCV(cv=5, error_score=nan,\n",
              "             estimator=LogisticRegression(C=1.0, class_weight='balanced',\n",
              "                                          dual=False, fit_intercept=True,\n",
              "                                          intercept_scaling=1, l1_ratio=None,\n",
              "                                          max_iter=100, multi_class='auto',\n",
              "                                          n_jobs=None, penalty='l2',\n",
              "                                          random_state=None, solver='lbfgs',\n",
              "                                          tol=0.0001, verbose=0,\n",
              "                                          warm_start=False),\n",
              "             iid='deprecated', n_jobs=-1,\n",
              "             param_grid=[{'C': array([1.00000000e-0...\n",
              "       6.95192796e-07, 1.12883789e-06, 1.83298071e-06, 2.97635144e-06,\n",
              "       4.83293024e-06, 7.84759970e-06, 1.27427499e-05, 2.06913808e-05,\n",
              "       3.35981829e-05, 5.45559478e-05, 8.85866790e-05, 1.43844989e-04,\n",
              "       2.33572147e-04, 3.79269019e-04, 6.15848211e-04, 1.00000000e-03]),\n",
              "                          'penalty': ['elasticnet'], 'solver': ['saga']}],\n",
              "             pre_dispatch='2*n_jobs', refit=True, return_train_score=False,\n",
              "             scoring='f1', verbose=0)"
            ]
          },
          "metadata": {
            "tags": []
          },
          "execution_count": 20
        }
      ]
    },
    {
      "cell_type": "code",
      "metadata": {
        "colab": {
          "base_uri": "https://localhost:8080/"
        },
        "id": "UODgLfQKazeC",
        "outputId": "384afc6b-c62b-43a4-b1f5-2f25b2866ab3"
      },
      "source": [
        "best_lr_f1 = lr_f1_gs.best_estimator_\n",
        "\n",
        "print(\"Best Hyperparameters\", lr_f1_gs.best_params_)\n",
        "print('Training score:', lr_f1_gs.best_score_)\n",
        "print('Test score:', best_lr_f1.score(X_test_std, Y_test))\n",
        "model_scores.append([lr_f1_gs.best_score_, best_lr_f1.score(X_test_std, Y_test)])"
      ],
      "execution_count": null,
      "outputs": [
        {
          "output_type": "stream",
          "text": [
            "Best Hyperparameters {'C': 1.8329807108324375e-07, 'penalty': 'l2', 'solver': 'newton-cg'}\n",
            "Training score: 0.7081066411238826\n",
            "Test score: 0.8222222222222222\n"
          ],
          "name": "stdout"
        }
      ]
    },
    {
      "cell_type": "code",
      "metadata": {
        "colab": {
          "base_uri": "https://localhost:8080/",
          "height": 279
        },
        "id": "XVgSWShFbG3N",
        "outputId": "d95571bf-879a-4da4-a146-7da01afc6b8f"
      },
      "source": [
        "plot_confusion_matrix(best_lr_f1, X_test_std, Y_test)\n",
        "plt.show() "
      ],
      "execution_count": null,
      "outputs": [
        {
          "output_type": "display_data",
          "data": {
            "image/png": "[encoded data removed]",
            "text/plain": [
              "<Figure size 432x288 with 2 Axes>"
            ]
          },
          "metadata": {
            "tags": [],
            "needs_background": "light"
          }
        }
      ]
    },
    {
      "cell_type": "markdown",
      "metadata": {
        "id": "pyXJYsPsF57h"
      },
      "source": [
        "### Support Vector Machine"
      ]
    },
    {
      "cell_type": "markdown",
      "metadata": {
        "id": "7C2CWnQOpGQx"
      },
      "source": [
        "##### Accuracy"
      ]
    },
    {
      "cell_type": "code",
      "metadata": {
        "id": "BHu6weY2Kg-G",
        "colab": {
          "base_uri": "https://localhost:8080/"
        },
        "outputId": "b3a8e4ba-30c9-4eb8-93d0-8270793b7cf3"
      },
      "source": [
        "#Creating param grids for Support Vector Machine\n",
        "c_range = np.linspace(0, 1, 20)\n",
        "\n",
        "degree_range = [2, 3, 4, 5, 6]\n",
        "grid = [\n",
        "  {'C' : c_range, 'degree' : degree_range, 'kernel' : ['linear', 'poly', 'rbf', 'sigmoid'], 'gamma' : ['scale', 'auto']},\n",
        "]\n",
        "\n",
        "svc_accuracy = SVC(class_weight='balanced')\n",
        "svc_accuracy_gs = GridSearchCV(estimator=svc_accuracy, param_grid=grid, cv = 5, n_jobs=-1, scoring='accuracy')\n",
        "svc_accuracy_gs.fit(X_train_std, Y_train)\n"
      ],
      "execution_count": null,
      "outputs": [
        {
          "output_type": "execute_result",
          "data": {
            "text/plain": [
              "GridSearchCV(cv=5, error_score=nan,\n",
              "             estimator=SVC(C=1.0, break_ties=False, cache_size=200,\n",
              "                           class_weight='balanced', coef0=0.0,\n",
              "                           decision_function_shape='ovr', degree=3,\n",
              "                           gamma='scale', kernel='rbf', max_iter=-1,\n",
              "                           probability=False, random_state=None, shrinking=True,\n",
              "                           tol=0.001, verbose=False),\n",
              "             iid='deprecated', n_jobs=-1,\n",
              "             param_grid=[{'C': array([0.        , 0.05263158, 0.10526316,...0.21052632,\n",
              "       0.26315789, 0.31578947, 0.36842105, 0.42105263, 0.47368421,\n",
              "       0.52631579, 0.57894737, 0.63157895, 0.68421053, 0.73684211,\n",
              "       0.78947368, 0.84210526, 0.89473684, 0.94736842, 1.        ]),\n",
              "                          'degree': [2, 3, 4, 5, 6], 'gamma': ['scale', 'auto'],\n",
              "                          'kernel': ['linear', 'poly', 'rbf', 'sigmoid']}],\n",
              "             pre_dispatch='2*n_jobs', refit=True, return_train_score=False,\n",
              "             scoring='accuracy', verbose=0)"
            ]
          },
          "metadata": {
            "tags": []
          },
          "execution_count": 23
        }
      ]
    },
    {
      "cell_type": "code",
      "metadata": {
        "id": "gfggfr-6FSN3",
        "colab": {
          "base_uri": "https://localhost:8080/"
        },
        "outputId": "93d34ca8-38b0-455d-e3a9-dcbb4a7970bb"
      },
      "source": [
        "best_svc_accuracy = svc_accuracy_gs.best_estimator_\n",
        "\n",
        "print(\"Best Hyperparameters\", svc_accuracy_gs.best_params_)\n",
        "print('Training score:', svc_accuracy_gs.best_score_)\n",
        "print('Test score:', best_svc_accuracy.score(X_test_std, Y_test))\n",
        "model_scores.append([svc_accuracy_gs.best_score_, best_svc_accuracy.score(X_test_std, Y_test)])"
      ],
      "execution_count": null,
      "outputs": [
        {
          "output_type": "stream",
          "text": [
            "Best Hyperparameters {'C': 0.2631578947368421, 'degree': 2, 'gamma': 'scale', 'kernel': 'rbf'}\n",
            "Training score: 0.7995354239256678\n",
            "Test score: 0.7666666666666667\n"
          ],
          "name": "stdout"
        }
      ]
    },
    {
      "cell_type": "code",
      "metadata": {
        "id": "tDsCO032OG0O",
        "colab": {
          "base_uri": "https://localhost:8080/",
          "height": 279
        },
        "outputId": "dea29401-828e-42a4-9e6f-637ef1f67624"
      },
      "source": [
        "plot_confusion_matrix(best_svc_accuracy, X_test_std, Y_test)\n",
        "plt.show() "
      ],
      "execution_count": null,
      "outputs": [
        {
          "output_type": "display_data",
          "data": {
            "image/png": "[encoded data removed]",
            "text/plain": [
              "<Figure size 432x288 with 2 Axes>"
            ]
          },
          "metadata": {
            "tags": [],
            "needs_background": "light"
          }
        }
      ]
    },
    {
      "cell_type": "markdown",
      "metadata": {
        "id": "DJw51EZDpNDa"
      },
      "source": [
        "##### Precision"
      ]
    },
    {
      "cell_type": "code",
      "metadata": {
        "colab": {
          "base_uri": "https://localhost:8080/"
        },
        "id": "T7lQBls2pXY3",
        "outputId": "22892f77-ef40-482d-d3c2-ccb14bb68d28"
      },
      "source": [
        "c_range = np.linspace(2, 5, 20)\n",
        "degree_range = [2, 3, 4, 5, 6, 7, 8]\n",
        "grid = [\n",
        "  {'C' : c_range, 'degree' : degree_range, 'kernel' : ['linear', 'poly', 'rbf', 'sigmoid'], 'gamma' : ['scale', 'auto']},\n",
        "]\n",
        "\n",
        "svc_precision = SVC(class_weight='balanced')\n",
        "# svc_precision = SVC(class_weight={'0.0': 2, '': 1})\n",
        "svc_precision_gs = GridSearchCV(estimator=svc_precision, param_grid=grid, cv = 5, n_jobs=-1, scoring='precision')\n",
        "svc_precision_gs.fit(X_train_std, Y_train)"
      ],
      "execution_count": null,
      "outputs": [
        {
          "output_type": "execute_result",
          "data": {
            "text/plain": [
              "GridSearchCV(cv=5, error_score=nan,\n",
              "             estimator=SVC(C=1.0, break_ties=False, cache_size=200,\n",
              "                           class_weight='balanced', coef0=0.0,\n",
              "                           decision_function_shape='ovr', degree=3,\n",
              "                           gamma='scale', kernel='rbf', max_iter=-1,\n",
              "                           probability=False, random_state=None, shrinking=True,\n",
              "                           tol=0.001, verbose=False),\n",
              "             iid='deprecated', n_jobs=-1,\n",
              "             param_grid=[{'C': array([2.        , 2.15789474, 2.31578947,...57895,\n",
              "       2.78947368, 2.94736842, 3.10526316, 3.26315789, 3.42105263,\n",
              "       3.57894737, 3.73684211, 3.89473684, 4.05263158, 4.21052632,\n",
              "       4.36842105, 4.52631579, 4.68421053, 4.84210526, 5.        ]),\n",
              "                          'degree': [2, 3, 4, 5, 6, 7, 8],\n",
              "                          'gamma': ['scale', 'auto'],\n",
              "                          'kernel': ['linear', 'poly', 'rbf', 'sigmoid']}],\n",
              "             pre_dispatch='2*n_jobs', refit=True, return_train_score=False,\n",
              "             scoring='precision', verbose=0)"
            ]
          },
          "metadata": {
            "tags": []
          },
          "execution_count": 26
        }
      ]
    },
    {
      "cell_type": "code",
      "metadata": {
        "colab": {
          "base_uri": "https://localhost:8080/"
        },
        "id": "4WyfvkOapXbM",
        "outputId": "1dbe5a9f-23eb-40b0-f1b5-3b771d8dd907"
      },
      "source": [
        "best_svc_precision = svc_precision_gs.best_estimator_\n",
        "\n",
        "print(\"Best Hyperparameters\", svc_precision_gs.best_params_)\n",
        "print('Training score:', svc_precision_gs.best_score_)\n",
        "print('Test score:', best_svc_precision.score(X_test_std, Y_test))\n",
        "model_scores.append([svc_precision_gs.best_score_, best_svc_precision.score(X_test_std, Y_test)])"
      ],
      "execution_count": null,
      "outputs": [
        {
          "output_type": "stream",
          "text": [
            "Best Hyperparameters {'C': 2.6315789473684212, 'degree': 5, 'gamma': 'scale', 'kernel': 'poly'}\n",
            "Training score: 0.8457142857142858\n",
            "Test score: 0.7111111111111111\n"
          ],
          "name": "stdout"
        }
      ]
    },
    {
      "cell_type": "code",
      "metadata": {
        "colab": {
          "base_uri": "https://localhost:8080/",
          "height": 279
        },
        "id": "skMKneXMpXnz",
        "outputId": "941e7196-f914-45ed-fee0-55a623f65c45"
      },
      "source": [
        "plot_confusion_matrix(best_svc_precision, X_test_std, Y_test)\n",
        "plt.show() "
      ],
      "execution_count": null,
      "outputs": [
        {
          "output_type": "display_data",
          "data": {
            "image/png": "[encoded data removed]",
            "text/plain": [
              "<Figure size 432x288 with 2 Axes>"
            ]
          },
          "metadata": {
            "tags": [],
            "needs_background": "light"
          }
        }
      ]
    },
    {
      "cell_type": "markdown",
      "metadata": {
        "id": "dR8ME2d7pQhH"
      },
      "source": [
        "##### Recall"
      ]
    },
    {
      "cell_type": "code",
      "metadata": {
        "colab": {
          "base_uri": "https://localhost:8080/"
        },
        "id": "Cc8X1SJwpYUx",
        "outputId": "2a40e1ec-64b9-45df-d0c3-789e4c14a489"
      },
      "source": [
        "c_range = np.linspace(0,5, 20, endpoint=False)\n",
        "degree_range = [2, 3, 4, 5, 6, 7, 8]\n",
        "grid = [\n",
        "  {'C' : c_range, 'degree' : degree_range, 'kernel' : ['linear', 'poly', 'rbf', 'sigmoid'], 'gamma' : ['scale', 'auto']},\n",
        "]\n",
        "\n",
        "svc_recall = SVC(class_weight='balanced')\n",
        "svc_recall_gs = GridSearchCV(estimator=svc_recall, param_grid=grid, cv = 5, n_jobs=-1, scoring='recall')\n",
        "svc_recall_gs.fit(X_train_std, Y_train)"
      ],
      "execution_count": null,
      "outputs": [
        {
          "output_type": "execute_result",
          "data": {
            "text/plain": [
              "GridSearchCV(cv=5, error_score=nan,\n",
              "             estimator=SVC(C=1.0, break_ties=False, cache_size=200,\n",
              "                           class_weight='balanced', coef0=0.0,\n",
              "                           decision_function_shape='ovr', degree=3,\n",
              "                           gamma='scale', kernel='rbf', max_iter=-1,\n",
              "                           probability=False, random_state=None, shrinking=True,\n",
              "                           tol=0.001, verbose=False),\n",
              "             iid='deprecated', n_jobs=-1,\n",
              "             param_grid=[{'C': array([0.  , 0.25, 0.5 , 0.75, 1.  , 1.25, 1.5 , 1.75, 2.  , 2.25, 2.5 ,\n",
              "       2.75, 3.  , 3.25, 3.5 , 3.75, 4.  , 4.25, 4.5 , 4.75]),\n",
              "                          'degree': [2, 3, 4, 5, 6, 7, 8],\n",
              "                          'gamma': ['scale', 'auto'],\n",
              "                          'kernel': ['linear', 'poly', 'rbf', 'sigmoid']}],\n",
              "             pre_dispatch='2*n_jobs', refit=True, return_train_score=False,\n",
              "             scoring='recall', verbose=0)"
            ]
          },
          "metadata": {
            "tags": []
          },
          "execution_count": 29
        }
      ]
    },
    {
      "cell_type": "code",
      "metadata": {
        "colab": {
          "base_uri": "https://localhost:8080/"
        },
        "id": "N0EXrwHlpYW_",
        "outputId": "32a09834-40b5-485f-cbba-d98d52a86b4b"
      },
      "source": [
        "best_svc_recall = svc_recall_gs.best_estimator_\n",
        "\n",
        "print(\"Best Hyperparameters\", svc_recall_gs.best_params_)\n",
        "print('Training score:', svc_recall_gs.best_score_)\n",
        "print('Test score:', best_svc_recall.score(X_test_std, Y_test))\n",
        "model_scores.append([svc_recall_gs.best_score_, best_svc_recall.score(X_test_std, Y_test)])"
      ],
      "execution_count": null,
      "outputs": [
        {
          "output_type": "stream",
          "text": [
            "Best Hyperparameters {'C': 1.0, 'degree': 2, 'gamma': 'auto', 'kernel': 'sigmoid'}\n",
            "Training score: 0.8362637362637363\n",
            "Test score: 0.7666666666666667\n"
          ],
          "name": "stdout"
        }
      ]
    },
    {
      "cell_type": "code",
      "metadata": {
        "colab": {
          "base_uri": "https://localhost:8080/",
          "height": 279
        },
        "id": "NXkGFJrXpYZW",
        "outputId": "5b00c0e9-c015-40af-fa4d-b88c753ccb77"
      },
      "source": [
        "plot_confusion_matrix(best_svc_recall, X_test_std, Y_test)\n",
        "plt.show() "
      ],
      "execution_count": null,
      "outputs": [
        {
          "output_type": "display_data",
          "data": {
            "image/png": "[encoded data removed]",
            "text/plain": [
              "<Figure size 432x288 with 2 Axes>"
            ]
          },
          "metadata": {
            "tags": [],
            "needs_background": "light"
          }
        }
      ]
    },
    {
      "cell_type": "markdown",
      "metadata": {
        "id": "QchD8IBXpQwa"
      },
      "source": [
        "##### F1"
      ]
    },
    {
      "cell_type": "code",
      "metadata": {
        "colab": {
          "base_uri": "https://localhost:8080/"
        },
        "id": "kCqKESk0pZCZ",
        "outputId": "70be5142-cdb8-46db-b790-5c81a63782cb"
      },
      "source": [
        "# c_range = np.linspace(-2, 2, 20)\n",
        "c_range = np.logspace(-4, -1, 20)\n",
        "degree_range = [2, 3, 4, 5, 6, 7, 8]\n",
        "grid = [\n",
        "  {'C' : c_range, 'degree' : degree_range, 'kernel' : ['linear', 'poly', 'rbf', 'sigmoid'], 'gamma' : ['scale', 'auto']},\n",
        "]\n",
        "\n",
        "svc_f1 = SVC(class_weight='balanced')\n",
        "svc_f1_gs = GridSearchCV(estimator=svc_f1, param_grid=grid, cv = 10, n_jobs=-1, scoring='f1')\n",
        "svc_f1_gs.fit(X_train_std, Y_train)"
      ],
      "execution_count": null,
      "outputs": [
        {
          "output_type": "execute_result",
          "data": {
            "text/plain": [
              "GridSearchCV(cv=10, error_score=nan,\n",
              "             estimator=SVC(C=1.0, break_ties=False, cache_size=200,\n",
              "                           class_weight='balanced', coef0=0.0,\n",
              "                           decision_function_shape='ovr', degree=3,\n",
              "                           gamma='scale', kernel='rbf', max_iter=-1,\n",
              "                           probability=False, random_state=None, shrinking=True,\n",
              "                           tol=0.001, verbose=False),\n",
              "             iid='deprecated', n_jobs=-1,\n",
              "             param_grid=[{'C': array([0.0001    , 0.00014384, 0.0002...64, 0.00042813,\n",
              "       0.00061585, 0.00088587, 0.00127427, 0.00183298, 0.00263665,\n",
              "       0.00379269, 0.00545559, 0.0078476 , 0.01128838, 0.01623777,\n",
              "       0.02335721, 0.03359818, 0.0483293 , 0.06951928, 0.1       ]),\n",
              "                          'degree': [2, 3, 4, 5, 6, 7, 8],\n",
              "                          'gamma': ['scale', 'auto'],\n",
              "                          'kernel': ['linear', 'poly', 'rbf', 'sigmoid']}],\n",
              "             pre_dispatch='2*n_jobs', refit=True, return_train_score=False,\n",
              "             scoring='f1', verbose=0)"
            ]
          },
          "metadata": {
            "tags": []
          },
          "execution_count": 32
        }
      ]
    },
    {
      "cell_type": "code",
      "metadata": {
        "colab": {
          "base_uri": "https://localhost:8080/"
        },
        "id": "KXxyekoApZE8",
        "outputId": "4e0ceb9b-f6b1-4ae7-b78d-516a378a99b2"
      },
      "source": [
        "best_svc_f1 = svc_f1_gs.best_estimator_\n",
        "\n",
        "print(\"Best Hyperparameters\", svc_f1_gs.best_params_)\n",
        "print('Training score:', svc_f1_gs.best_score_)\n",
        "print('Test score:', best_svc_f1.score(X_test_std, Y_test))\n",
        "model_scores.append([svc_f1_gs.best_score_, best_svc_f1.score(X_test_std, Y_test)])"
      ],
      "execution_count": null,
      "outputs": [
        {
          "output_type": "stream",
          "text": [
            "Best Hyperparameters {'C': 0.03359818286283781, 'degree': 2, 'gamma': 'auto', 'kernel': 'sigmoid'}\n",
            "Training score: 0.726491008991009\n",
            "Test score: 0.8222222222222222\n"
          ],
          "name": "stdout"
        }
      ]
    },
    {
      "cell_type": "code",
      "metadata": {
        "colab": {
          "base_uri": "https://localhost:8080/",
          "height": 279
        },
        "id": "R6wiojRgpZHe",
        "outputId": "d8be0534-7470-4b6c-c2f0-65cd72066e8d"
      },
      "source": [
        "plot_confusion_matrix(best_svc_f1, X_test_std, Y_test)\n",
        "plt.show() "
      ],
      "execution_count": null,
      "outputs": [
        {
          "output_type": "display_data",
          "data": {
            "image/png": "[encoded data removed]",
            "text/plain": [
              "<Figure size 432x288 with 2 Axes>"
            ]
          },
          "metadata": {
            "tags": [],
            "needs_background": "light"
          }
        }
      ]
    },
    {
      "cell_type": "markdown",
      "metadata": {
        "id": "TipESNfKiOiW"
      },
      "source": [
        "### MLP Classifiers"
      ]
    },
    {
      "cell_type": "markdown",
      "metadata": {
        "id": "oy3HDcX2BPkW"
      },
      "source": [
        "##### Accuracy"
      ]
    },
    {
      "cell_type": "code",
      "metadata": {
        "id": "G4QREWLRkFyW",
        "colab": {
          "base_uri": "https://localhost:8080/"
        },
        "outputId": "ea987b4f-d290-4d30-9e4a-be3fa11ac679"
      },
      "source": [
        "#Creating param grids for MLP\n",
        "alpha_range = np.logspace(-3, 1, 25, endpoint=True)\n",
        "grid = [\n",
        "  {'hidden_layer_sizes': [(12, ), (10,32)], 'activation' : ['logistic'], 'solver' : ['lbfgs', 'sgd', 'adam'], 'alpha' : alpha_range},\n",
        "]\n",
        "\n",
        "mlp_accuracy = MLPClassifier(max_iter=500)\n",
        "mlp_gs_accuracy = GridSearchCV(estimator=mlp_accuracy, param_grid=grid, cv = 5, n_jobs=-1, scoring='accuracy')\n",
        "mlp_gs_accuracy.fit(X_train_std, Y_train)"
      ],
      "execution_count": null,
      "outputs": [
        {
          "output_type": "execute_result",
          "data": {
            "text/plain": [
              "GridSearchCV(cv=5, error_score=nan,\n",
              "             estimator=MLPClassifier(activation='relu', alpha=0.0001,\n",
              "                                     batch_size='auto', beta_1=0.9,\n",
              "                                     beta_2=0.999, early_stopping=False,\n",
              "                                     epsilon=1e-08, hidden_layer_sizes=(100,),\n",
              "                                     learning_rate='constant',\n",
              "                                     learning_rate_init=0.001, max_fun=15000,\n",
              "                                     max_iter=500, momentum=0.9,\n",
              "                                     n_iter_no_change=10,\n",
              "                                     nesterovs_momentum=True, power_t=0.5,\n",
              "                                     random_state...\n",
              "       1.00000000e-01, 1.46779927e-01, 2.15443469e-01, 3.16227766e-01,\n",
              "       4.64158883e-01, 6.81292069e-01, 1.00000000e+00, 1.46779927e+00,\n",
              "       2.15443469e+00, 3.16227766e+00, 4.64158883e+00, 6.81292069e+00,\n",
              "       1.00000000e+01]),\n",
              "                          'hidden_layer_sizes': [(12,), (10, 32)],\n",
              "                          'solver': ['lbfgs', 'sgd', 'adam']}],\n",
              "             pre_dispatch='2*n_jobs', refit=True, return_train_score=False,\n",
              "             scoring='accuracy', verbose=0)"
            ]
          },
          "metadata": {
            "tags": []
          },
          "execution_count": 35
        }
      ]
    },
    {
      "cell_type": "code",
      "metadata": {
        "id": "PDxZw9bQLsRH",
        "colab": {
          "base_uri": "https://localhost:8080/"
        },
        "outputId": "ca66fd6d-d2b9-4410-b857-a82432276bf6"
      },
      "source": [
        "best_mlp_accuracy = mlp_gs_accuracy.best_estimator_\n",
        "\n",
        "print(\"Best Hyperparameters\", mlp_gs_accuracy.best_params_)\n",
        "print('Training score:', mlp_gs_accuracy.best_score_)\n",
        "print('Test score:', best_mlp_accuracy.score(X_test_std, Y_test))\n",
        "model_scores.append([mlp_gs_accuracy.best_score_, best_mlp_accuracy.score(X_test_std, Y_test)])"
      ],
      "execution_count": null,
      "outputs": [
        {
          "output_type": "stream",
          "text": [
            "Best Hyperparameters {'activation': 'logistic', 'alpha': 1.0, 'hidden_layer_sizes': (12,), 'solver': 'lbfgs'}\n",
            "Training score: 0.837862950058072\n",
            "Test score: 0.8111111111111111\n"
          ],
          "name": "stdout"
        }
      ]
    },
    {
      "cell_type": "code",
      "metadata": {
        "id": "OMqj4WoVkGW2",
        "colab": {
          "base_uri": "https://localhost:8080/",
          "height": 279
        },
        "outputId": "38eb358b-8690-4b60-e550-8cf15171b7d7"
      },
      "source": [
        "plot_confusion_matrix(best_mlp_accuracy, X_test_std, Y_test)\n",
        "plt.show() "
      ],
      "execution_count": null,
      "outputs": [
        {
          "output_type": "display_data",
          "data": {
            "image/png": "[encoded data removed]",
            "text/plain": [
              "<Figure size 432x288 with 2 Axes>"
            ]
          },
          "metadata": {
            "tags": [],
            "needs_background": "light"
          }
        }
      ]
    },
    {
      "cell_type": "markdown",
      "metadata": {
        "id": "7cwe1ZXWH4Xk"
      },
      "source": [
        "##### Precision"
      ]
    },
    {
      "cell_type": "code",
      "metadata": {
        "colab": {
          "base_uri": "https://localhost:8080/"
        },
        "id": "-qazZ3fTIIXF",
        "outputId": "1cf2a87c-964f-4531-ec07-8ff480c4a9db"
      },
      "source": [
        "#Creating param grids for MLP\n",
        "alpha_range = np.logspace(-2, 2, 20, endpoint=True)\n",
        "grid = [\n",
        "  {'hidden_layer_sizes': [(12, ), (10,32)], 'activation' : ['logistic', 'tanh', 'relu'], 'solver' : ['lbfgs', 'sgd', 'adam'], 'alpha' : alpha_range},\n",
        "]\n",
        "\n",
        "mlp_precision = MLPClassifier(max_iter=250)\n",
        "mlp_gs_precision = GridSearchCV(estimator=mlp_precision, param_grid=grid, cv = 5, n_jobs=-1, scoring='precision')\n",
        "mlp_gs_precision.fit(X_train_std, Y_train)"
      ],
      "execution_count": null,
      "outputs": [
        {
          "output_type": "stream",
          "text": [
            "/usr/local/lib/python3.7/dist-packages/sklearn/neural_network/_multilayer_perceptron.py:571: ConvergenceWarning: Stochastic Optimizer: Maximum iterations (250) reached and the optimization hasn't converged yet.\n",
            "  % self.max_iter, ConvergenceWarning)\n"
          ],
          "name": "stderr"
        },
        {
          "output_type": "execute_result",
          "data": {
            "text/plain": [
              "GridSearchCV(cv=5, error_score=nan,\n",
              "             estimator=MLPClassifier(activation='relu', alpha=0.0001,\n",
              "                                     batch_size='auto', beta_1=0.9,\n",
              "                                     beta_2=0.999, early_stopping=False,\n",
              "                                     epsilon=1e-08, hidden_layer_sizes=(100,),\n",
              "                                     learning_rate='constant',\n",
              "                                     learning_rate_init=0.001, max_fun=15000,\n",
              "                                     max_iter=250, momentum=0.9,\n",
              "                                     n_iter_no_change=10,\n",
              "                                     nesterovs_momentum=True, power_t=0.5,\n",
              "                                     random_state...\n",
              "       6.95192796e-02, 1.12883789e-01, 1.83298071e-01, 2.97635144e-01,\n",
              "       4.83293024e-01, 7.84759970e-01, 1.27427499e+00, 2.06913808e+00,\n",
              "       3.35981829e+00, 5.45559478e+00, 8.85866790e+00, 1.43844989e+01,\n",
              "       2.33572147e+01, 3.79269019e+01, 6.15848211e+01, 1.00000000e+02]),\n",
              "                          'hidden_layer_sizes': [(12,), (10, 32)],\n",
              "                          'solver': ['lbfgs', 'sgd', 'adam']}],\n",
              "             pre_dispatch='2*n_jobs', refit=True, return_train_score=False,\n",
              "             scoring='precision', verbose=0)"
            ]
          },
          "metadata": {
            "tags": []
          },
          "execution_count": 38
        }
      ]
    },
    {
      "cell_type": "code",
      "metadata": {
        "colab": {
          "base_uri": "https://localhost:8080/"
        },
        "id": "KS2PnQUKIIuU",
        "outputId": "5648dfa6-b7c9-40bb-8e59-4d8302a413ac"
      },
      "source": [
        "best_mlp_precision = mlp_gs_precision.best_estimator_\n",
        "\n",
        "print(\"Best Hyperparameters\", mlp_gs_precision.best_params_)\n",
        "print('Training score:', mlp_gs_precision.best_score_)\n",
        "print('Test score:', best_mlp_precision.score(X_test_std, Y_test))\n",
        "model_scores.append([mlp_gs_precision.best_score_, best_mlp_precision.score(X_test_std, Y_test)])"
      ],
      "execution_count": null,
      "outputs": [
        {
          "output_type": "stream",
          "text": [
            "Best Hyperparameters {'activation': 'relu', 'alpha': 0.4832930238571752, 'hidden_layer_sizes': (10, 32), 'solver': 'sgd'}\n",
            "Training score: 0.9\n",
            "Test score: 0.7222222222222222\n"
          ],
          "name": "stdout"
        }
      ]
    },
    {
      "cell_type": "code",
      "metadata": {
        "colab": {
          "base_uri": "https://localhost:8080/",
          "height": 279
        },
        "id": "6XqH-wldII_9",
        "outputId": "cab60017-5f53-4d96-b0eb-2ffb5d430f9e"
      },
      "source": [
        "plot_confusion_matrix(best_mlp_precision, X_test_std, Y_test)\n",
        "plt.show() "
      ],
      "execution_count": null,
      "outputs": [
        {
          "output_type": "display_data",
          "data": {
            "image/png": "[encoded data removed]",
            "text/plain": [
              "<Figure size 432x288 with 2 Axes>"
            ]
          },
          "metadata": {
            "tags": [],
            "needs_background": "light"
          }
        }
      ]
    },
    {
      "cell_type": "markdown",
      "metadata": {
        "id": "eHGDtJJPH9Y4"
      },
      "source": [
        "##### Recall"
      ]
    },
    {
      "cell_type": "code",
      "metadata": {
        "colab": {
          "base_uri": "https://localhost:8080/"
        },
        "id": "nzU7yNIMILEL",
        "outputId": "8820e527-123d-401c-e715-887d004c5622"
      },
      "source": [
        "#Creating param grids for MLP\n",
        "alpha_range = np.logspace(-2, 2, 20, endpoint=True)\n",
        "grid = [\n",
        "  {'hidden_layer_sizes': [(12, ), (10,32)], 'activation' : ['logistic', 'tanh', 'relu'], 'solver' : ['lbfgs', 'sgd', 'adam'], 'alpha' : alpha_range},\n",
        "]\n",
        "\n",
        "mlp_recall = MLPClassifier(max_iter=500)\n",
        "mlp_gs_recall = GridSearchCV(estimator=mlp_recall, param_grid=grid, cv = 5, n_jobs=-1, scoring='recall')\n",
        "mlp_gs_recall.fit(X_train_std, Y_train)"
      ],
      "execution_count": null,
      "outputs": [
        {
          "output_type": "execute_result",
          "data": {
            "text/plain": [
              "GridSearchCV(cv=5, error_score=nan,\n",
              "             estimator=MLPClassifier(activation='relu', alpha=0.0001,\n",
              "                                     batch_size='auto', beta_1=0.9,\n",
              "                                     beta_2=0.999, early_stopping=False,\n",
              "                                     epsilon=1e-08, hidden_layer_sizes=(100,),\n",
              "                                     learning_rate='constant',\n",
              "                                     learning_rate_init=0.001, max_fun=15000,\n",
              "                                     max_iter=500, momentum=0.9,\n",
              "                                     n_iter_no_change=10,\n",
              "                                     nesterovs_momentum=True, power_t=0.5,\n",
              "                                     random_state...\n",
              "       6.95192796e-02, 1.12883789e-01, 1.83298071e-01, 2.97635144e-01,\n",
              "       4.83293024e-01, 7.84759970e-01, 1.27427499e+00, 2.06913808e+00,\n",
              "       3.35981829e+00, 5.45559478e+00, 8.85866790e+00, 1.43844989e+01,\n",
              "       2.33572147e+01, 3.79269019e+01, 6.15848211e+01, 1.00000000e+02]),\n",
              "                          'hidden_layer_sizes': [(12,), (10, 32)],\n",
              "                          'solver': ['lbfgs', 'sgd', 'adam']}],\n",
              "             pre_dispatch='2*n_jobs', refit=True, return_train_score=False,\n",
              "             scoring='recall', verbose=0)"
            ]
          },
          "metadata": {
            "tags": []
          },
          "execution_count": 41
        }
      ]
    },
    {
      "cell_type": "code",
      "metadata": {
        "colab": {
          "base_uri": "https://localhost:8080/"
        },
        "id": "BbikTYDQILNr",
        "outputId": "64dea11b-4f93-4475-bffd-a87eb1f46878"
      },
      "source": [
        "best_mlp_recall = mlp_gs_recall.best_estimator_\n",
        "\n",
        "print(\"Best Hyperparameters\", mlp_gs_recall.best_params_)\n",
        "print('Training score:', mlp_gs_recall.best_score_)\n",
        "print('Test score:', best_mlp_recall.score(X_test_std, Y_test))\n",
        "model_scores.append([mlp_gs_recall.best_score_, best_mlp_recall.score(X_test_std, Y_test)])"
      ],
      "execution_count": null,
      "outputs": [
        {
          "output_type": "stream",
          "text": [
            "Best Hyperparameters {'activation': 'logistic', 'alpha': 0.01, 'hidden_layer_sizes': (12,), 'solver': 'lbfgs'}\n",
            "Training score: 0.7296703296703296\n",
            "Test score: 0.7666666666666667\n"
          ],
          "name": "stdout"
        }
      ]
    },
    {
      "cell_type": "code",
      "metadata": {
        "colab": {
          "base_uri": "https://localhost:8080/",
          "height": 279
        },
        "id": "_XJ91apjILYl",
        "outputId": "562f2ac3-b6a1-4d5a-a3bc-59c3bbded948"
      },
      "source": [
        "plot_confusion_matrix(best_mlp_recall, X_test_std, Y_test)\n",
        "plt.show()"
      ],
      "execution_count": null,
      "outputs": [
        {
          "output_type": "display_data",
          "data": {
            "image/png": "[encoded data removed]",
            "text/plain": [
              "<Figure size 432x288 with 2 Axes>"
            ]
          },
          "metadata": {
            "tags": [],
            "needs_background": "light"
          }
        }
      ]
    },
    {
      "cell_type": "markdown",
      "metadata": {
        "id": "_zD0mwYKETvI"
      },
      "source": []
    },
    {
      "cell_type": "markdown",
      "metadata": {
        "id": "K7xk2PNsH_vt"
      },
      "source": [
        "##### F1"
      ]
    },
    {
      "cell_type": "code",
      "metadata": {
        "id": "GHj0K5O0IMN3",
        "colab": {
          "base_uri": "https://localhost:8080/"
        },
        "outputId": "16c69970-8600-4ef7-cc92-caae872c9720"
      },
      "source": [
        "#Creating param grids for MLP\n",
        "alpha_range = np.logspace(-2, 2, 20, endpoint=True)\n",
        "grid = [\n",
        "  {'hidden_layer_sizes': [(12, ), (10,32)], 'activation' : ['logistic', 'tanh', 'relu'], 'solver' : ['lbfgs', 'sgd', 'adam'], 'alpha' : alpha_range},\n",
        "]\n",
        "\n",
        "mlp_f1 = MLPClassifier(max_iter=500)\n",
        "mlp_gs_f1 = GridSearchCV(estimator=mlp_f1, param_grid=grid, cv = 5, n_jobs=-1, scoring='f1')\n",
        "mlp_gs_f1.fit(X_train_std, Y_train)"
      ],
      "execution_count": null,
      "outputs": [
        {
          "output_type": "execute_result",
          "data": {
            "text/plain": [
              "GridSearchCV(cv=5, error_score=nan,\n",
              "             estimator=MLPClassifier(activation='relu', alpha=0.0001,\n",
              "                                     batch_size='auto', beta_1=0.9,\n",
              "                                     beta_2=0.999, early_stopping=False,\n",
              "                                     epsilon=1e-08, hidden_layer_sizes=(100,),\n",
              "                                     learning_rate='constant',\n",
              "                                     learning_rate_init=0.001, max_fun=15000,\n",
              "                                     max_iter=500, momentum=0.9,\n",
              "                                     n_iter_no_change=10,\n",
              "                                     nesterovs_momentum=True, power_t=0.5,\n",
              "                                     random_state...\n",
              "       6.95192796e-02, 1.12883789e-01, 1.83298071e-01, 2.97635144e-01,\n",
              "       4.83293024e-01, 7.84759970e-01, 1.27427499e+00, 2.06913808e+00,\n",
              "       3.35981829e+00, 5.45559478e+00, 8.85866790e+00, 1.43844989e+01,\n",
              "       2.33572147e+01, 3.79269019e+01, 6.15848211e+01, 1.00000000e+02]),\n",
              "                          'hidden_layer_sizes': [(12,), (10, 32)],\n",
              "                          'solver': ['lbfgs', 'sgd', 'adam']}],\n",
              "             pre_dispatch='2*n_jobs', refit=True, return_train_score=False,\n",
              "             scoring='f1', verbose=0)"
            ]
          },
          "metadata": {
            "tags": []
          },
          "execution_count": 44
        }
      ]
    },
    {
      "cell_type": "code",
      "metadata": {
        "id": "IBOvhoTjIMT7",
        "colab": {
          "base_uri": "https://localhost:8080/"
        },
        "outputId": "49c97aa8-2e9a-46af-8baf-58c90bb82948"
      },
      "source": [
        "best_mlp_f1 = mlp_gs_f1.best_estimator_\n",
        "\n",
        "print(\"Best Hyperparameters\", mlp_gs_f1.best_params_)\n",
        "print('Training score:', mlp_gs_f1.best_score_)\n",
        "print('Test score:', best_mlp_f1.score(X_test_std, Y_test))\n",
        "model_scores.append([mlp_gs_f1.best_score_, best_mlp_f1.score(X_test_std, Y_test)])"
      ],
      "execution_count": null,
      "outputs": [
        {
          "output_type": "stream",
          "text": [
            "Best Hyperparameters {'activation': 'tanh', 'alpha': 0.7847599703514611, 'hidden_layer_sizes': (12,), 'solver': 'adam'}\n",
            "Training score: 0.7252507492507492\n",
            "Test score: 0.8111111111111111\n"
          ],
          "name": "stdout"
        }
      ]
    },
    {
      "cell_type": "code",
      "metadata": {
        "id": "NHiSV_6oIMcv",
        "colab": {
          "base_uri": "https://localhost:8080/",
          "height": 279
        },
        "outputId": "488baf90-e961-4300-c1af-71702f669ad0"
      },
      "source": [
        "plot_confusion_matrix(best_mlp_f1, X_test_std, Y_test)\n",
        "plt.show()"
      ],
      "execution_count": null,
      "outputs": [
        {
          "output_type": "display_data",
          "data": {
            "image/png": "[encoded data removed]",
            "text/plain": [
              "<Figure size 432x288 with 2 Axes>"
            ]
          },
          "metadata": {
            "tags": [],
            "needs_background": "light"
          }
        }
      ]
    },
    {
      "cell_type": "markdown",
      "metadata": {
        "id": "0WyAgpTqiUfP"
      },
      "source": [
        "### Decision Trees"
      ]
    },
    {
      "cell_type": "markdown",
      "metadata": {
        "id": "0uYtrpOgNEhC"
      },
      "source": [
        "##### Accuracy"
      ]
    },
    {
      "cell_type": "code",
      "metadata": {
        "id": "XnY7egGEkHh0",
        "colab": {
          "base_uri": "https://localhost:8080/"
        },
        "outputId": "a63af835-2d14-47f2-899f-75f47d5c04be"
      },
      "source": [
        "#Creating param grids for Decision Tree\n",
        "grid = [\n",
        "  {'criterion' : ['gini', 'entropy'], 'splitter' : ['best', 'random'], 'ccp_alpha' : np.logspace(-3, 0, 20)},\n",
        "]\n",
        "\n",
        "tree_accuracy = DecisionTreeClassifier(class_weight='balanced')\n",
        "tree_gs_accuracy = GridSearchCV(estimator=tree_accuracy, param_grid=grid, cv = 5, n_jobs=-1, scoring='accuracy')\n",
        "\n",
        "tree_gs_accuracy.fit(X_train_std, Y_train)"
      ],
      "execution_count": null,
      "outputs": [
        {
          "output_type": "execute_result",
          "data": {
            "text/plain": [
              "GridSearchCV(cv=5, error_score=nan,\n",
              "             estimator=DecisionTreeClassifier(ccp_alpha=0.0,\n",
              "                                              class_weight='balanced',\n",
              "                                              criterion='gini', max_depth=None,\n",
              "                                              max_features=None,\n",
              "                                              max_leaf_nodes=None,\n",
              "                                              min_impurity_decrease=0.0,\n",
              "                                              min_impurity_split=None,\n",
              "                                              min_samples_leaf=1,\n",
              "                                              min_samples_split=2,\n",
              "                                              min_weight_fraction_leaf=0.0,\n",
              "                                              presort='deprecated',\n",
              "                                              random_state=None,\n",
              "                                              splitter='best'),\n",
              "             i...\n",
              "             param_grid=[{'ccp_alpha': array([0.001     , 0.00143845, 0.00206914, 0.00297635, 0.00428133,\n",
              "       0.00615848, 0.00885867, 0.01274275, 0.01832981, 0.02636651,\n",
              "       0.0379269 , 0.05455595, 0.078476  , 0.11288379, 0.16237767,\n",
              "       0.23357215, 0.33598183, 0.48329302, 0.6951928 , 1.        ]),\n",
              "                          'criterion': ['gini', 'entropy'],\n",
              "                          'splitter': ['best', 'random']}],\n",
              "             pre_dispatch='2*n_jobs', refit=True, return_train_score=False,\n",
              "             scoring='accuracy', verbose=0)"
            ]
          },
          "metadata": {
            "tags": []
          },
          "execution_count": 47
        }
      ]
    },
    {
      "cell_type": "code",
      "metadata": {
        "id": "Uxul9Q9bkH7w",
        "colab": {
          "base_uri": "https://localhost:8080/"
        },
        "outputId": "456e0c29-a487-4f51-ab72-8e90e50f4e8f"
      },
      "source": [
        "best_tree_accuracy = tree_gs_accuracy.best_estimator_\n",
        "\n",
        "print(\"Best Hyperparameters\", tree_gs_accuracy.best_params_)\n",
        "print('Training score:', tree_gs_accuracy.best_score_)\n",
        "print('Test score:', best_tree_accuracy.score(X_test_std, Y_test))\n",
        "model_scores.append([tree_gs_accuracy.best_score_, best_tree_accuracy.score(X_test_std, Y_test)])"
      ],
      "execution_count": null,
      "outputs": [
        {
          "output_type": "stream",
          "text": [
            "Best Hyperparameters {'ccp_alpha': 0.11288378916846883, 'criterion': 'gini', 'splitter': 'best'}\n",
            "Training score: 0.8328687572590013\n",
            "Test score: 0.8555555555555555\n"
          ],
          "name": "stdout"
        }
      ]
    },
    {
      "cell_type": "code",
      "metadata": {
        "id": "j5evDyKeXgnT",
        "colab": {
          "base_uri": "https://localhost:8080/",
          "height": 279
        },
        "outputId": "538eca17-ca2e-4f09-f277-076c129c7540"
      },
      "source": [
        "plot_confusion_matrix(best_tree_accuracy, X_test_std, Y_test)\n",
        "plt.show() "
      ],
      "execution_count": null,
      "outputs": [
        {
          "output_type": "display_data",
          "data": {
            "image/png": "[encoded data removed]",
            "text/plain": [
              "<Figure size 432x288 with 2 Axes>"
            ]
          },
          "metadata": {
            "tags": [],
            "needs_background": "light"
          }
        }
      ]
    },
    {
      "cell_type": "code",
      "metadata": {
        "id": "yATqEuhbXi0q",
        "colab": {
          "base_uri": "https://localhost:8080/",
          "height": 281
        },
        "outputId": "a6482f52-bad0-4052-c4c7-359dcd72eeff"
      },
      "source": [
        "dot_data = tree.export_graphviz(best_tree_accuracy, out_file=None, \n",
        "                                feature_names=[\n",
        "'age', 'anaemia', 'creatinine_phosphokinase', 'diabetes',\t'ejection_fraction',\t'high_blood_pressure',\t'platelets',\t'serum_creatinine', 'serum_sodium', 'sex', 'smoking', 'time'],  \n",
        "                                class_names=['0', '1'],\n",
        "                                filled=True)\n",
        "graph = graphviz.Source(dot_data, format=\"png\") \n",
        "graph"
      ],
      "execution_count": null,
      "outputs": [
        {
          "output_type": "execute_result",
          "data": {
            "text/plain": [
              "<graphviz.files.Source at 0x7f20a6f685d0>"
            ],
            "image/svg+xml": "<?xml version=\"1.0\" encoding=\"UTF-8\" standalone=\"no\"?>\n<!DOCTYPE svg PUBLIC \"-//W3C//DTD SVG 1.1//EN\"\n \"http://www.w3.org/Graphics/SVG/1.1/DTD/svg11.dtd\">\n<!-- Generated by graphviz version 2.40.1 (20161225.0304)\n -->\n<!-- Title: Tree Pages: 1 -->\n<svg width=\"344pt\" height=\"195pt\"\n viewBox=\"0.00 0.00 343.50 195.00\" xmlns=\"http://www.w3.org/2000/svg\" xmlns:xlink=\"http://www.w3.org/1999/xlink\">\n<g id=\"graph0\" class=\"graph\" transform=\"scale(1 1) rotate(0) translate(4 191)\">\n<title>Tree</title>\n<polygon fill=\"#ffffff\" stroke=\"transparent\" points=\"-4,4 -4,-191 339.5,-191 339.5,4 -4,4\"/>\n<!-- 0 -->\n<g id=\"node1\" class=\"node\">\n<title>0</title>\n<polygon fill=\"#ffffff\" stroke=\"#000000\" points=\"239,-187 92,-187 92,-104 239,-104 239,-187\"/>\n<text text-anchor=\"middle\" x=\"165.5\" y=\"-171.8\" font-family=\"Times,serif\" font-size=\"14.00\" fill=\"#000000\">time &lt;= &#45;0.796</text>\n<text text-anchor=\"middle\" x=\"165.5\" y=\"-156.8\" font-family=\"Times,serif\" font-size=\"14.00\" fill=\"#000000\">gini = 0.5</text>\n<text text-anchor=\"middle\" x=\"165.5\" y=\"-141.8\" font-family=\"Times,serif\" font-size=\"14.00\" fill=\"#000000\">samples = 209</text>\n<text text-anchor=\"middle\" x=\"165.5\" y=\"-126.8\" font-family=\"Times,serif\" font-size=\"14.00\" fill=\"#000000\">value = [104.5, 104.5]</text>\n<text text-anchor=\"middle\" x=\"165.5\" y=\"-111.8\" font-family=\"Times,serif\" font-size=\"14.00\" fill=\"#000000\">class = 1</text>\n</g>\n<!-- 1 -->\n<g id=\"node2\" class=\"node\">\n<title>1</title>\n<polygon fill=\"#4ba6e7\" stroke=\"#000000\" points=\"155,-68 0,-68 0,0 155,0 155,-68\"/>\n<text text-anchor=\"middle\" x=\"77.5\" y=\"-52.8\" font-family=\"Times,serif\" font-size=\"14.00\" fill=\"#000000\">gini = 0.151</text>\n<text text-anchor=\"middle\" x=\"77.5\" y=\"-37.8\" font-family=\"Times,serif\" font-size=\"14.00\" fill=\"#000000\">samples = 50</text>\n<text text-anchor=\"middle\" x=\"77.5\" y=\"-22.8\" font-family=\"Times,serif\" font-size=\"14.00\" fill=\"#000000\">value = [5.887, 65.507]</text>\n<text text-anchor=\"middle\" x=\"77.5\" y=\"-7.8\" font-family=\"Times,serif\" font-size=\"14.00\" fill=\"#000000\">class = 1</text>\n</g>\n<!-- 0&#45;&gt;1 -->\n<g id=\"edge1\" class=\"edge\">\n<title>0&#45;&gt;1</title>\n<path fill=\"none\" stroke=\"#000000\" d=\"M132.732,-103.9815C125.551,-94.8828 117.9421,-85.242 110.7426,-76.1199\"/>\n<polygon fill=\"#000000\" stroke=\"#000000\" points=\"113.4849,-73.9451 104.5422,-68.2637 107.9901,-78.2818 113.4849,-73.9451\"/>\n<text text-anchor=\"middle\" x=\"101.6175\" y=\"-89.392\" font-family=\"Times,serif\" font-size=\"14.00\" fill=\"#000000\">True</text>\n</g>\n<!-- 2 -->\n<g id=\"node3\" class=\"node\">\n<title>2</title>\n<polygon fill=\"#efb387\" stroke=\"#000000\" points=\"335.5,-68 173.5,-68 173.5,0 335.5,0 335.5,-68\"/>\n<text text-anchor=\"middle\" x=\"254.5\" y=\"-52.8\" font-family=\"Times,serif\" font-size=\"14.00\" fill=\"#000000\">gini = 0.406</text>\n<text text-anchor=\"middle\" x=\"254.5\" y=\"-37.8\" font-family=\"Times,serif\" font-size=\"14.00\" fill=\"#000000\">samples = 159</text>\n<text text-anchor=\"middle\" x=\"254.5\" y=\"-22.8\" font-family=\"Times,serif\" font-size=\"14.00\" fill=\"#000000\">value = [98.613, 38.993]</text>\n<text text-anchor=\"middle\" x=\"254.5\" y=\"-7.8\" font-family=\"Times,serif\" font-size=\"14.00\" fill=\"#000000\">class = 0</text>\n</g>\n<!-- 0&#45;&gt;2 -->\n<g id=\"edge2\" class=\"edge\">\n<title>0&#45;&gt;2</title>\n<path fill=\"none\" stroke=\"#000000\" d=\"M198.6403,-103.9815C205.903,-94.8828 213.5983,-85.242 220.8796,-76.1199\"/>\n<polygon fill=\"#000000\" stroke=\"#000000\" points=\"223.6475,-78.2627 227.1505,-68.2637 218.1766,-73.8958 223.6475,-78.2627\"/>\n<text text-anchor=\"middle\" x=\"229.9385\" y=\"-89.4077\" font-family=\"Times,serif\" font-size=\"14.00\" fill=\"#000000\">False</text>\n</g>\n</g>\n</svg>\n"
          },
          "metadata": {
            "tags": []
          },
          "execution_count": 50
        }
      ]
    },
    {
      "cell_type": "markdown",
      "metadata": {
        "id": "lAAFrbC0N9i1"
      },
      "source": [
        "##### Recall"
      ]
    },
    {
      "cell_type": "code",
      "metadata": {
        "colab": {
          "base_uri": "https://localhost:8080/"
        },
        "id": "gzCmU9p5OAiH",
        "outputId": "d79c38f0-b8d3-46e8-ca6c-bc4c74355fef"
      },
      "source": [
        "grid = [\n",
        "  {'criterion' : ['gini', 'entropy'], 'splitter' : ['best', 'random'], 'ccp_alpha' : np.logspace(-10, -7, 20)},\n",
        "]\n",
        "\n",
        "tree_recall = DecisionTreeClassifier(class_weight='balanced')\n",
        "tree_gs_recall = GridSearchCV(estimator=tree_recall, param_grid=grid, cv = 5, n_jobs=-1, scoring='recall')\n",
        "tree_gs_recall.fit(X_train_std, Y_train)"
      ],
      "execution_count": null,
      "outputs": [
        {
          "output_type": "execute_result",
          "data": {
            "text/plain": [
              "GridSearchCV(cv=5, error_score=nan,\n",
              "             estimator=DecisionTreeClassifier(ccp_alpha=0.0,\n",
              "                                              class_weight='balanced',\n",
              "                                              criterion='gini', max_depth=None,\n",
              "                                              max_features=None,\n",
              "                                              max_leaf_nodes=None,\n",
              "                                              min_impurity_decrease=0.0,\n",
              "                                              min_impurity_split=None,\n",
              "                                              min_samples_leaf=1,\n",
              "                                              min_samples_split=2,\n",
              "                                              min_weight_fraction_leaf=0.0,\n",
              "                                              presort='deprecated',\n",
              "                                              random_state=None,\n",
              "                                              splitter='best'),\n",
              "             i...\n",
              "       4.28133240e-10, 6.15848211e-10, 8.85866790e-10, 1.27427499e-09,\n",
              "       1.83298071e-09, 2.63665090e-09, 3.79269019e-09, 5.45559478e-09,\n",
              "       7.84759970e-09, 1.12883789e-08, 1.62377674e-08, 2.33572147e-08,\n",
              "       3.35981829e-08, 4.83293024e-08, 6.95192796e-08, 1.00000000e-07]),\n",
              "                          'criterion': ['gini', 'entropy'],\n",
              "                          'splitter': ['best', 'random']}],\n",
              "             pre_dispatch='2*n_jobs', refit=True, return_train_score=False,\n",
              "             scoring='recall', verbose=0)"
            ]
          },
          "metadata": {
            "tags": []
          },
          "execution_count": 51
        }
      ]
    },
    {
      "cell_type": "code",
      "metadata": {
        "colab": {
          "base_uri": "https://localhost:8080/"
        },
        "id": "DpJIFZ9pOA47",
        "outputId": "f5d036e2-8274-4e09-ee44-264cdc7c04f3"
      },
      "source": [
        "best_tree_recall = tree_gs_recall.best_estimator_\n",
        "\n",
        "print(\"Best Hyperparameters\", tree_gs_recall.best_params_)\n",
        "print('Training score:', tree_gs_recall.best_score_)\n",
        "print('Test score:', best_tree_recall.score(X_test_std, Y_test))\n",
        "model_scores.append([tree_gs_recall.best_score_, best_tree_recall.score(X_test_std, Y_test)])"
      ],
      "execution_count": null,
      "outputs": [
        {
          "output_type": "stream",
          "text": [
            "Best Hyperparameters {'ccp_alpha': 2.3357214690901214e-08, 'criterion': 'entropy', 'splitter': 'best'}\n",
            "Training score: 0.7472527472527473\n",
            "Test score: 0.8222222222222222\n"
          ],
          "name": "stdout"
        }
      ]
    },
    {
      "cell_type": "code",
      "metadata": {
        "colab": {
          "base_uri": "https://localhost:8080/",
          "height": 279
        },
        "id": "0aQbJ9zFOBOt",
        "outputId": "7e06b324-3480-4ad6-826d-bd741f559e68"
      },
      "source": [
        "plot_confusion_matrix(best_tree_recall, X_test_std, Y_test)\n",
        "plt.show() "
      ],
      "execution_count": null,
      "outputs": [
        {
          "output_type": "display_data",
          "data": {
            "image/png": "[encoded data removed]",
            "text/plain": [
              "<Figure size 432x288 with 2 Axes>"
            ]
          },
          "metadata": {
            "tags": [],
            "needs_background": "light"
          }
        }
      ]
    },
    {
      "cell_type": "code",
      "metadata": {
        "colab": {
          "base_uri": "https://localhost:8080/",
          "height": 1000
        },
        "id": "kutJfehDOBxM",
        "outputId": "fb747320-b7ee-4dca-88be-84588d9fb61d"
      },
      "source": [
        "dot_data = tree.export_graphviz(best_tree_recall, out_file=None, \n",
        "                                feature_names=[\n",
        "'age', 'anaemia', 'creatinine_phosphokinase', 'diabetes',\t'ejection_fraction',\t'high_blood_pressure',\t'platelets',\t'serum_creatinine', 'serum_sodium', 'sex', 'smoking', 'time'],  \n",
        "                                class_names=['0', '1'],\n",
        "                                filled=True)\n",
        "graph = graphviz.Source(dot_data, format=\"png\") \n",
        "graph"
      ],
      "execution_count": null,
      "outputs": [
        {
          "output_type": "execute_result",
          "data": {
            "text/plain": [
              "<graphviz.files.Source at 0x7f20a6f75510>"
            ],
            "image/svg+xml": "<?xml version=\"1.0\" encoding=\"UTF-8\" standalone=\"no\"?>\n<!DOCTYPE svg PUBLIC \"-//W3C//DTD SVG 1.1//EN\"\n \"http://www.w3.org/Graphics/SVG/1.1/DTD/svg11.dtd\">\n<!-- Generated by graphviz version 2.40.1 (20161225.0304)\n -->\n<!-- Title: Tree Pages: 1 -->\n<svg width=\"2068pt\" height=\"1028pt\"\n viewBox=\"0.00 0.00 2068.00 1028.00\" xmlns=\"http://www.w3.org/2000/svg\" xmlns:xlink=\"http://www.w3.org/1999/xlink\">\n<g id=\"graph0\" class=\"graph\" transform=\"scale(1 1) rotate(0) translate(4 1024)\">\n<title>Tree</title>\n<polygon fill=\"#ffffff\" stroke=\"transparent\" points=\"-4,4 -4,-1024 2064,-1024 2064,4 -4,4\"/>\n<!-- 0 -->\n<g id=\"node1\" class=\"node\">\n<title>0</title>\n<polygon fill=\"#ffffff\" stroke=\"#000000\" points=\"928.5,-1020 781.5,-1020 781.5,-937 928.5,-937 928.5,-1020\"/>\n<text text-anchor=\"middle\" x=\"855\" y=\"-1004.8\" font-family=\"Times,serif\" font-size=\"14.00\" fill=\"#000000\">time &lt;= &#45;0.796</text>\n<text text-anchor=\"middle\" x=\"855\" y=\"-989.8\" font-family=\"Times,serif\" font-size=\"14.00\" fill=\"#000000\">entropy = 1.0</text>\n<text text-anchor=\"middle\" x=\"855\" y=\"-974.8\" font-family=\"Times,serif\" font-size=\"14.00\" fill=\"#000000\">samples = 209</text>\n<text text-anchor=\"middle\" x=\"855\" y=\"-959.8\" font-family=\"Times,serif\" font-size=\"14.00\" fill=\"#000000\">value = [104.5, 104.5]</text>\n<text text-anchor=\"middle\" x=\"855\" y=\"-944.8\" font-family=\"Times,serif\" font-size=\"14.00\" fill=\"#000000\">class = 1</text>\n</g>\n<!-- 1 -->\n<g id=\"node2\" class=\"node\">\n<title>1</title>\n<polygon fill=\"#4ba6e7\" stroke=\"#000000\" points=\"778,-901 614,-901 614,-818 778,-818 778,-901\"/>\n<text text-anchor=\"middle\" x=\"696\" y=\"-885.8\" font-family=\"Times,serif\" font-size=\"14.00\" fill=\"#000000\">serum_sodium &lt;= &#45;0.489</text>\n<text text-anchor=\"middle\" x=\"696\" y=\"-870.8\" font-family=\"Times,serif\" font-size=\"14.00\" fill=\"#000000\">entropy = 0.411</text>\n<text text-anchor=\"middle\" x=\"696\" y=\"-855.8\" font-family=\"Times,serif\" font-size=\"14.00\" fill=\"#000000\">samples = 50</text>\n<text text-anchor=\"middle\" x=\"696\" y=\"-840.8\" font-family=\"Times,serif\" font-size=\"14.00\" fill=\"#000000\">value = [5.887, 65.507]</text>\n<text text-anchor=\"middle\" x=\"696\" y=\"-825.8\" font-family=\"Times,serif\" font-size=\"14.00\" fill=\"#000000\">class = 1</text>\n</g>\n<!-- 0&#45;&gt;1 -->\n<g id=\"edge1\" class=\"edge\">\n<title>0&#45;&gt;1</title>\n<path fill=\"none\" stroke=\"#000000\" d=\"M799.3895,-936.8796C786.5597,-927.2774 772.8148,-916.9903 759.6714,-907.1534\"/>\n<polygon fill=\"#000000\" stroke=\"#000000\" points=\"761.6823,-904.2868 751.5791,-901.0969 757.4879,-909.891 761.6823,-904.2868\"/>\n<text text-anchor=\"middle\" x=\"755.1395\" y=\"-922.1421\" font-family=\"Times,serif\" font-size=\"14.00\" fill=\"#000000\">True</text>\n</g>\n<!-- 14 -->\n<g id=\"node15\" class=\"node\">\n<title>14</title>\n<polygon fill=\"#efb387\" stroke=\"#000000\" points=\"1213.5,-901 1042.5,-901 1042.5,-818 1213.5,-818 1213.5,-901\"/>\n<text text-anchor=\"middle\" x=\"1128\" y=\"-885.8\" font-family=\"Times,serif\" font-size=\"14.00\" fill=\"#000000\">serum_creatinine &lt;= 0.105</text>\n<text text-anchor=\"middle\" x=\"1128\" y=\"-870.8\" font-family=\"Times,serif\" font-size=\"14.00\" fill=\"#000000\">entropy = 0.86</text>\n<text text-anchor=\"middle\" x=\"1128\" y=\"-855.8\" font-family=\"Times,serif\" font-size=\"14.00\" fill=\"#000000\">samples = 159</text>\n<text text-anchor=\"middle\" x=\"1128\" y=\"-840.8\" font-family=\"Times,serif\" font-size=\"14.00\" fill=\"#000000\">value = [98.613, 38.993]</text>\n<text text-anchor=\"middle\" x=\"1128\" y=\"-825.8\" font-family=\"Times,serif\" font-size=\"14.00\" fill=\"#000000\">class = 0</text>\n</g>\n<!-- 0&#45;&gt;14 -->\n<g id=\"edge14\" class=\"edge\">\n<title>0&#45;&gt;14</title>\n<path fill=\"none\" stroke=\"#000000\" d=\"M928.5181,-946.4536C960.5649,-932.4845 998.5438,-915.9296 1032.7187,-901.0329\"/>\n<polygon fill=\"#000000\" stroke=\"#000000\" points=\"1034.4804,-904.0831 1042.2488,-896.8787 1031.6833,-897.6662 1034.4804,-904.0831\"/>\n<text text-anchor=\"middle\" x=\"1033.1075\" y=\"-916.4475\" font-family=\"Times,serif\" font-size=\"14.00\" fill=\"#000000\">False</text>\n</g>\n<!-- 2 -->\n<g id=\"node3\" class=\"node\">\n<title>2</title>\n<polygon fill=\"#399de5\" stroke=\"#000000\" points=\"564,-774.5 424,-774.5 424,-706.5 564,-706.5 564,-774.5\"/>\n<text text-anchor=\"middle\" x=\"494\" y=\"-759.3\" font-family=\"Times,serif\" font-size=\"14.00\" fill=\"#000000\">entropy = 0.0</text>\n<text text-anchor=\"middle\" x=\"494\" y=\"-744.3\" font-family=\"Times,serif\" font-size=\"14.00\" fill=\"#000000\">samples = 20</text>\n<text text-anchor=\"middle\" x=\"494\" y=\"-729.3\" font-family=\"Times,serif\" font-size=\"14.00\" fill=\"#000000\">value = [0.0, 31.194]</text>\n<text text-anchor=\"middle\" x=\"494\" y=\"-714.3\" font-family=\"Times,serif\" font-size=\"14.00\" fill=\"#000000\">class = 1</text>\n</g>\n<!-- 1&#45;&gt;2 -->\n<g id=\"edge2\" class=\"edge\">\n<title>1&#45;&gt;2</title>\n<path fill=\"none\" stroke=\"#000000\" d=\"M625.3502,-817.8796C604.3452,-805.5053 581.4094,-791.9937 560.6666,-779.7739\"/>\n<polygon fill=\"#000000\" stroke=\"#000000\" points=\"562.3157,-776.6833 551.9231,-774.623 558.7627,-782.7145 562.3157,-776.6833\"/>\n</g>\n<!-- 3 -->\n<g id=\"node4\" class=\"node\">\n<title>3</title>\n<polygon fill=\"#5baee9\" stroke=\"#000000\" points=\"809.5,-782 582.5,-782 582.5,-699 809.5,-699 809.5,-782\"/>\n<text text-anchor=\"middle\" x=\"696\" y=\"-766.8\" font-family=\"Times,serif\" font-size=\"14.00\" fill=\"#000000\">creatinine_phosphokinase &lt;= &#45;0.514</text>\n<text text-anchor=\"middle\" x=\"696\" y=\"-751.8\" font-family=\"Times,serif\" font-size=\"14.00\" fill=\"#000000\">entropy = 0.601</text>\n<text text-anchor=\"middle\" x=\"696\" y=\"-736.8\" font-family=\"Times,serif\" font-size=\"14.00\" fill=\"#000000\">samples = 30</text>\n<text text-anchor=\"middle\" x=\"696\" y=\"-721.8\" font-family=\"Times,serif\" font-size=\"14.00\" fill=\"#000000\">value = [5.887, 34.313]</text>\n<text text-anchor=\"middle\" x=\"696\" y=\"-706.8\" font-family=\"Times,serif\" font-size=\"14.00\" fill=\"#000000\">class = 1</text>\n</g>\n<!-- 1&#45;&gt;3 -->\n<g id=\"edge3\" class=\"edge\">\n<title>1&#45;&gt;3</title>\n<path fill=\"none\" stroke=\"#000000\" d=\"M696,-817.8796C696,-809.6838 696,-800.9891 696,-792.5013\"/>\n<polygon fill=\"#000000\" stroke=\"#000000\" points=\"699.5001,-792.298 696,-782.2981 692.5001,-792.2981 699.5001,-792.298\"/>\n</g>\n<!-- 4 -->\n<g id=\"node5\" class=\"node\">\n<title>4</title>\n<polygon fill=\"#e58139\" stroke=\"#000000\" points=\"600.5,-655.5 475.5,-655.5 475.5,-587.5 600.5,-587.5 600.5,-655.5\"/>\n<text text-anchor=\"middle\" x=\"538\" y=\"-640.3\" font-family=\"Times,serif\" font-size=\"14.00\" fill=\"#000000\">entropy = 0.0</text>\n<text text-anchor=\"middle\" x=\"538\" y=\"-625.3\" font-family=\"Times,serif\" font-size=\"14.00\" fill=\"#000000\">samples = 5</text>\n<text text-anchor=\"middle\" x=\"538\" y=\"-610.3\" font-family=\"Times,serif\" font-size=\"14.00\" fill=\"#000000\">value = [3.68, 0.0]</text>\n<text text-anchor=\"middle\" x=\"538\" y=\"-595.3\" font-family=\"Times,serif\" font-size=\"14.00\" fill=\"#000000\">class = 0</text>\n</g>\n<!-- 3&#45;&gt;4 -->\n<g id=\"edge4\" class=\"edge\">\n<title>3&#45;&gt;4</title>\n<path fill=\"none\" stroke=\"#000000\" d=\"M640.7393,-698.8796C624.7497,-686.8368 607.3297,-673.7167 591.4526,-661.7586\"/>\n<polygon fill=\"#000000\" stroke=\"#000000\" points=\"593.3998,-658.8435 583.3062,-655.623 589.1884,-664.435 593.3998,-658.8435\"/>\n</g>\n<!-- 5 -->\n<g id=\"node6\" class=\"node\">\n<title>5</title>\n<polygon fill=\"#46a3e7\" stroke=\"#000000\" points=\"773.5,-663 618.5,-663 618.5,-580 773.5,-580 773.5,-663\"/>\n<text text-anchor=\"middle\" x=\"696\" y=\"-647.8\" font-family=\"Times,serif\" font-size=\"14.00\" fill=\"#000000\">age &lt;= 0.011</text>\n<text text-anchor=\"middle\" x=\"696\" y=\"-632.8\" font-family=\"Times,serif\" font-size=\"14.00\" fill=\"#000000\">entropy = 0.329</text>\n<text text-anchor=\"middle\" x=\"696\" y=\"-617.8\" font-family=\"Times,serif\" font-size=\"14.00\" fill=\"#000000\">samples = 25</text>\n<text text-anchor=\"middle\" x=\"696\" y=\"-602.8\" font-family=\"Times,serif\" font-size=\"14.00\" fill=\"#000000\">value = [2.208, 34.313]</text>\n<text text-anchor=\"middle\" x=\"696\" y=\"-587.8\" font-family=\"Times,serif\" font-size=\"14.00\" fill=\"#000000\">class = 1</text>\n</g>\n<!-- 3&#45;&gt;5 -->\n<g id=\"edge5\" class=\"edge\">\n<title>3&#45;&gt;5</title>\n<path fill=\"none\" stroke=\"#000000\" d=\"M696,-698.8796C696,-690.6838 696,-681.9891 696,-673.5013\"/>\n<polygon fill=\"#000000\" stroke=\"#000000\" points=\"699.5001,-673.298 696,-663.2981 692.5001,-673.2981 699.5001,-673.298\"/>\n</g>\n<!-- 6 -->\n<g id=\"node7\" class=\"node\">\n<title>6</title>\n<polygon fill=\"#55abe9\" stroke=\"#000000\" points=\"607.5,-544 452.5,-544 452.5,-461 607.5,-461 607.5,-544\"/>\n<text text-anchor=\"middle\" x=\"530\" y=\"-528.8\" font-family=\"Times,serif\" font-size=\"14.00\" fill=\"#000000\">platelets &lt;= 0.529</text>\n<text text-anchor=\"middle\" x=\"530\" y=\"-513.8\" font-family=\"Times,serif\" font-size=\"14.00\" fill=\"#000000\">entropy = 0.541</text>\n<text text-anchor=\"middle\" x=\"530\" y=\"-498.8\" font-family=\"Times,serif\" font-size=\"14.00\" fill=\"#000000\">samples = 13</text>\n<text text-anchor=\"middle\" x=\"530\" y=\"-483.8\" font-family=\"Times,serif\" font-size=\"14.00\" fill=\"#000000\">value = [2.208, 15.597]</text>\n<text text-anchor=\"middle\" x=\"530\" y=\"-468.8\" font-family=\"Times,serif\" font-size=\"14.00\" fill=\"#000000\">class = 1</text>\n</g>\n<!-- 5&#45;&gt;6 -->\n<g id=\"edge6\" class=\"edge\">\n<title>5&#45;&gt;6</title>\n<path fill=\"none\" stroke=\"#000000\" d=\"M637.9413,-579.8796C624.5466,-570.2774 610.1965,-559.9903 596.4745,-550.1534\"/>\n<polygon fill=\"#000000\" stroke=\"#000000\" points=\"598.1926,-547.0786 588.026,-544.0969 594.1142,-552.7678 598.1926,-547.0786\"/>\n</g>\n<!-- 13 -->\n<g id=\"node14\" class=\"node\">\n<title>13</title>\n<polygon fill=\"#399de5\" stroke=\"#000000\" points=\"766,-536.5 626,-536.5 626,-468.5 766,-468.5 766,-536.5\"/>\n<text text-anchor=\"middle\" x=\"696\" y=\"-521.3\" font-family=\"Times,serif\" font-size=\"14.00\" fill=\"#000000\">entropy = 0.0</text>\n<text text-anchor=\"middle\" x=\"696\" y=\"-506.3\" font-family=\"Times,serif\" font-size=\"14.00\" fill=\"#000000\">samples = 12</text>\n<text text-anchor=\"middle\" x=\"696\" y=\"-491.3\" font-family=\"Times,serif\" font-size=\"14.00\" fill=\"#000000\">value = [0.0, 18.716]</text>\n<text text-anchor=\"middle\" x=\"696\" y=\"-476.3\" font-family=\"Times,serif\" font-size=\"14.00\" fill=\"#000000\">class = 1</text>\n</g>\n<!-- 5&#45;&gt;13 -->\n<g id=\"edge13\" class=\"edge\">\n<title>5&#45;&gt;13</title>\n<path fill=\"none\" stroke=\"#000000\" d=\"M696,-579.8796C696,-569.2134 696,-557.7021 696,-546.9015\"/>\n<polygon fill=\"#000000\" stroke=\"#000000\" points=\"699.5001,-546.8149 696,-536.8149 692.5001,-546.815 699.5001,-546.8149\"/>\n</g>\n<!-- 7 -->\n<g id=\"node8\" class=\"node\">\n<title>7</title>\n<polygon fill=\"#7fc0ee\" stroke=\"#000000\" points=\"445.5,-425 298.5,-425 298.5,-342 445.5,-342 445.5,-425\"/>\n<text text-anchor=\"middle\" x=\"372\" y=\"-409.8\" font-family=\"Times,serif\" font-size=\"14.00\" fill=\"#000000\">platelets &lt;= 0.335</text>\n<text text-anchor=\"middle\" x=\"372\" y=\"-394.8\" font-family=\"Times,serif\" font-size=\"14.00\" fill=\"#000000\">entropy = 0.829</text>\n<text text-anchor=\"middle\" x=\"372\" y=\"-379.8\" font-family=\"Times,serif\" font-size=\"14.00\" fill=\"#000000\">samples = 7</text>\n<text text-anchor=\"middle\" x=\"372\" y=\"-364.8\" font-family=\"Times,serif\" font-size=\"14.00\" fill=\"#000000\">value = [2.208, 6.239]</text>\n<text text-anchor=\"middle\" x=\"372\" y=\"-349.8\" font-family=\"Times,serif\" font-size=\"14.00\" fill=\"#000000\">class = 1</text>\n</g>\n<!-- 6&#45;&gt;7 -->\n<g id=\"edge7\" class=\"edge\">\n<title>6&#45;&gt;7</title>\n<path fill=\"none\" stroke=\"#000000\" d=\"M474.7393,-460.8796C461.9901,-451.2774 448.3317,-440.9903 435.2709,-431.1534\"/>\n<polygon fill=\"#000000\" stroke=\"#000000\" points=\"437.3231,-428.3174 427.2295,-425.0969 433.1117,-433.9089 437.3231,-428.3174\"/>\n</g>\n<!-- 12 -->\n<g id=\"node13\" class=\"node\">\n<title>12</title>\n<polygon fill=\"#399de5\" stroke=\"#000000\" points=\"596,-417.5 464,-417.5 464,-349.5 596,-349.5 596,-417.5\"/>\n<text text-anchor=\"middle\" x=\"530\" y=\"-402.3\" font-family=\"Times,serif\" font-size=\"14.00\" fill=\"#000000\">entropy = 0.0</text>\n<text text-anchor=\"middle\" x=\"530\" y=\"-387.3\" font-family=\"Times,serif\" font-size=\"14.00\" fill=\"#000000\">samples = 6</text>\n<text text-anchor=\"middle\" x=\"530\" y=\"-372.3\" font-family=\"Times,serif\" font-size=\"14.00\" fill=\"#000000\">value = [0.0, 9.358]</text>\n<text text-anchor=\"middle\" x=\"530\" y=\"-357.3\" font-family=\"Times,serif\" font-size=\"14.00\" fill=\"#000000\">class = 1</text>\n</g>\n<!-- 6&#45;&gt;12 -->\n<g id=\"edge12\" class=\"edge\">\n<title>6&#45;&gt;12</title>\n<path fill=\"none\" stroke=\"#000000\" d=\"M530,-460.8796C530,-450.2134 530,-438.7021 530,-427.9015\"/>\n<polygon fill=\"#000000\" stroke=\"#000000\" points=\"533.5001,-427.8149 530,-417.8149 526.5001,-427.815 533.5001,-427.8149\"/>\n</g>\n<!-- 8 -->\n<g id=\"node9\" class=\"node\">\n<title>8</title>\n<polygon fill=\"#50a9e8\" stroke=\"#000000\" points=\"288,-306 112,-306 112,-223 288,-223 288,-306\"/>\n<text text-anchor=\"middle\" x=\"200\" y=\"-290.8\" font-family=\"Times,serif\" font-size=\"14.00\" fill=\"#000000\">serum_creatinine &lt;= &#45;0.522</text>\n<text text-anchor=\"middle\" x=\"200\" y=\"-275.8\" font-family=\"Times,serif\" font-size=\"14.00\" fill=\"#000000\">entropy = 0.486</text>\n<text text-anchor=\"middle\" x=\"200\" y=\"-260.8\" font-family=\"Times,serif\" font-size=\"14.00\" fill=\"#000000\">samples = 5</text>\n<text text-anchor=\"middle\" x=\"200\" y=\"-245.8\" font-family=\"Times,serif\" font-size=\"14.00\" fill=\"#000000\">value = [0.736, 6.239]</text>\n<text text-anchor=\"middle\" x=\"200\" y=\"-230.8\" font-family=\"Times,serif\" font-size=\"14.00\" fill=\"#000000\">class = 1</text>\n</g>\n<!-- 7&#45;&gt;8 -->\n<g id=\"edge8\" class=\"edge\">\n<title>7&#45;&gt;8</title>\n<path fill=\"none\" stroke=\"#000000\" d=\"M311.8427,-341.8796C297.833,-332.1868 282.8146,-321.7961 268.475,-311.8752\"/>\n<polygon fill=\"#000000\" stroke=\"#000000\" points=\"270.3383,-308.9083 260.1233,-306.0969 266.3556,-314.6649 270.3383,-308.9083\"/>\n</g>\n<!-- 11 -->\n<g id=\"node12\" class=\"node\">\n<title>11</title>\n<polygon fill=\"#e58139\" stroke=\"#000000\" points=\"438,-298.5 306,-298.5 306,-230.5 438,-230.5 438,-298.5\"/>\n<text text-anchor=\"middle\" x=\"372\" y=\"-283.3\" font-family=\"Times,serif\" font-size=\"14.00\" fill=\"#000000\">entropy = &#45;0.0</text>\n<text text-anchor=\"middle\" x=\"372\" y=\"-268.3\" font-family=\"Times,serif\" font-size=\"14.00\" fill=\"#000000\">samples = 2</text>\n<text text-anchor=\"middle\" x=\"372\" y=\"-253.3\" font-family=\"Times,serif\" font-size=\"14.00\" fill=\"#000000\">value = [1.472, 0.0]</text>\n<text text-anchor=\"middle\" x=\"372\" y=\"-238.3\" font-family=\"Times,serif\" font-size=\"14.00\" fill=\"#000000\">class = 0</text>\n</g>\n<!-- 7&#45;&gt;11 -->\n<g id=\"edge11\" class=\"edge\">\n<title>7&#45;&gt;11</title>\n<path fill=\"none\" stroke=\"#000000\" d=\"M372,-341.8796C372,-331.2134 372,-319.7021 372,-308.9015\"/>\n<polygon fill=\"#000000\" stroke=\"#000000\" points=\"375.5001,-308.8149 372,-298.8149 368.5001,-308.815 375.5001,-308.8149\"/>\n</g>\n<!-- 9 -->\n<g id=\"node10\" class=\"node\">\n<title>9</title>\n<polygon fill=\"#e58139\" stroke=\"#000000\" points=\"132,-179.5 0,-179.5 0,-111.5 132,-111.5 132,-179.5\"/>\n<text text-anchor=\"middle\" x=\"66\" y=\"-164.3\" font-family=\"Times,serif\" font-size=\"14.00\" fill=\"#000000\">entropy = 0.0</text>\n<text text-anchor=\"middle\" x=\"66\" y=\"-149.3\" font-family=\"Times,serif\" font-size=\"14.00\" fill=\"#000000\">samples = 1</text>\n<text text-anchor=\"middle\" x=\"66\" y=\"-134.3\" font-family=\"Times,serif\" font-size=\"14.00\" fill=\"#000000\">value = [0.736, 0.0]</text>\n<text text-anchor=\"middle\" x=\"66\" y=\"-119.3\" font-family=\"Times,serif\" font-size=\"14.00\" fill=\"#000000\">class = 0</text>\n</g>\n<!-- 8&#45;&gt;9 -->\n<g id=\"edge9\" class=\"edge\">\n<title>8&#45;&gt;9</title>\n<path fill=\"none\" stroke=\"#000000\" d=\"M153.1333,-222.8796C139.8844,-211.1138 125.4776,-198.3197 112.2644,-186.5855\"/>\n<polygon fill=\"#000000\" stroke=\"#000000\" points=\"114.4416,-183.8381 104.6403,-179.8149 109.7935,-189.0722 114.4416,-183.8381\"/>\n</g>\n<!-- 10 -->\n<g id=\"node11\" class=\"node\">\n<title>10</title>\n<polygon fill=\"#399de5\" stroke=\"#000000\" points=\"282,-179.5 150,-179.5 150,-111.5 282,-111.5 282,-179.5\"/>\n<text text-anchor=\"middle\" x=\"216\" y=\"-164.3\" font-family=\"Times,serif\" font-size=\"14.00\" fill=\"#000000\">entropy = &#45;0.0</text>\n<text text-anchor=\"middle\" x=\"216\" y=\"-149.3\" font-family=\"Times,serif\" font-size=\"14.00\" fill=\"#000000\">samples = 4</text>\n<text text-anchor=\"middle\" x=\"216\" y=\"-134.3\" font-family=\"Times,serif\" font-size=\"14.00\" fill=\"#000000\">value = [0.0, 6.239]</text>\n<text text-anchor=\"middle\" x=\"216\" y=\"-119.3\" font-family=\"Times,serif\" font-size=\"14.00\" fill=\"#000000\">class = 1</text>\n</g>\n<!-- 8&#45;&gt;10 -->\n<g id=\"edge10\" class=\"edge\">\n<title>8&#45;&gt;10</title>\n<path fill=\"none\" stroke=\"#000000\" d=\"M205.596,-222.8796C207.0301,-212.2134 208.5779,-200.7021 210.03,-189.9015\"/>\n<polygon fill=\"#000000\" stroke=\"#000000\" points=\"213.5224,-190.1922 211.3862,-179.8149 206.5848,-189.2593 213.5224,-190.1922\"/>\n</g>\n<!-- 15 -->\n<g id=\"node16\" class=\"node\">\n<title>15</title>\n<polygon fill=\"#ea985d\" stroke=\"#000000\" points=\"1209,-782 1047,-782 1047,-699 1209,-699 1209,-782\"/>\n<text text-anchor=\"middle\" x=\"1128\" y=\"-766.8\" font-family=\"Times,serif\" font-size=\"14.00\" fill=\"#000000\">time &lt;= 0.39</text>\n<text text-anchor=\"middle\" x=\"1128\" y=\"-751.8\" font-family=\"Times,serif\" font-size=\"14.00\" fill=\"#000000\">entropy = 0.618</text>\n<text text-anchor=\"middle\" x=\"1128\" y=\"-736.8\" font-family=\"Times,serif\" font-size=\"14.00\" fill=\"#000000\">samples = 127</text>\n<text text-anchor=\"middle\" x=\"1128\" y=\"-721.8\" font-family=\"Times,serif\" font-size=\"14.00\" fill=\"#000000\">value = [86.102, 15.597]</text>\n<text text-anchor=\"middle\" x=\"1128\" y=\"-706.8\" font-family=\"Times,serif\" font-size=\"14.00\" fill=\"#000000\">class = 0</text>\n</g>\n<!-- 14&#45;&gt;15 -->\n<g id=\"edge15\" class=\"edge\">\n<title>14&#45;&gt;15</title>\n<path fill=\"none\" stroke=\"#000000\" d=\"M1128,-817.8796C1128,-809.6838 1128,-800.9891 1128,-792.5013\"/>\n<polygon fill=\"#000000\" stroke=\"#000000\" points=\"1131.5001,-792.298 1128,-782.2981 1124.5001,-792.2981 1131.5001,-792.298\"/>\n</g>\n<!-- 40 -->\n<g id=\"node41\" class=\"node\">\n<title>40</title>\n<polygon fill=\"#a3d1f3\" stroke=\"#000000\" points=\"1668.5,-782 1507.5,-782 1507.5,-699 1668.5,-699 1668.5,-782\"/>\n<text text-anchor=\"middle\" x=\"1588\" y=\"-766.8\" font-family=\"Times,serif\" font-size=\"14.00\" fill=\"#000000\">time &lt;= 1.012</text>\n<text text-anchor=\"middle\" x=\"1588\" y=\"-751.8\" font-family=\"Times,serif\" font-size=\"14.00\" fill=\"#000000\">entropy = 0.933</text>\n<text text-anchor=\"middle\" x=\"1588\" y=\"-736.8\" font-family=\"Times,serif\" font-size=\"14.00\" fill=\"#000000\">samples = 32</text>\n<text text-anchor=\"middle\" x=\"1588\" y=\"-721.8\" font-family=\"Times,serif\" font-size=\"14.00\" fill=\"#000000\">value = [12.511, 23.396]</text>\n<text text-anchor=\"middle\" x=\"1588\" y=\"-706.8\" font-family=\"Times,serif\" font-size=\"14.00\" fill=\"#000000\">class = 1</text>\n</g>\n<!-- 14&#45;&gt;40 -->\n<g id=\"edge40\" class=\"edge\">\n<title>14&#45;&gt;40</title>\n<path fill=\"none\" stroke=\"#000000\" d=\"M1213.7135,-837.3263C1294.5166,-816.4229 1415.1756,-785.2089 1497.506,-763.9104\"/>\n<polygon fill=\"#000000\" stroke=\"#000000\" points=\"1498.5464,-767.2566 1507.3511,-761.3635 1496.7932,-760.4797 1498.5464,-767.2566\"/>\n</g>\n<!-- 16 -->\n<g id=\"node17\" class=\"node\">\n<title>16</title>\n<polygon fill=\"#eeac7c\" stroke=\"#000000\" points=\"1132.5,-663 905.5,-663 905.5,-580 1132.5,-580 1132.5,-663\"/>\n<text text-anchor=\"middle\" x=\"1019\" y=\"-647.8\" font-family=\"Times,serif\" font-size=\"14.00\" fill=\"#000000\">creatinine_phosphokinase &lt;= &#45;0.497</text>\n<text text-anchor=\"middle\" x=\"1019\" y=\"-632.8\" font-family=\"Times,serif\" font-size=\"14.00\" fill=\"#000000\">entropy = 0.818</text>\n<text text-anchor=\"middle\" x=\"1019\" y=\"-617.8\" font-family=\"Times,serif\" font-size=\"14.00\" fill=\"#000000\">samples = 65</text>\n<text text-anchor=\"middle\" x=\"1019\" y=\"-602.8\" font-family=\"Times,serif\" font-size=\"14.00\" fill=\"#000000\">value = [41.211, 14.037]</text>\n<text text-anchor=\"middle\" x=\"1019\" y=\"-587.8\" font-family=\"Times,serif\" font-size=\"14.00\" fill=\"#000000\">class = 0</text>\n</g>\n<!-- 15&#45;&gt;16 -->\n<g id=\"edge16\" class=\"edge\">\n<title>15&#45;&gt;16</title>\n<path fill=\"none\" stroke=\"#000000\" d=\"M1089.8771,-698.8796C1081.5451,-689.7832 1072.6502,-680.0722 1064.0761,-670.7116\"/>\n<polygon fill=\"#000000\" stroke=\"#000000\" points=\"1066.6211,-668.3081 1057.2856,-663.2981 1061.4592,-673.0363 1066.6211,-668.3081\"/>\n</g>\n<!-- 35 -->\n<g id=\"node36\" class=\"node\">\n<title>35</title>\n<polygon fill=\"#e68540\" stroke=\"#000000\" points=\"1325,-663 1151,-663 1151,-580 1325,-580 1325,-663\"/>\n<text text-anchor=\"middle\" x=\"1238\" y=\"-647.8\" font-family=\"Times,serif\" font-size=\"14.00\" fill=\"#000000\">ejection_fraction &lt;= &#45;0.886</text>\n<text text-anchor=\"middle\" x=\"1238\" y=\"-632.8\" font-family=\"Times,serif\" font-size=\"14.00\" fill=\"#000000\">entropy = 0.212</text>\n<text text-anchor=\"middle\" x=\"1238\" y=\"-617.8\" font-family=\"Times,serif\" font-size=\"14.00\" fill=\"#000000\">samples = 62</text>\n<text text-anchor=\"middle\" x=\"1238\" y=\"-602.8\" font-family=\"Times,serif\" font-size=\"14.00\" fill=\"#000000\">value = [44.891, 1.56]</text>\n<text text-anchor=\"middle\" x=\"1238\" y=\"-587.8\" font-family=\"Times,serif\" font-size=\"14.00\" fill=\"#000000\">class = 0</text>\n</g>\n<!-- 15&#45;&gt;35 -->\n<g id=\"edge35\" class=\"edge\">\n<title>15&#45;&gt;35</title>\n<path fill=\"none\" stroke=\"#000000\" d=\"M1166.4727,-698.8796C1174.8811,-689.7832 1183.8576,-680.0722 1192.5103,-670.7116\"/>\n<polygon fill=\"#000000\" stroke=\"#000000\" points=\"1195.1453,-673.0172 1199.3631,-663.2981 1190.005,-668.2656 1195.1453,-673.0172\"/>\n</g>\n<!-- 17 -->\n<g id=\"node18\" class=\"node\">\n<title>17</title>\n<polygon fill=\"#e58139\" stroke=\"#000000\" points=\"924,-536.5 784,-536.5 784,-468.5 924,-468.5 924,-536.5\"/>\n<text text-anchor=\"middle\" x=\"854\" y=\"-521.3\" font-family=\"Times,serif\" font-size=\"14.00\" fill=\"#000000\">entropy = 0.0</text>\n<text text-anchor=\"middle\" x=\"854\" y=\"-506.3\" font-family=\"Times,serif\" font-size=\"14.00\" fill=\"#000000\">samples = 19</text>\n<text text-anchor=\"middle\" x=\"854\" y=\"-491.3\" font-family=\"Times,serif\" font-size=\"14.00\" fill=\"#000000\">value = [13.982, 0.0]</text>\n<text text-anchor=\"middle\" x=\"854\" y=\"-476.3\" font-family=\"Times,serif\" font-size=\"14.00\" fill=\"#000000\">class = 0</text>\n</g>\n<!-- 16&#45;&gt;17 -->\n<g id=\"edge17\" class=\"edge\">\n<title>16&#45;&gt;17</title>\n<path fill=\"none\" stroke=\"#000000\" d=\"M961.291,-579.8796C944.593,-567.8368 926.4013,-554.7167 909.8207,-542.7586\"/>\n<polygon fill=\"#000000\" stroke=\"#000000\" points=\"911.4715,-539.6339 901.3135,-536.623 907.3768,-545.3113 911.4715,-539.6339\"/>\n</g>\n<!-- 18 -->\n<g id=\"node19\" class=\"node\">\n<title>18</title>\n<polygon fill=\"#f2c29f\" stroke=\"#000000\" points=\"1104,-544 942,-544 942,-461 1104,-461 1104,-544\"/>\n<text text-anchor=\"middle\" x=\"1023\" y=\"-528.8\" font-family=\"Times,serif\" font-size=\"14.00\" fill=\"#000000\">age &lt;= 0.612</text>\n<text text-anchor=\"middle\" x=\"1023\" y=\"-513.8\" font-family=\"Times,serif\" font-size=\"14.00\" fill=\"#000000\">entropy = 0.925</text>\n<text text-anchor=\"middle\" x=\"1023\" y=\"-498.8\" font-family=\"Times,serif\" font-size=\"14.00\" fill=\"#000000\">samples = 46</text>\n<text text-anchor=\"middle\" x=\"1023\" y=\"-483.8\" font-family=\"Times,serif\" font-size=\"14.00\" fill=\"#000000\">value = [27.229, 14.037]</text>\n<text text-anchor=\"middle\" x=\"1023\" y=\"-468.8\" font-family=\"Times,serif\" font-size=\"14.00\" fill=\"#000000\">class = 0</text>\n</g>\n<!-- 16&#45;&gt;18 -->\n<g id=\"edge18\" class=\"edge\">\n<title>16&#45;&gt;18</title>\n<path fill=\"none\" stroke=\"#000000\" d=\"M1020.399,-579.8796C1020.6745,-571.6838 1020.9668,-562.9891 1021.2521,-554.5013\"/>\n<polygon fill=\"#000000\" stroke=\"#000000\" points=\"1024.757,-554.41 1021.595,-544.2981 1017.761,-554.1748 1024.757,-554.41\"/>\n</g>\n<!-- 19 -->\n<g id=\"node20\" class=\"node\">\n<title>19</title>\n<polygon fill=\"#eca36f\" stroke=\"#000000\" points=\"853.5,-425 698.5,-425 698.5,-342 853.5,-342 853.5,-425\"/>\n<text text-anchor=\"middle\" x=\"776\" y=\"-409.8\" font-family=\"Times,serif\" font-size=\"14.00\" fill=\"#000000\">time &lt;= &#45;0.073</text>\n<text text-anchor=\"middle\" x=\"776\" y=\"-394.8\" font-family=\"Times,serif\" font-size=\"14.00\" fill=\"#000000\">entropy = 0.75</text>\n<text text-anchor=\"middle\" x=\"776\" y=\"-379.8\" font-family=\"Times,serif\" font-size=\"14.00\" fill=\"#000000\">samples = 35</text>\n<text text-anchor=\"middle\" x=\"776\" y=\"-364.8\" font-family=\"Times,serif\" font-size=\"14.00\" fill=\"#000000\">value = [22.813, 6.239]</text>\n<text text-anchor=\"middle\" x=\"776\" y=\"-349.8\" font-family=\"Times,serif\" font-size=\"14.00\" fill=\"#000000\">class = 0</text>\n</g>\n<!-- 18&#45;&gt;19 -->\n<g id=\"edge19\" class=\"edge\">\n<title>18&#45;&gt;19</title>\n<path fill=\"none\" stroke=\"#000000\" d=\"M941.7809,-463.3701C916.6099,-451.2432 888.7741,-437.8325 863.2141,-425.5181\"/>\n<polygon fill=\"#000000\" stroke=\"#000000\" points=\"864.4374,-422.2225 853.9093,-421.0352 861.3991,-428.5288 864.4374,-422.2225\"/>\n</g>\n<!-- 30 -->\n<g id=\"node31\" class=\"node\">\n<title>30</title>\n<polygon fill=\"#a9d4f4\" stroke=\"#000000\" points=\"1149.5,-425 926.5,-425 926.5,-342 1149.5,-342 1149.5,-425\"/>\n<text text-anchor=\"middle\" x=\"1038\" y=\"-409.8\" font-family=\"Times,serif\" font-size=\"14.00\" fill=\"#000000\">creatinine_phosphokinase &lt;= 0.266</text>\n<text text-anchor=\"middle\" x=\"1038\" y=\"-394.8\" font-family=\"Times,serif\" font-size=\"14.00\" fill=\"#000000\">entropy = 0.944</text>\n<text text-anchor=\"middle\" x=\"1038\" y=\"-379.8\" font-family=\"Times,serif\" font-size=\"14.00\" fill=\"#000000\">samples = 11</text>\n<text text-anchor=\"middle\" x=\"1038\" y=\"-364.8\" font-family=\"Times,serif\" font-size=\"14.00\" fill=\"#000000\">value = [4.415, 7.799]</text>\n<text text-anchor=\"middle\" x=\"1038\" y=\"-349.8\" font-family=\"Times,serif\" font-size=\"14.00\" fill=\"#000000\">class = 1</text>\n</g>\n<!-- 18&#45;&gt;30 -->\n<g id=\"edge30\" class=\"edge\">\n<title>18&#45;&gt;30</title>\n<path fill=\"none\" stroke=\"#000000\" d=\"M1028.2463,-460.8796C1029.2907,-452.5938 1030.3994,-443.798 1031.4805,-435.2216\"/>\n<polygon fill=\"#000000\" stroke=\"#000000\" points=\"1034.9532,-435.6573 1032.7313,-425.2981 1028.0081,-434.7818 1034.9532,-435.6573\"/>\n</g>\n<!-- 20 -->\n<g id=\"node21\" class=\"node\">\n<title>20</title>\n<polygon fill=\"#e78b49\" stroke=\"#000000\" points=\"630,-306 456,-306 456,-223 630,-223 630,-306\"/>\n<text text-anchor=\"middle\" x=\"543\" y=\"-290.8\" font-family=\"Times,serif\" font-size=\"14.00\" fill=\"#000000\">ejection_fraction &lt;= &#45;0.886</text>\n<text text-anchor=\"middle\" x=\"543\" y=\"-275.8\" font-family=\"Times,serif\" font-size=\"14.00\" fill=\"#000000\">entropy = 0.376</text>\n<text text-anchor=\"middle\" x=\"543\" y=\"-260.8\" font-family=\"Times,serif\" font-size=\"14.00\" fill=\"#000000\">samples = 28</text>\n<text text-anchor=\"middle\" x=\"543\" y=\"-245.8\" font-family=\"Times,serif\" font-size=\"14.00\" fill=\"#000000\">value = [19.87, 1.56]</text>\n<text text-anchor=\"middle\" x=\"543\" y=\"-230.8\" font-family=\"Times,serif\" font-size=\"14.00\" fill=\"#000000\">class = 0</text>\n</g>\n<!-- 19&#45;&gt;20 -->\n<g id=\"edge20\" class=\"edge\">\n<title>19&#45;&gt;20</title>\n<path fill=\"none\" stroke=\"#000000\" d=\"M698.4144,-343.8747C677.68,-333.285 655.0876,-321.7464 633.7142,-310.8304\"/>\n<polygon fill=\"#000000\" stroke=\"#000000\" points=\"635.1355,-307.6263 624.6378,-306.1949 631.9516,-313.8603 635.1355,-307.6263\"/>\n</g>\n<!-- 25 -->\n<g id=\"node26\" class=\"node\">\n<title>25</title>\n<polygon fill=\"#b6dbf5\" stroke=\"#000000\" points=\"849.5,-306 702.5,-306 702.5,-223 849.5,-223 849.5,-306\"/>\n<text text-anchor=\"middle\" x=\"776\" y=\"-290.8\" font-family=\"Times,serif\" font-size=\"14.00\" fill=\"#000000\">time &lt;= 0.016</text>\n<text text-anchor=\"middle\" x=\"776\" y=\"-275.8\" font-family=\"Times,serif\" font-size=\"14.00\" fill=\"#000000\">entropy = 0.962</text>\n<text text-anchor=\"middle\" x=\"776\" y=\"-260.8\" font-family=\"Times,serif\" font-size=\"14.00\" fill=\"#000000\">samples = 7</text>\n<text text-anchor=\"middle\" x=\"776\" y=\"-245.8\" font-family=\"Times,serif\" font-size=\"14.00\" fill=\"#000000\">value = [2.944, 4.679]</text>\n<text text-anchor=\"middle\" x=\"776\" y=\"-230.8\" font-family=\"Times,serif\" font-size=\"14.00\" fill=\"#000000\">class = 1</text>\n</g>\n<!-- 19&#45;&gt;25 -->\n<g id=\"edge25\" class=\"edge\">\n<title>19&#45;&gt;25</title>\n<path fill=\"none\" stroke=\"#000000\" d=\"M776,-341.8796C776,-333.6838 776,-324.9891 776,-316.5013\"/>\n<polygon fill=\"#000000\" stroke=\"#000000\" points=\"779.5001,-316.298 776,-306.2981 772.5001,-316.2981 779.5001,-316.298\"/>\n</g>\n<!-- 21 -->\n<g id=\"node22\" class=\"node\">\n<title>21</title>\n<polygon fill=\"#f3c4a2\" stroke=\"#000000\" points=\"455,-187 315,-187 315,-104 455,-104 455,-187\"/>\n<text text-anchor=\"middle\" x=\"385\" y=\"-171.8\" font-family=\"Times,serif\" font-size=\"14.00\" fill=\"#000000\">time &lt;= &#45;0.632</text>\n<text text-anchor=\"middle\" x=\"385\" y=\"-156.8\" font-family=\"Times,serif\" font-size=\"14.00\" fill=\"#000000\">entropy = 0.931</text>\n<text text-anchor=\"middle\" x=\"385\" y=\"-141.8\" font-family=\"Times,serif\" font-size=\"14.00\" fill=\"#000000\">samples = 5</text>\n<text text-anchor=\"middle\" x=\"385\" y=\"-126.8\" font-family=\"Times,serif\" font-size=\"14.00\" fill=\"#000000\">value = [2.944, 1.56]</text>\n<text text-anchor=\"middle\" x=\"385\" y=\"-111.8\" font-family=\"Times,serif\" font-size=\"14.00\" fill=\"#000000\">class = 0</text>\n</g>\n<!-- 20&#45;&gt;21 -->\n<g id=\"edge21\" class=\"edge\">\n<title>20&#45;&gt;21</title>\n<path fill=\"none\" stroke=\"#000000\" d=\"M487.7393,-222.8796C474.9901,-213.2774 461.3317,-202.9903 448.2709,-193.1534\"/>\n<polygon fill=\"#000000\" stroke=\"#000000\" points=\"450.3231,-190.3174 440.2295,-187.0969 446.1117,-195.9089 450.3231,-190.3174\"/>\n</g>\n<!-- 24 -->\n<g id=\"node25\" class=\"node\">\n<title>24</title>\n<polygon fill=\"#e58139\" stroke=\"#000000\" points=\"613,-179.5 473,-179.5 473,-111.5 613,-111.5 613,-179.5\"/>\n<text text-anchor=\"middle\" x=\"543\" y=\"-164.3\" font-family=\"Times,serif\" font-size=\"14.00\" fill=\"#000000\">entropy = 0.0</text>\n<text text-anchor=\"middle\" x=\"543\" y=\"-149.3\" font-family=\"Times,serif\" font-size=\"14.00\" fill=\"#000000\">samples = 23</text>\n<text text-anchor=\"middle\" x=\"543\" y=\"-134.3\" font-family=\"Times,serif\" font-size=\"14.00\" fill=\"#000000\">value = [16.926, 0.0]</text>\n<text text-anchor=\"middle\" x=\"543\" y=\"-119.3\" font-family=\"Times,serif\" font-size=\"14.00\" fill=\"#000000\">class = 0</text>\n</g>\n<!-- 20&#45;&gt;24 -->\n<g id=\"edge24\" class=\"edge\">\n<title>20&#45;&gt;24</title>\n<path fill=\"none\" stroke=\"#000000\" d=\"M543,-222.8796C543,-212.2134 543,-200.7021 543,-189.9015\"/>\n<polygon fill=\"#000000\" stroke=\"#000000\" points=\"546.5001,-189.8149 543,-179.8149 539.5001,-189.815 546.5001,-189.8149\"/>\n</g>\n<!-- 22 -->\n<g id=\"node23\" class=\"node\">\n<title>22</title>\n<polygon fill=\"#399de5\" stroke=\"#000000\" points=\"374.5,-68 249.5,-68 249.5,0 374.5,0 374.5,-68\"/>\n<text text-anchor=\"middle\" x=\"312\" y=\"-52.8\" font-family=\"Times,serif\" font-size=\"14.00\" fill=\"#000000\">entropy = 0.0</text>\n<text text-anchor=\"middle\" x=\"312\" y=\"-37.8\" font-family=\"Times,serif\" font-size=\"14.00\" fill=\"#000000\">samples = 1</text>\n<text text-anchor=\"middle\" x=\"312\" y=\"-22.8\" font-family=\"Times,serif\" font-size=\"14.00\" fill=\"#000000\">value = [0.0, 1.56]</text>\n<text text-anchor=\"middle\" x=\"312\" y=\"-7.8\" font-family=\"Times,serif\" font-size=\"14.00\" fill=\"#000000\">class = 1</text>\n</g>\n<!-- 21&#45;&gt;22 -->\n<g id=\"edge22\" class=\"edge\">\n<title>21&#45;&gt;22</title>\n<path fill=\"none\" stroke=\"#000000\" d=\"M357.8175,-103.9815C351.9808,-95.0666 345.8034,-85.6313 339.9386,-76.6734\"/>\n<polygon fill=\"#000000\" stroke=\"#000000\" points=\"342.8386,-74.7129 334.4327,-68.2637 336.9821,-78.5472 342.8386,-74.7129\"/>\n</g>\n<!-- 23 -->\n<g id=\"node24\" class=\"node\">\n<title>23</title>\n<polygon fill=\"#e58139\" stroke=\"#000000\" points=\"525,-68 393,-68 393,0 525,0 525,-68\"/>\n<text text-anchor=\"middle\" x=\"459\" y=\"-52.8\" font-family=\"Times,serif\" font-size=\"14.00\" fill=\"#000000\">entropy = &#45;0.0</text>\n<text text-anchor=\"middle\" x=\"459\" y=\"-37.8\" font-family=\"Times,serif\" font-size=\"14.00\" fill=\"#000000\">samples = 4</text>\n<text text-anchor=\"middle\" x=\"459\" y=\"-22.8\" font-family=\"Times,serif\" font-size=\"14.00\" fill=\"#000000\">value = [2.944, 0.0]</text>\n<text text-anchor=\"middle\" x=\"459\" y=\"-7.8\" font-family=\"Times,serif\" font-size=\"14.00\" fill=\"#000000\">class = 0</text>\n</g>\n<!-- 21&#45;&gt;23 -->\n<g id=\"edge23\" class=\"edge\">\n<title>21&#45;&gt;23</title>\n<path fill=\"none\" stroke=\"#000000\" d=\"M412.5549,-103.9815C418.4715,-95.0666 424.7335,-85.6313 430.6787,-76.6734\"/>\n<polygon fill=\"#000000\" stroke=\"#000000\" points=\"433.6464,-78.5311 436.26,-68.2637 427.814,-74.6602 433.6464,-78.5311\"/>\n</g>\n<!-- 26 -->\n<g id=\"node27\" class=\"node\">\n<title>26</title>\n<polygon fill=\"#399de5\" stroke=\"#000000\" points=\"762.5,-179.5 631.5,-179.5 631.5,-111.5 762.5,-111.5 762.5,-179.5\"/>\n<text text-anchor=\"middle\" x=\"697\" y=\"-164.3\" font-family=\"Times,serif\" font-size=\"14.00\" fill=\"#000000\">entropy = 0.0</text>\n<text text-anchor=\"middle\" x=\"697\" y=\"-149.3\" font-family=\"Times,serif\" font-size=\"14.00\" fill=\"#000000\">samples = 2</text>\n<text text-anchor=\"middle\" x=\"697\" y=\"-134.3\" font-family=\"Times,serif\" font-size=\"14.00\" fill=\"#000000\">value = [0.0, 3.119]</text>\n<text text-anchor=\"middle\" x=\"697\" y=\"-119.3\" font-family=\"Times,serif\" font-size=\"14.00\" fill=\"#000000\">class = 1</text>\n</g>\n<!-- 25&#45;&gt;26 -->\n<g id=\"edge26\" class=\"edge\">\n<title>25&#45;&gt;26</title>\n<path fill=\"none\" stroke=\"#000000\" d=\"M748.3696,-222.8796C740.9237,-211.6636 732.8575,-199.5131 725.3718,-188.2372\"/>\n<polygon fill=\"#000000\" stroke=\"#000000\" points=\"728.2273,-186.2104 719.7805,-179.8149 722.3954,-190.082 728.2273,-186.2104\"/>\n</g>\n<!-- 27 -->\n<g id=\"node28\" class=\"node\">\n<title>27</title>\n<polygon fill=\"#f3c4a2\" stroke=\"#000000\" points=\"955,-187 781,-187 781,-104 955,-104 955,-187\"/>\n<text text-anchor=\"middle\" x=\"868\" y=\"-171.8\" font-family=\"Times,serif\" font-size=\"14.00\" fill=\"#000000\">ejection_fraction &lt;= &#45;0.886</text>\n<text text-anchor=\"middle\" x=\"868\" y=\"-156.8\" font-family=\"Times,serif\" font-size=\"14.00\" fill=\"#000000\">entropy = 0.931</text>\n<text text-anchor=\"middle\" x=\"868\" y=\"-141.8\" font-family=\"Times,serif\" font-size=\"14.00\" fill=\"#000000\">samples = 5</text>\n<text text-anchor=\"middle\" x=\"868\" y=\"-126.8\" font-family=\"Times,serif\" font-size=\"14.00\" fill=\"#000000\">value = [2.944, 1.56]</text>\n<text text-anchor=\"middle\" x=\"868\" y=\"-111.8\" font-family=\"Times,serif\" font-size=\"14.00\" fill=\"#000000\">class = 0</text>\n</g>\n<!-- 25&#45;&gt;27 -->\n<g id=\"edge27\" class=\"edge\">\n<title>25&#45;&gt;27</title>\n<path fill=\"none\" stroke=\"#000000\" d=\"M808.1771,-222.8796C815.0704,-213.9633 822.4202,-204.4565 829.5239,-195.268\"/>\n<polygon fill=\"#000000\" stroke=\"#000000\" points=\"832.3381,-197.3502 835.6855,-187.2981 826.8001,-193.0687 832.3381,-197.3502\"/>\n</g>\n<!-- 28 -->\n<g id=\"node29\" class=\"node\">\n<title>28</title>\n<polygon fill=\"#399de5\" stroke=\"#000000\" points=\"857.5,-68 732.5,-68 732.5,0 857.5,0 857.5,-68\"/>\n<text text-anchor=\"middle\" x=\"795\" y=\"-52.8\" font-family=\"Times,serif\" font-size=\"14.00\" fill=\"#000000\">entropy = 0.0</text>\n<text text-anchor=\"middle\" x=\"795\" y=\"-37.8\" font-family=\"Times,serif\" font-size=\"14.00\" fill=\"#000000\">samples = 1</text>\n<text text-anchor=\"middle\" x=\"795\" y=\"-22.8\" font-family=\"Times,serif\" font-size=\"14.00\" fill=\"#000000\">value = [0.0, 1.56]</text>\n<text text-anchor=\"middle\" x=\"795\" y=\"-7.8\" font-family=\"Times,serif\" font-size=\"14.00\" fill=\"#000000\">class = 1</text>\n</g>\n<!-- 27&#45;&gt;28 -->\n<g id=\"edge28\" class=\"edge\">\n<title>27&#45;&gt;28</title>\n<path fill=\"none\" stroke=\"#000000\" d=\"M840.8175,-103.9815C834.9808,-95.0666 828.8034,-85.6313 822.9386,-76.6734\"/>\n<polygon fill=\"#000000\" stroke=\"#000000\" points=\"825.8386,-74.7129 817.4327,-68.2637 819.9821,-78.5472 825.8386,-74.7129\"/>\n</g>\n<!-- 29 -->\n<g id=\"node30\" class=\"node\">\n<title>29</title>\n<polygon fill=\"#e58139\" stroke=\"#000000\" points=\"1008,-68 876,-68 876,0 1008,0 1008,-68\"/>\n<text text-anchor=\"middle\" x=\"942\" y=\"-52.8\" font-family=\"Times,serif\" font-size=\"14.00\" fill=\"#000000\">entropy = 0.0</text>\n<text text-anchor=\"middle\" x=\"942\" y=\"-37.8\" font-family=\"Times,serif\" font-size=\"14.00\" fill=\"#000000\">samples = 4</text>\n<text text-anchor=\"middle\" x=\"942\" y=\"-22.8\" font-family=\"Times,serif\" font-size=\"14.00\" fill=\"#000000\">value = [2.944, 0.0]</text>\n<text text-anchor=\"middle\" x=\"942\" y=\"-7.8\" font-family=\"Times,serif\" font-size=\"14.00\" fill=\"#000000\">class = 0</text>\n</g>\n<!-- 27&#45;&gt;29 -->\n<g id=\"edge29\" class=\"edge\">\n<title>27&#45;&gt;29</title>\n<path fill=\"none\" stroke=\"#000000\" d=\"M895.5549,-103.9815C901.4715,-95.0666 907.7335,-85.6313 913.6787,-76.6734\"/>\n<polygon fill=\"#000000\" stroke=\"#000000\" points=\"916.6464,-78.5311 919.26,-68.2637 910.814,-74.6602 916.6464,-78.5311\"/>\n</g>\n<!-- 31 -->\n<g id=\"node32\" class=\"node\">\n<title>31</title>\n<polygon fill=\"#4ca6e7\" stroke=\"#000000\" points=\"1127,-306 951,-306 951,-223 1127,-223 1127,-306\"/>\n<text text-anchor=\"middle\" x=\"1039\" y=\"-290.8\" font-family=\"Times,serif\" font-size=\"14.00\" fill=\"#000000\">serum_creatinine &lt;= &#45;0.522</text>\n<text text-anchor=\"middle\" x=\"1039\" y=\"-275.8\" font-family=\"Times,serif\" font-size=\"14.00\" fill=\"#000000\">entropy = 0.424</text>\n<text text-anchor=\"middle\" x=\"1039\" y=\"-260.8\" font-family=\"Times,serif\" font-size=\"14.00\" fill=\"#000000\">samples = 6</text>\n<text text-anchor=\"middle\" x=\"1039\" y=\"-245.8\" font-family=\"Times,serif\" font-size=\"14.00\" fill=\"#000000\">value = [0.736, 7.799]</text>\n<text text-anchor=\"middle\" x=\"1039\" y=\"-230.8\" font-family=\"Times,serif\" font-size=\"14.00\" fill=\"#000000\">class = 1</text>\n</g>\n<!-- 30&#45;&gt;31 -->\n<g id=\"edge31\" class=\"edge\">\n<title>30&#45;&gt;31</title>\n<path fill=\"none\" stroke=\"#000000\" d=\"M1038.3498,-341.8796C1038.4186,-333.6838 1038.4917,-324.9891 1038.563,-316.5013\"/>\n<polygon fill=\"#000000\" stroke=\"#000000\" points=\"1042.0645,-316.3272 1038.6488,-306.2981 1035.0648,-316.2683 1042.0645,-316.3272\"/>\n</g>\n<!-- 34 -->\n<g id=\"node35\" class=\"node\">\n<title>34</title>\n<polygon fill=\"#e58139\" stroke=\"#000000\" points=\"1269.5,-298.5 1144.5,-298.5 1144.5,-230.5 1269.5,-230.5 1269.5,-298.5\"/>\n<text text-anchor=\"middle\" x=\"1207\" y=\"-283.3\" font-family=\"Times,serif\" font-size=\"14.00\" fill=\"#000000\">entropy = &#45;0.0</text>\n<text text-anchor=\"middle\" x=\"1207\" y=\"-268.3\" font-family=\"Times,serif\" font-size=\"14.00\" fill=\"#000000\">samples = 5</text>\n<text text-anchor=\"middle\" x=\"1207\" y=\"-253.3\" font-family=\"Times,serif\" font-size=\"14.00\" fill=\"#000000\">value = [3.68, 0.0]</text>\n<text text-anchor=\"middle\" x=\"1207\" y=\"-238.3\" font-family=\"Times,serif\" font-size=\"14.00\" fill=\"#000000\">class = 0</text>\n</g>\n<!-- 30&#45;&gt;34 -->\n<g id=\"edge34\" class=\"edge\">\n<title>30&#45;&gt;34</title>\n<path fill=\"none\" stroke=\"#000000\" d=\"M1097.108,-341.8796C1114.3677,-329.7263 1133.1856,-316.4759 1150.293,-304.4297\"/>\n<polygon fill=\"#000000\" stroke=\"#000000\" points=\"1152.3782,-307.2421 1158.5396,-298.623 1148.3481,-301.5187 1152.3782,-307.2421\"/>\n</g>\n<!-- 32 -->\n<g id=\"node33\" class=\"node\">\n<title>32</title>\n<polygon fill=\"#e58139\" stroke=\"#000000\" points=\"1105,-179.5 973,-179.5 973,-111.5 1105,-111.5 1105,-179.5\"/>\n<text text-anchor=\"middle\" x=\"1039\" y=\"-164.3\" font-family=\"Times,serif\" font-size=\"14.00\" fill=\"#000000\">entropy = 0.0</text>\n<text text-anchor=\"middle\" x=\"1039\" y=\"-149.3\" font-family=\"Times,serif\" font-size=\"14.00\" fill=\"#000000\">samples = 1</text>\n<text text-anchor=\"middle\" x=\"1039\" y=\"-134.3\" font-family=\"Times,serif\" font-size=\"14.00\" fill=\"#000000\">value = [0.736, 0.0]</text>\n<text text-anchor=\"middle\" x=\"1039\" y=\"-119.3\" font-family=\"Times,serif\" font-size=\"14.00\" fill=\"#000000\">class = 0</text>\n</g>\n<!-- 31&#45;&gt;32 -->\n<g id=\"edge32\" class=\"edge\">\n<title>31&#45;&gt;32</title>\n<path fill=\"none\" stroke=\"#000000\" d=\"M1039,-222.8796C1039,-212.2134 1039,-200.7021 1039,-189.9015\"/>\n<polygon fill=\"#000000\" stroke=\"#000000\" points=\"1042.5001,-189.8149 1039,-179.8149 1035.5001,-189.815 1042.5001,-189.8149\"/>\n</g>\n<!-- 33 -->\n<g id=\"node34\" class=\"node\">\n<title>33</title>\n<polygon fill=\"#399de5\" stroke=\"#000000\" points=\"1255,-179.5 1123,-179.5 1123,-111.5 1255,-111.5 1255,-179.5\"/>\n<text text-anchor=\"middle\" x=\"1189\" y=\"-164.3\" font-family=\"Times,serif\" font-size=\"14.00\" fill=\"#000000\">entropy = 0.0</text>\n<text text-anchor=\"middle\" x=\"1189\" y=\"-149.3\" font-family=\"Times,serif\" font-size=\"14.00\" fill=\"#000000\">samples = 5</text>\n<text text-anchor=\"middle\" x=\"1189\" y=\"-134.3\" font-family=\"Times,serif\" font-size=\"14.00\" fill=\"#000000\">value = [0.0, 7.799]</text>\n<text text-anchor=\"middle\" x=\"1189\" y=\"-119.3\" font-family=\"Times,serif\" font-size=\"14.00\" fill=\"#000000\">class = 1</text>\n</g>\n<!-- 31&#45;&gt;33 -->\n<g id=\"edge33\" class=\"edge\">\n<title>31&#45;&gt;33</title>\n<path fill=\"none\" stroke=\"#000000\" d=\"M1091.4627,-222.8796C1106.4322,-211.0038 1122.7222,-198.0804 1137.6259,-186.2568\"/>\n<polygon fill=\"#000000\" stroke=\"#000000\" points=\"1140.087,-188.772 1145.7459,-179.8149 1135.7365,-183.2881 1140.087,-188.772\"/>\n</g>\n<!-- 36 -->\n<g id=\"node37\" class=\"node\">\n<title>36</title>\n<polygon fill=\"#f3c4a2\" stroke=\"#000000\" points=\"1345.5,-544 1122.5,-544 1122.5,-461 1345.5,-461 1345.5,-544\"/>\n<text text-anchor=\"middle\" x=\"1234\" y=\"-528.8\" font-family=\"Times,serif\" font-size=\"14.00\" fill=\"#000000\">creatinine_phosphokinase &lt;= 0.589</text>\n<text text-anchor=\"middle\" x=\"1234\" y=\"-513.8\" font-family=\"Times,serif\" font-size=\"14.00\" fill=\"#000000\">entropy = 0.931</text>\n<text text-anchor=\"middle\" x=\"1234\" y=\"-498.8\" font-family=\"Times,serif\" font-size=\"14.00\" fill=\"#000000\">samples = 5</text>\n<text text-anchor=\"middle\" x=\"1234\" y=\"-483.8\" font-family=\"Times,serif\" font-size=\"14.00\" fill=\"#000000\">value = [2.944, 1.56]</text>\n<text text-anchor=\"middle\" x=\"1234\" y=\"-468.8\" font-family=\"Times,serif\" font-size=\"14.00\" fill=\"#000000\">class = 0</text>\n</g>\n<!-- 35&#45;&gt;36 -->\n<g id=\"edge36\" class=\"edge\">\n<title>35&#45;&gt;36</title>\n<path fill=\"none\" stroke=\"#000000\" d=\"M1236.601,-579.8796C1236.3255,-571.6838 1236.0332,-562.9891 1235.7479,-554.5013\"/>\n<polygon fill=\"#000000\" stroke=\"#000000\" points=\"1239.239,-554.1748 1235.405,-544.2981 1232.243,-554.41 1239.239,-554.1748\"/>\n</g>\n<!-- 39 -->\n<g id=\"node40\" class=\"node\">\n<title>39</title>\n<polygon fill=\"#e58139\" stroke=\"#000000\" points=\"1504,-536.5 1364,-536.5 1364,-468.5 1504,-468.5 1504,-536.5\"/>\n<text text-anchor=\"middle\" x=\"1434\" y=\"-521.3\" font-family=\"Times,serif\" font-size=\"14.00\" fill=\"#000000\">entropy = &#45;0.0</text>\n<text text-anchor=\"middle\" x=\"1434\" y=\"-506.3\" font-family=\"Times,serif\" font-size=\"14.00\" fill=\"#000000\">samples = 57</text>\n<text text-anchor=\"middle\" x=\"1434\" y=\"-491.3\" font-family=\"Times,serif\" font-size=\"14.00\" fill=\"#000000\">value = [41.947, 0.0]</text>\n<text text-anchor=\"middle\" x=\"1434\" y=\"-476.3\" font-family=\"Times,serif\" font-size=\"14.00\" fill=\"#000000\">class = 0</text>\n</g>\n<!-- 35&#45;&gt;39 -->\n<g id=\"edge39\" class=\"edge\">\n<title>35&#45;&gt;39</title>\n<path fill=\"none\" stroke=\"#000000\" d=\"M1306.5513,-579.8796C1326.8414,-567.5606 1348.9883,-554.1143 1369.0439,-541.9376\"/>\n<polygon fill=\"#000000\" stroke=\"#000000\" points=\"1371.0659,-544.8046 1377.7974,-536.623 1367.433,-538.8211 1371.0659,-544.8046\"/>\n</g>\n<!-- 37 -->\n<g id=\"node38\" class=\"node\">\n<title>37</title>\n<polygon fill=\"#e58139\" stroke=\"#000000\" points=\"1300,-417.5 1168,-417.5 1168,-349.5 1300,-349.5 1300,-417.5\"/>\n<text text-anchor=\"middle\" x=\"1234\" y=\"-402.3\" font-family=\"Times,serif\" font-size=\"14.00\" fill=\"#000000\">entropy = 0.0</text>\n<text text-anchor=\"middle\" x=\"1234\" y=\"-387.3\" font-family=\"Times,serif\" font-size=\"14.00\" fill=\"#000000\">samples = 4</text>\n<text text-anchor=\"middle\" x=\"1234\" y=\"-372.3\" font-family=\"Times,serif\" font-size=\"14.00\" fill=\"#000000\">value = [2.944, 0.0]</text>\n<text text-anchor=\"middle\" x=\"1234\" y=\"-357.3\" font-family=\"Times,serif\" font-size=\"14.00\" fill=\"#000000\">class = 0</text>\n</g>\n<!-- 36&#45;&gt;37 -->\n<g id=\"edge37\" class=\"edge\">\n<title>36&#45;&gt;37</title>\n<path fill=\"none\" stroke=\"#000000\" d=\"M1234,-460.8796C1234,-450.2134 1234,-438.7021 1234,-427.9015\"/>\n<polygon fill=\"#000000\" stroke=\"#000000\" points=\"1237.5001,-427.8149 1234,-417.8149 1230.5001,-427.815 1237.5001,-427.8149\"/>\n</g>\n<!-- 38 -->\n<g id=\"node39\" class=\"node\">\n<title>38</title>\n<polygon fill=\"#399de5\" stroke=\"#000000\" points=\"1443.5,-417.5 1318.5,-417.5 1318.5,-349.5 1443.5,-349.5 1443.5,-417.5\"/>\n<text text-anchor=\"middle\" x=\"1381\" y=\"-402.3\" font-family=\"Times,serif\" font-size=\"14.00\" fill=\"#000000\">entropy = 0.0</text>\n<text text-anchor=\"middle\" x=\"1381\" y=\"-387.3\" font-family=\"Times,serif\" font-size=\"14.00\" fill=\"#000000\">samples = 1</text>\n<text text-anchor=\"middle\" x=\"1381\" y=\"-372.3\" font-family=\"Times,serif\" font-size=\"14.00\" fill=\"#000000\">value = [0.0, 1.56]</text>\n<text text-anchor=\"middle\" x=\"1381\" y=\"-357.3\" font-family=\"Times,serif\" font-size=\"14.00\" fill=\"#000000\">class = 1</text>\n</g>\n<!-- 36&#45;&gt;38 -->\n<g id=\"edge38\" class=\"edge\">\n<title>36&#45;&gt;38</title>\n<path fill=\"none\" stroke=\"#000000\" d=\"M1285.4135,-460.8796C1300.0835,-449.0038 1316.0477,-436.0804 1330.6533,-424.2568\"/>\n<polygon fill=\"#000000\" stroke=\"#000000\" points=\"1333.0407,-426.8273 1338.611,-417.8149 1328.6363,-421.3866 1333.0407,-426.8273\"/>\n</g>\n<!-- 41 -->\n<g id=\"node42\" class=\"node\">\n<title>41</title>\n<polygon fill=\"#71b9ec\" stroke=\"#000000\" points=\"1701.5,-663 1474.5,-663 1474.5,-580 1701.5,-580 1701.5,-663\"/>\n<text text-anchor=\"middle\" x=\"1588\" y=\"-647.8\" font-family=\"Times,serif\" font-size=\"14.00\" fill=\"#000000\">creatinine_phosphokinase &lt;= &#45;0.566</text>\n<text text-anchor=\"middle\" x=\"1588\" y=\"-632.8\" font-family=\"Times,serif\" font-size=\"14.00\" fill=\"#000000\">entropy = 0.761</text>\n<text text-anchor=\"middle\" x=\"1588\" y=\"-617.8\" font-family=\"Times,serif\" font-size=\"14.00\" fill=\"#000000\">samples = 24</text>\n<text text-anchor=\"middle\" x=\"1588\" y=\"-602.8\" font-family=\"Times,serif\" font-size=\"14.00\" fill=\"#000000\">value = [6.623, 23.396]</text>\n<text text-anchor=\"middle\" x=\"1588\" y=\"-587.8\" font-family=\"Times,serif\" font-size=\"14.00\" fill=\"#000000\">class = 1</text>\n</g>\n<!-- 40&#45;&gt;41 -->\n<g id=\"edge41\" class=\"edge\">\n<title>40&#45;&gt;41</title>\n<path fill=\"none\" stroke=\"#000000\" d=\"M1588,-698.8796C1588,-690.6838 1588,-681.9891 1588,-673.5013\"/>\n<polygon fill=\"#000000\" stroke=\"#000000\" points=\"1591.5001,-673.298 1588,-663.2981 1584.5001,-673.2981 1591.5001,-673.298\"/>\n</g>\n<!-- 56 -->\n<g id=\"node57\" class=\"node\">\n<title>56</title>\n<polygon fill=\"#e58139\" stroke=\"#000000\" points=\"1852,-655.5 1720,-655.5 1720,-587.5 1852,-587.5 1852,-655.5\"/>\n<text text-anchor=\"middle\" x=\"1786\" y=\"-640.3\" font-family=\"Times,serif\" font-size=\"14.00\" fill=\"#000000\">entropy = &#45;0.0</text>\n<text text-anchor=\"middle\" x=\"1786\" y=\"-625.3\" font-family=\"Times,serif\" font-size=\"14.00\" fill=\"#000000\">samples = 8</text>\n<text text-anchor=\"middle\" x=\"1786\" y=\"-610.3\" font-family=\"Times,serif\" font-size=\"14.00\" fill=\"#000000\">value = [5.887, 0.0]</text>\n<text text-anchor=\"middle\" x=\"1786\" y=\"-595.3\" font-family=\"Times,serif\" font-size=\"14.00\" fill=\"#000000\">class = 0</text>\n</g>\n<!-- 40&#45;&gt;56 -->\n<g id=\"edge56\" class=\"edge\">\n<title>40&#45;&gt;56</title>\n<path fill=\"none\" stroke=\"#000000\" d=\"M1657.2508,-698.8796C1677.748,-686.5606 1700.1208,-673.1143 1720.3811,-660.9376\"/>\n<polygon fill=\"#000000\" stroke=\"#000000\" points=\"1722.4557,-663.7743 1729.2239,-655.623 1718.8498,-657.7745 1722.4557,-663.7743\"/>\n</g>\n<!-- 42 -->\n<g id=\"node43\" class=\"node\">\n<title>42</title>\n<polygon fill=\"#e58139\" stroke=\"#000000\" points=\"1654,-536.5 1522,-536.5 1522,-468.5 1654,-468.5 1654,-536.5\"/>\n<text text-anchor=\"middle\" x=\"1588\" y=\"-521.3\" font-family=\"Times,serif\" font-size=\"14.00\" fill=\"#000000\">entropy = 0.0</text>\n<text text-anchor=\"middle\" x=\"1588\" y=\"-506.3\" font-family=\"Times,serif\" font-size=\"14.00\" fill=\"#000000\">samples = 3</text>\n<text text-anchor=\"middle\" x=\"1588\" y=\"-491.3\" font-family=\"Times,serif\" font-size=\"14.00\" fill=\"#000000\">value = [2.208, 0.0]</text>\n<text text-anchor=\"middle\" x=\"1588\" y=\"-476.3\" font-family=\"Times,serif\" font-size=\"14.00\" fill=\"#000000\">class = 0</text>\n</g>\n<!-- 41&#45;&gt;42 -->\n<g id=\"edge42\" class=\"edge\">\n<title>41&#45;&gt;42</title>\n<path fill=\"none\" stroke=\"#000000\" d=\"M1588,-579.8796C1588,-569.2134 1588,-557.7021 1588,-546.9015\"/>\n<polygon fill=\"#000000\" stroke=\"#000000\" points=\"1591.5001,-546.8149 1588,-536.8149 1584.5001,-546.815 1591.5001,-546.8149\"/>\n</g>\n<!-- 43 -->\n<g id=\"node44\" class=\"node\">\n<title>43</title>\n<polygon fill=\"#5eafea\" stroke=\"#000000\" points=\"1868,-544 1672,-544 1672,-461 1868,-461 1868,-544\"/>\n<text text-anchor=\"middle\" x=\"1770\" y=\"-528.8\" font-family=\"Times,serif\" font-size=\"14.00\" fill=\"#000000\">high_blood_pressure &lt;= 0.384</text>\n<text text-anchor=\"middle\" x=\"1770\" y=\"-513.8\" font-family=\"Times,serif\" font-size=\"14.00\" fill=\"#000000\">entropy = 0.631</text>\n<text text-anchor=\"middle\" x=\"1770\" y=\"-498.8\" font-family=\"Times,serif\" font-size=\"14.00\" fill=\"#000000\">samples = 21</text>\n<text text-anchor=\"middle\" x=\"1770\" y=\"-483.8\" font-family=\"Times,serif\" font-size=\"14.00\" fill=\"#000000\">value = [4.415, 23.396]</text>\n<text text-anchor=\"middle\" x=\"1770\" y=\"-468.8\" font-family=\"Times,serif\" font-size=\"14.00\" fill=\"#000000\">class = 1</text>\n</g>\n<!-- 41&#45;&gt;43 -->\n<g id=\"edge43\" class=\"edge\">\n<title>41&#45;&gt;43</title>\n<path fill=\"none\" stroke=\"#000000\" d=\"M1651.6548,-579.8796C1666.6176,-570.0962 1682.6677,-559.6019 1697.9691,-549.5971\"/>\n<polygon fill=\"#000000\" stroke=\"#000000\" points=\"1699.9269,-552.4989 1706.3812,-544.0969 1696.0961,-546.6401 1699.9269,-552.4989\"/>\n</g>\n<!-- 44 -->\n<g id=\"node45\" class=\"node\">\n<title>44</title>\n<polygon fill=\"#77bced\" stroke=\"#000000\" points=\"1766.5,-425 1611.5,-425 1611.5,-342 1766.5,-342 1766.5,-425\"/>\n<text text-anchor=\"middle\" x=\"1689\" y=\"-409.8\" font-family=\"Times,serif\" font-size=\"14.00\" fill=\"#000000\">platelets &lt;= &#45;0.325</text>\n<text text-anchor=\"middle\" x=\"1689\" y=\"-394.8\" font-family=\"Times,serif\" font-size=\"14.00\" fill=\"#000000\">entropy = 0.794</text>\n<text text-anchor=\"middle\" x=\"1689\" y=\"-379.8\" font-family=\"Times,serif\" font-size=\"14.00\" fill=\"#000000\">samples = 15</text>\n<text text-anchor=\"middle\" x=\"1689\" y=\"-364.8\" font-family=\"Times,serif\" font-size=\"14.00\" fill=\"#000000\">value = [4.415, 14.037]</text>\n<text text-anchor=\"middle\" x=\"1689\" y=\"-349.8\" font-family=\"Times,serif\" font-size=\"14.00\" fill=\"#000000\">class = 1</text>\n</g>\n<!-- 43&#45;&gt;44 -->\n<g id=\"edge44\" class=\"edge\">\n<title>43&#45;&gt;44</title>\n<path fill=\"none\" stroke=\"#000000\" d=\"M1741.6701,-460.8796C1735.7237,-452.1434 1729.3914,-442.8404 1723.255,-433.8253\"/>\n<polygon fill=\"#000000\" stroke=\"#000000\" points=\"1725.9711,-431.5953 1717.4508,-425.2981 1720.1844,-435.5342 1725.9711,-431.5953\"/>\n</g>\n<!-- 55 -->\n<g id=\"node56\" class=\"node\">\n<title>55</title>\n<polygon fill=\"#399de5\" stroke=\"#000000\" points=\"1917,-417.5 1785,-417.5 1785,-349.5 1917,-349.5 1917,-417.5\"/>\n<text text-anchor=\"middle\" x=\"1851\" y=\"-402.3\" font-family=\"Times,serif\" font-size=\"14.00\" fill=\"#000000\">entropy = 0.0</text>\n<text text-anchor=\"middle\" x=\"1851\" y=\"-387.3\" font-family=\"Times,serif\" font-size=\"14.00\" fill=\"#000000\">samples = 6</text>\n<text text-anchor=\"middle\" x=\"1851\" y=\"-372.3\" font-family=\"Times,serif\" font-size=\"14.00\" fill=\"#000000\">value = [0.0, 9.358]</text>\n<text text-anchor=\"middle\" x=\"1851\" y=\"-357.3\" font-family=\"Times,serif\" font-size=\"14.00\" fill=\"#000000\">class = 1</text>\n</g>\n<!-- 43&#45;&gt;55 -->\n<g id=\"edge55\" class=\"edge\">\n<title>43&#45;&gt;55</title>\n<path fill=\"none\" stroke=\"#000000\" d=\"M1798.3299,-460.8796C1805.9643,-449.6636 1814.2348,-437.5131 1821.9099,-426.2372\"/>\n<polygon fill=\"#000000\" stroke=\"#000000\" points=\"1824.9092,-428.0511 1827.6428,-417.8149 1819.1225,-424.1122 1824.9092,-428.0511\"/>\n</g>\n<!-- 45 -->\n<g id=\"node46\" class=\"node\">\n<title>45</title>\n<polygon fill=\"#46a4e7\" stroke=\"#000000\" points=\"1651.5,-306 1492.5,-306 1492.5,-223 1651.5,-223 1651.5,-306\"/>\n<text text-anchor=\"middle\" x=\"1572\" y=\"-290.8\" font-family=\"Times,serif\" font-size=\"14.00\" fill=\"#000000\">serum_sodium &lt;= 0.204</text>\n<text text-anchor=\"middle\" x=\"1572\" y=\"-275.8\" font-family=\"Times,serif\" font-size=\"14.00\" fill=\"#000000\">entropy = 0.34</text>\n<text text-anchor=\"middle\" x=\"1572\" y=\"-260.8\" font-family=\"Times,serif\" font-size=\"14.00\" fill=\"#000000\">samples = 8</text>\n<text text-anchor=\"middle\" x=\"1572\" y=\"-245.8\" font-family=\"Times,serif\" font-size=\"14.00\" fill=\"#000000\">value = [0.736, 10.918]</text>\n<text text-anchor=\"middle\" x=\"1572\" y=\"-230.8\" font-family=\"Times,serif\" font-size=\"14.00\" fill=\"#000000\">class = 1</text>\n</g>\n<!-- 44&#45;&gt;45 -->\n<g id=\"edge45\" class=\"edge\">\n<title>44&#45;&gt;45</title>\n<path fill=\"none\" stroke=\"#000000\" d=\"M1648.0791,-341.8796C1639.047,-332.6931 1629.3987,-322.8798 1620.1112,-313.4336\"/>\n<polygon fill=\"#000000\" stroke=\"#000000\" points=\"1622.6023,-310.975 1613.0956,-306.2981 1617.6107,-315.8827 1622.6023,-310.975\"/>\n</g>\n<!-- 50 -->\n<g id=\"node51\" class=\"node\">\n<title>50</title>\n<polygon fill=\"#fbece1\" stroke=\"#000000\" points=\"1839.5,-306 1700.5,-306 1700.5,-223 1839.5,-223 1839.5,-306\"/>\n<text text-anchor=\"middle\" x=\"1770\" y=\"-290.8\" font-family=\"Times,serif\" font-size=\"14.00\" fill=\"#000000\">time &lt;= 0.123</text>\n<text text-anchor=\"middle\" x=\"1770\" y=\"-275.8\" font-family=\"Times,serif\" font-size=\"14.00\" fill=\"#000000\">entropy = 0.995</text>\n<text text-anchor=\"middle\" x=\"1770\" y=\"-260.8\" font-family=\"Times,serif\" font-size=\"14.00\" fill=\"#000000\">samples = 7</text>\n<text text-anchor=\"middle\" x=\"1770\" y=\"-245.8\" font-family=\"Times,serif\" font-size=\"14.00\" fill=\"#000000\">value = [3.68, 3.119]</text>\n<text text-anchor=\"middle\" x=\"1770\" y=\"-230.8\" font-family=\"Times,serif\" font-size=\"14.00\" fill=\"#000000\">class = 0</text>\n</g>\n<!-- 44&#45;&gt;50 -->\n<g id=\"edge50\" class=\"edge\">\n<title>44&#45;&gt;50</title>\n<path fill=\"none\" stroke=\"#000000\" d=\"M1717.3299,-341.8796C1723.2763,-333.1434 1729.6086,-323.8404 1735.745,-314.8253\"/>\n<polygon fill=\"#000000\" stroke=\"#000000\" points=\"1738.8156,-316.5342 1741.5492,-306.2981 1733.0289,-312.5953 1738.8156,-316.5342\"/>\n</g>\n<!-- 46 -->\n<g id=\"node47\" class=\"node\">\n<title>46</title>\n<polygon fill=\"#399de5\" stroke=\"#000000\" points=\"1440,-179.5 1308,-179.5 1308,-111.5 1440,-111.5 1440,-179.5\"/>\n<text text-anchor=\"middle\" x=\"1374\" y=\"-164.3\" font-family=\"Times,serif\" font-size=\"14.00\" fill=\"#000000\">entropy = 0.0</text>\n<text text-anchor=\"middle\" x=\"1374\" y=\"-149.3\" font-family=\"Times,serif\" font-size=\"14.00\" fill=\"#000000\">samples = 6</text>\n<text text-anchor=\"middle\" x=\"1374\" y=\"-134.3\" font-family=\"Times,serif\" font-size=\"14.00\" fill=\"#000000\">value = [0.0, 9.358]</text>\n<text text-anchor=\"middle\" x=\"1374\" y=\"-119.3\" font-family=\"Times,serif\" font-size=\"14.00\" fill=\"#000000\">class = 1</text>\n</g>\n<!-- 45&#45;&gt;46 -->\n<g id=\"edge46\" class=\"edge\">\n<title>45&#45;&gt;46</title>\n<path fill=\"none\" stroke=\"#000000\" d=\"M1502.7492,-222.8796C1482.252,-210.5606 1459.8792,-197.1143 1439.6189,-184.9376\"/>\n<polygon fill=\"#000000\" stroke=\"#000000\" points=\"1441.1502,-181.7745 1430.7761,-179.623 1437.5443,-187.7743 1441.1502,-181.7745\"/>\n</g>\n<!-- 47 -->\n<g id=\"node48\" class=\"node\">\n<title>47</title>\n<polygon fill=\"#96cbf1\" stroke=\"#000000\" points=\"1685.5,-187 1458.5,-187 1458.5,-104 1685.5,-104 1685.5,-187\"/>\n<text text-anchor=\"middle\" x=\"1572\" y=\"-171.8\" font-family=\"Times,serif\" font-size=\"14.00\" fill=\"#000000\">creatinine_phosphokinase &lt;= &#45;0.279</text>\n<text text-anchor=\"middle\" x=\"1572\" y=\"-156.8\" font-family=\"Times,serif\" font-size=\"14.00\" fill=\"#000000\">entropy = 0.905</text>\n<text text-anchor=\"middle\" x=\"1572\" y=\"-141.8\" font-family=\"Times,serif\" font-size=\"14.00\" fill=\"#000000\">samples = 2</text>\n<text text-anchor=\"middle\" x=\"1572\" y=\"-126.8\" font-family=\"Times,serif\" font-size=\"14.00\" fill=\"#000000\">value = [0.736, 1.56]</text>\n<text text-anchor=\"middle\" x=\"1572\" y=\"-111.8\" font-family=\"Times,serif\" font-size=\"14.00\" fill=\"#000000\">class = 1</text>\n</g>\n<!-- 45&#45;&gt;47 -->\n<g id=\"edge47\" class=\"edge\">\n<title>45&#45;&gt;47</title>\n<path fill=\"none\" stroke=\"#000000\" d=\"M1572,-222.8796C1572,-214.6838 1572,-205.9891 1572,-197.5013\"/>\n<polygon fill=\"#000000\" stroke=\"#000000\" points=\"1575.5001,-197.298 1572,-187.2981 1568.5001,-197.2981 1575.5001,-197.298\"/>\n</g>\n<!-- 48 -->\n<g id=\"node49\" class=\"node\">\n<title>48</title>\n<polygon fill=\"#e58139\" stroke=\"#000000\" points=\"1582,-68 1450,-68 1450,0 1582,0 1582,-68\"/>\n<text text-anchor=\"middle\" x=\"1516\" y=\"-52.8\" font-family=\"Times,serif\" font-size=\"14.00\" fill=\"#000000\">entropy = 0.0</text>\n<text text-anchor=\"middle\" x=\"1516\" y=\"-37.8\" font-family=\"Times,serif\" font-size=\"14.00\" fill=\"#000000\">samples = 1</text>\n<text text-anchor=\"middle\" x=\"1516\" y=\"-22.8\" font-family=\"Times,serif\" font-size=\"14.00\" fill=\"#000000\">value = [0.736, 0.0]</text>\n<text text-anchor=\"middle\" x=\"1516\" y=\"-7.8\" font-family=\"Times,serif\" font-size=\"14.00\" fill=\"#000000\">class = 0</text>\n</g>\n<!-- 47&#45;&gt;48 -->\n<g id=\"edge48\" class=\"edge\">\n<title>47&#45;&gt;48</title>\n<path fill=\"none\" stroke=\"#000000\" d=\"M1551.1477,-103.9815C1546.7625,-95.2504 1542.1267,-86.0202 1537.711,-77.2281\"/>\n<polygon fill=\"#000000\" stroke=\"#000000\" points=\"1540.8246,-75.6291 1533.2087,-68.2637 1534.5692,-78.7708 1540.8246,-75.6291\"/>\n</g>\n<!-- 49 -->\n<g id=\"node50\" class=\"node\">\n<title>49</title>\n<polygon fill=\"#399de5\" stroke=\"#000000\" points=\"1725.5,-68 1600.5,-68 1600.5,0 1725.5,0 1725.5,-68\"/>\n<text text-anchor=\"middle\" x=\"1663\" y=\"-52.8\" font-family=\"Times,serif\" font-size=\"14.00\" fill=\"#000000\">entropy = &#45;0.0</text>\n<text text-anchor=\"middle\" x=\"1663\" y=\"-37.8\" font-family=\"Times,serif\" font-size=\"14.00\" fill=\"#000000\">samples = 1</text>\n<text text-anchor=\"middle\" x=\"1663\" y=\"-22.8\" font-family=\"Times,serif\" font-size=\"14.00\" fill=\"#000000\">value = [0.0, 1.56]</text>\n<text text-anchor=\"middle\" x=\"1663\" y=\"-7.8\" font-family=\"Times,serif\" font-size=\"14.00\" fill=\"#000000\">class = 1</text>\n</g>\n<!-- 47&#45;&gt;49 -->\n<g id=\"edge49\" class=\"edge\">\n<title>47&#45;&gt;49</title>\n<path fill=\"none\" stroke=\"#000000\" d=\"M1605.885,-103.9815C1613.3109,-94.8828 1621.1792,-85.242 1628.6241,-76.1199\"/>\n<polygon fill=\"#000000\" stroke=\"#000000\" points=\"1631.4245,-78.224 1635.0359,-68.2637 1626.0014,-73.798 1631.4245,-78.224\"/>\n</g>\n<!-- 51 -->\n<g id=\"node52\" class=\"node\">\n<title>51</title>\n<polygon fill=\"#e58139\" stroke=\"#000000\" points=\"1836,-179.5 1704,-179.5 1704,-111.5 1836,-111.5 1836,-179.5\"/>\n<text text-anchor=\"middle\" x=\"1770\" y=\"-164.3\" font-family=\"Times,serif\" font-size=\"14.00\" fill=\"#000000\">entropy = &#45;0.0</text>\n<text text-anchor=\"middle\" x=\"1770\" y=\"-149.3\" font-family=\"Times,serif\" font-size=\"14.00\" fill=\"#000000\">samples = 4</text>\n<text text-anchor=\"middle\" x=\"1770\" y=\"-134.3\" font-family=\"Times,serif\" font-size=\"14.00\" fill=\"#000000\">value = [2.944, 0.0]</text>\n<text text-anchor=\"middle\" x=\"1770\" y=\"-119.3\" font-family=\"Times,serif\" font-size=\"14.00\" fill=\"#000000\">class = 0</text>\n</g>\n<!-- 50&#45;&gt;51 -->\n<g id=\"edge51\" class=\"edge\">\n<title>50&#45;&gt;51</title>\n<path fill=\"none\" stroke=\"#000000\" d=\"M1770,-222.8796C1770,-212.2134 1770,-200.7021 1770,-189.9015\"/>\n<polygon fill=\"#000000\" stroke=\"#000000\" points=\"1773.5001,-189.8149 1770,-179.8149 1766.5001,-189.815 1773.5001,-189.8149\"/>\n</g>\n<!-- 52 -->\n<g id=\"node53\" class=\"node\">\n<title>52</title>\n<polygon fill=\"#68b4eb\" stroke=\"#000000\" points=\"2021.5,-187 1854.5,-187 1854.5,-104 2021.5,-104 2021.5,-187\"/>\n<text text-anchor=\"middle\" x=\"1938\" y=\"-171.8\" font-family=\"Times,serif\" font-size=\"14.00\" fill=\"#000000\">ejection_fraction &lt;= &#45;0.66</text>\n<text text-anchor=\"middle\" x=\"1938\" y=\"-156.8\" font-family=\"Times,serif\" font-size=\"14.00\" fill=\"#000000\">entropy = 0.703</text>\n<text text-anchor=\"middle\" x=\"1938\" y=\"-141.8\" font-family=\"Times,serif\" font-size=\"14.00\" fill=\"#000000\">samples = 3</text>\n<text text-anchor=\"middle\" x=\"1938\" y=\"-126.8\" font-family=\"Times,serif\" font-size=\"14.00\" fill=\"#000000\">value = [0.736, 3.119]</text>\n<text text-anchor=\"middle\" x=\"1938\" y=\"-111.8\" font-family=\"Times,serif\" font-size=\"14.00\" fill=\"#000000\">class = 1</text>\n</g>\n<!-- 50&#45;&gt;52 -->\n<g id=\"edge52\" class=\"edge\">\n<title>50&#45;&gt;52</title>\n<path fill=\"none\" stroke=\"#000000\" d=\"M1828.7582,-222.8796C1842.3143,-213.2774 1856.8372,-202.9903 1870.7246,-193.1534\"/>\n<polygon fill=\"#000000\" stroke=\"#000000\" points=\"1873.1377,-195.7332 1879.2749,-187.0969 1869.0916,-190.021 1873.1377,-195.7332\"/>\n</g>\n<!-- 53 -->\n<g id=\"node54\" class=\"node\">\n<title>53</title>\n<polygon fill=\"#399de5\" stroke=\"#000000\" points=\"1909.5,-68 1778.5,-68 1778.5,0 1909.5,0 1909.5,-68\"/>\n<text text-anchor=\"middle\" x=\"1844\" y=\"-52.8\" font-family=\"Times,serif\" font-size=\"14.00\" fill=\"#000000\">entropy = 0.0</text>\n<text text-anchor=\"middle\" x=\"1844\" y=\"-37.8\" font-family=\"Times,serif\" font-size=\"14.00\" fill=\"#000000\">samples = 2</text>\n<text text-anchor=\"middle\" x=\"1844\" y=\"-22.8\" font-family=\"Times,serif\" font-size=\"14.00\" fill=\"#000000\">value = [0.0, 3.119]</text>\n<text text-anchor=\"middle\" x=\"1844\" y=\"-7.8\" font-family=\"Times,serif\" font-size=\"14.00\" fill=\"#000000\">class = 1</text>\n</g>\n<!-- 52&#45;&gt;53 -->\n<g id=\"edge53\" class=\"edge\">\n<title>52&#45;&gt;53</title>\n<path fill=\"none\" stroke=\"#000000\" d=\"M1902.9979,-103.9815C1895.3272,-94.8828 1887.1995,-85.242 1879.5091,-76.1199\"/>\n<polygon fill=\"#000000\" stroke=\"#000000\" points=\"1882.0075,-73.6533 1872.886,-68.2637 1876.6556,-78.1652 1882.0075,-73.6533\"/>\n</g>\n<!-- 54 -->\n<g id=\"node55\" class=\"node\">\n<title>54</title>\n<polygon fill=\"#e58139\" stroke=\"#000000\" points=\"2060,-68 1928,-68 1928,0 2060,0 2060,-68\"/>\n<text text-anchor=\"middle\" x=\"1994\" y=\"-52.8\" font-family=\"Times,serif\" font-size=\"14.00\" fill=\"#000000\">entropy = 0.0</text>\n<text text-anchor=\"middle\" x=\"1994\" y=\"-37.8\" font-family=\"Times,serif\" font-size=\"14.00\" fill=\"#000000\">samples = 1</text>\n<text text-anchor=\"middle\" x=\"1994\" y=\"-22.8\" font-family=\"Times,serif\" font-size=\"14.00\" fill=\"#000000\">value = [0.736, 0.0]</text>\n<text text-anchor=\"middle\" x=\"1994\" y=\"-7.8\" font-family=\"Times,serif\" font-size=\"14.00\" fill=\"#000000\">class = 0</text>\n</g>\n<!-- 52&#45;&gt;54 -->\n<g id=\"edge54\" class=\"edge\">\n<title>52&#45;&gt;54</title>\n<path fill=\"none\" stroke=\"#000000\" d=\"M1958.8523,-103.9815C1963.2375,-95.2504 1967.8733,-86.0202 1972.289,-77.2281\"/>\n<polygon fill=\"#000000\" stroke=\"#000000\" points=\"1975.4308,-78.7708 1976.7913,-68.2637 1969.1754,-75.6291 1975.4308,-78.7708\"/>\n</g>\n</g>\n</svg>\n"
          },
          "metadata": {
            "tags": []
          },
          "execution_count": 54
        }
      ]
    },
    {
      "cell_type": "markdown",
      "metadata": {
        "id": "gJ_TgG__O47K"
      },
      "source": [
        "##### Precision"
      ]
    },
    {
      "cell_type": "code",
      "metadata": {
        "colab": {
          "base_uri": "https://localhost:8080/"
        },
        "id": "C--SM7lqO9pg",
        "outputId": "ea14e128-39cf-44f6-b040-3e164de0353e"
      },
      "source": [
        "#Creating param grids for Random Forest\n",
        "grid = [\n",
        "  {'criterion' : ['gini', 'entropy'], 'splitter' : ['best', 'random'], 'ccp_alpha' : np.logspace(-3, 1, 20)},\n",
        "]\n",
        "\n",
        "tree_precision = DecisionTreeClassifier()\n",
        "tree_gs_precision = GridSearchCV(estimator=tree_precision, param_grid=grid, cv = 5, n_jobs=-1, scoring='precision')\n",
        "tree_gs_precision.fit(X_train_std, Y_train)"
      ],
      "execution_count": null,
      "outputs": [
        {
          "output_type": "execute_result",
          "data": {
            "text/plain": [
              "GridSearchCV(cv=5, error_score=nan,\n",
              "             estimator=DecisionTreeClassifier(ccp_alpha=0.0, class_weight=None,\n",
              "                                              criterion='gini', max_depth=None,\n",
              "                                              max_features=None,\n",
              "                                              max_leaf_nodes=None,\n",
              "                                              min_impurity_decrease=0.0,\n",
              "                                              min_impurity_split=None,\n",
              "                                              min_samples_leaf=1,\n",
              "                                              min_samples_split=2,\n",
              "                                              min_weight_fraction_leaf=0.0,\n",
              "                                              presort='deprecated',\n",
              "                                              random_state=None,\n",
              "                                              splitter='best'),\n",
              "             iid='de...\n",
              "       6.95192796e-03, 1.12883789e-02, 1.83298071e-02, 2.97635144e-02,\n",
              "       4.83293024e-02, 7.84759970e-02, 1.27427499e-01, 2.06913808e-01,\n",
              "       3.35981829e-01, 5.45559478e-01, 8.85866790e-01, 1.43844989e+00,\n",
              "       2.33572147e+00, 3.79269019e+00, 6.15848211e+00, 1.00000000e+01]),\n",
              "                          'criterion': ['gini', 'entropy'],\n",
              "                          'splitter': ['best', 'random']}],\n",
              "             pre_dispatch='2*n_jobs', refit=True, return_train_score=False,\n",
              "             scoring='precision', verbose=0)"
            ]
          },
          "metadata": {
            "tags": []
          },
          "execution_count": 55
        }
      ]
    },
    {
      "cell_type": "code",
      "metadata": {
        "colab": {
          "base_uri": "https://localhost:8080/"
        },
        "id": "dBsgIJunO99y",
        "outputId": "f8488abf-7290-4281-e373-2fbf868e7744"
      },
      "source": [
        "best_tree_precision = tree_gs_precision.best_estimator_\n",
        "\n",
        "print(\"Best Hyperparameters\", tree_gs_precision.best_params_)\n",
        "print('Training score:', tree_gs_precision.best_score_)\n",
        "print('Test score:', best_tree_precision.score(X_test_std, Y_test))\n",
        "model_scores.append([tree_gs_precision.best_score_, best_tree_precision.score(X_test_std, Y_test)])"
      ],
      "execution_count": null,
      "outputs": [
        {
          "output_type": "stream",
          "text": [
            "Best Hyperparameters {'ccp_alpha': 0.04832930238571752, 'criterion': 'gini', 'splitter': 'best'}\n",
            "Training score: 0.843939393939394\n",
            "Test score: 0.8555555555555555\n"
          ],
          "name": "stdout"
        }
      ]
    },
    {
      "cell_type": "code",
      "metadata": {
        "colab": {
          "base_uri": "https://localhost:8080/",
          "height": 279
        },
        "id": "fVlvhyZ7O-Rq",
        "outputId": "4d8c82a4-facd-4f65-e907-60f783e7470c"
      },
      "source": [
        "plot_confusion_matrix(best_tree_precision, X_test_std, Y_test)\n",
        "plt.show() "
      ],
      "execution_count": null,
      "outputs": [
        {
          "output_type": "display_data",
          "data": {
            "image/png": "[encoded data removed]",
            "text/plain": [
              "<Figure size 432x288 with 2 Axes>"
            ]
          },
          "metadata": {
            "tags": [],
            "needs_background": "light"
          }
        }
      ]
    },
    {
      "cell_type": "code",
      "metadata": {
        "colab": {
          "base_uri": "https://localhost:8080/",
          "height": 281
        },
        "id": "3GDYLknkO-j7",
        "outputId": "0fdb03c8-f180-4820-cb38-c4c5b5d881bd"
      },
      "source": [
        "dot_data = tree.export_graphviz(best_tree_precision, out_file=None, \n",
        "                                feature_names=[\n",
        "'age', 'anaemia', 'creatinine_phosphokinase', 'diabetes',\t'ejection_fraction',\t'high_blood_pressure',\t'platelets',\t'serum_creatinine', 'serum_sodium', 'sex', 'smoking', 'time'],  \n",
        "                                class_names=['0', '1'],\n",
        "                                filled=True)\n",
        "graph = graphviz.Source(dot_data, format=\"png\") \n",
        "graph"
      ],
      "execution_count": null,
      "outputs": [
        {
          "output_type": "execute_result",
          "data": {
            "text/plain": [
              "<graphviz.files.Source at 0x7f20a711a190>"
            ],
            "image/svg+xml": "<?xml version=\"1.0\" encoding=\"UTF-8\" standalone=\"no\"?>\n<!DOCTYPE svg PUBLIC \"-//W3C//DTD SVG 1.1//EN\"\n \"http://www.w3.org/Graphics/SVG/1.1/DTD/svg11.dtd\">\n<!-- Generated by graphviz version 2.40.1 (20161225.0304)\n -->\n<!-- Title: Tree Pages: 1 -->\n<svg width=\"246pt\" height=\"195pt\"\n viewBox=\"0.00 0.00 245.50 195.00\" xmlns=\"http://www.w3.org/2000/svg\" xmlns:xlink=\"http://www.w3.org/1999/xlink\">\n<g id=\"graph0\" class=\"graph\" transform=\"scale(1 1) rotate(0) translate(4 191)\">\n<title>Tree</title>\n<polygon fill=\"#ffffff\" stroke=\"transparent\" points=\"-4,4 -4,-191 241.5,-191 241.5,4 -4,4\"/>\n<!-- 0 -->\n<g id=\"node1\" class=\"node\">\n<title>0</title>\n<polygon fill=\"#f1bc96\" stroke=\"#000000\" points=\"173.5,-187 56.5,-187 56.5,-104 173.5,-104 173.5,-187\"/>\n<text text-anchor=\"middle\" x=\"115\" y=\"-171.8\" font-family=\"Times,serif\" font-size=\"14.00\" fill=\"#000000\">time &lt;= &#45;0.796</text>\n<text text-anchor=\"middle\" x=\"115\" y=\"-156.8\" font-family=\"Times,serif\" font-size=\"14.00\" fill=\"#000000\">gini = 0.436</text>\n<text text-anchor=\"middle\" x=\"115\" y=\"-141.8\" font-family=\"Times,serif\" font-size=\"14.00\" fill=\"#000000\">samples = 209</text>\n<text text-anchor=\"middle\" x=\"115\" y=\"-126.8\" font-family=\"Times,serif\" font-size=\"14.00\" fill=\"#000000\">value = [142, 67]</text>\n<text text-anchor=\"middle\" x=\"115\" y=\"-111.8\" font-family=\"Times,serif\" font-size=\"14.00\" fill=\"#000000\">class = 0</text>\n</g>\n<!-- 1 -->\n<g id=\"node2\" class=\"node\">\n<title>1</title>\n<polygon fill=\"#5fb0ea\" stroke=\"#000000\" points=\"102,-68 0,-68 0,0 102,0 102,-68\"/>\n<text text-anchor=\"middle\" x=\"51\" y=\"-52.8\" font-family=\"Times,serif\" font-size=\"14.00\" fill=\"#000000\">gini = 0.269</text>\n<text text-anchor=\"middle\" x=\"51\" y=\"-37.8\" font-family=\"Times,serif\" font-size=\"14.00\" fill=\"#000000\">samples = 50</text>\n<text text-anchor=\"middle\" x=\"51\" y=\"-22.8\" font-family=\"Times,serif\" font-size=\"14.00\" fill=\"#000000\">value = [8, 42]</text>\n<text text-anchor=\"middle\" x=\"51\" y=\"-7.8\" font-family=\"Times,serif\" font-size=\"14.00\" fill=\"#000000\">class = 1</text>\n</g>\n<!-- 0&#45;&gt;1 -->\n<g id=\"edge1\" class=\"edge\">\n<title>0&#45;&gt;1</title>\n<path fill=\"none\" stroke=\"#000000\" d=\"M91.1688,-103.9815C86.1044,-95.1585 80.7475,-85.8258 75.6532,-76.9506\"/>\n<polygon fill=\"#000000\" stroke=\"#000000\" points=\"78.6807,-75.1942 70.667,-68.2637 72.6097,-78.6789 78.6807,-75.1942\"/>\n<text text-anchor=\"middle\" x=\"64.1357\" y=\"-88.6954\" font-family=\"Times,serif\" font-size=\"14.00\" fill=\"#000000\">True</text>\n</g>\n<!-- 2 -->\n<g id=\"node3\" class=\"node\">\n<title>2</title>\n<polygon fill=\"#ea995e\" stroke=\"#000000\" points=\"237.5,-68 120.5,-68 120.5,0 237.5,0 237.5,-68\"/>\n<text text-anchor=\"middle\" x=\"179\" y=\"-52.8\" font-family=\"Times,serif\" font-size=\"14.00\" fill=\"#000000\">gini = 0.265</text>\n<text text-anchor=\"middle\" x=\"179\" y=\"-37.8\" font-family=\"Times,serif\" font-size=\"14.00\" fill=\"#000000\">samples = 159</text>\n<text text-anchor=\"middle\" x=\"179\" y=\"-22.8\" font-family=\"Times,serif\" font-size=\"14.00\" fill=\"#000000\">value = [134, 25]</text>\n<text text-anchor=\"middle\" x=\"179\" y=\"-7.8\" font-family=\"Times,serif\" font-size=\"14.00\" fill=\"#000000\">class = 0</text>\n</g>\n<!-- 0&#45;&gt;2 -->\n<g id=\"edge2\" class=\"edge\">\n<title>0&#45;&gt;2</title>\n<path fill=\"none\" stroke=\"#000000\" d=\"M138.8312,-103.9815C143.8956,-95.1585 149.2525,-85.8258 154.3468,-76.9506\"/>\n<polygon fill=\"#000000\" stroke=\"#000000\" points=\"157.3903,-78.6789 159.333,-68.2637 151.3193,-75.1942 157.3903,-78.6789\"/>\n<text text-anchor=\"middle\" x=\"165.8643\" y=\"-88.6954\" font-family=\"Times,serif\" font-size=\"14.00\" fill=\"#000000\">False</text>\n</g>\n</g>\n</svg>\n"
          },
          "metadata": {
            "tags": []
          },
          "execution_count": 58
        }
      ]
    },
    {
      "cell_type": "markdown",
      "metadata": {
        "id": "zGbfG5qMO7dU"
      },
      "source": [
        "##### F1"
      ]
    },
    {
      "cell_type": "code",
      "metadata": {
        "colab": {
          "base_uri": "https://localhost:8080/"
        },
        "id": "LTBJWCgJO_cW",
        "outputId": "87ca6277-ac42-437d-ecc0-c6ffafae1fa7"
      },
      "source": [
        "#Creating param grids for Random Forest\n",
        "grid = [\n",
        "  {'criterion' : ['gini', 'entropy'], 'splitter' : ['best', 'random'], 'ccp_alpha' : np.logspace(-5, 1, 20)},\n",
        "]\n",
        "\n",
        "tree_f1 = DecisionTreeClassifier(class_weight='balanced')\n",
        "tree_gs_f1 = GridSearchCV(estimator=tree_f1, param_grid=grid, cv = 5, n_jobs=-1, scoring='f1')\n",
        "tree_gs_f1.fit(X_train_std, Y_train)"
      ],
      "execution_count": null,
      "outputs": [
        {
          "output_type": "execute_result",
          "data": {
            "text/plain": [
              "GridSearchCV(cv=5, error_score=nan,\n",
              "             estimator=DecisionTreeClassifier(ccp_alpha=0.0,\n",
              "                                              class_weight='balanced',\n",
              "                                              criterion='gini', max_depth=None,\n",
              "                                              max_features=None,\n",
              "                                              max_leaf_nodes=None,\n",
              "                                              min_impurity_decrease=0.0,\n",
              "                                              min_impurity_split=None,\n",
              "                                              min_samples_leaf=1,\n",
              "                                              min_samples_split=2,\n",
              "                                              min_weight_fraction_leaf=0.0,\n",
              "                                              presort='deprecated',\n",
              "                                              random_state=None,\n",
              "                                              splitter='best'),\n",
              "             i...\n",
              "       1.83298071e-04, 3.79269019e-04, 7.84759970e-04, 1.62377674e-03,\n",
              "       3.35981829e-03, 6.95192796e-03, 1.43844989e-02, 2.97635144e-02,\n",
              "       6.15848211e-02, 1.27427499e-01, 2.63665090e-01, 5.45559478e-01,\n",
              "       1.12883789e+00, 2.33572147e+00, 4.83293024e+00, 1.00000000e+01]),\n",
              "                          'criterion': ['gini', 'entropy'],\n",
              "                          'splitter': ['best', 'random']}],\n",
              "             pre_dispatch='2*n_jobs', refit=True, return_train_score=False,\n",
              "             scoring='f1', verbose=0)"
            ]
          },
          "metadata": {
            "tags": []
          },
          "execution_count": 59
        }
      ]
    },
    {
      "cell_type": "code",
      "metadata": {
        "colab": {
          "base_uri": "https://localhost:8080/"
        },
        "id": "ERQdoJHjO_so",
        "outputId": "c7305fe9-ada5-407c-886c-cc86671b6d5b"
      },
      "source": [
        "best_tree_f1 = tree_gs_f1.best_estimator_\n",
        "\n",
        "print(\"Best Hyperparameters\", tree_gs_f1.best_params_)\n",
        "print('Training score:', tree_gs_f1.best_score_)\n",
        "print('Test score:', best_tree_f1.score(X_test_std, Y_test))\n",
        "model_scores.append([tree_gs_f1.best_score_, best_tree_f1.score(X_test_std, Y_test)])"
      ],
      "execution_count": null,
      "outputs": [
        {
          "output_type": "stream",
          "text": [
            "Best Hyperparameters {'ccp_alpha': 0.029763514416313162, 'criterion': 'gini', 'splitter': 'best'}\n",
            "Training score: 0.7340907180818192\n",
            "Test score: 0.8444444444444444\n"
          ],
          "name": "stdout"
        }
      ]
    },
    {
      "cell_type": "code",
      "metadata": {
        "colab": {
          "base_uri": "https://localhost:8080/",
          "height": 279
        },
        "id": "klj1flMRO_86",
        "outputId": "7d85fd36-5aec-4317-e729-c33400fab7cb"
      },
      "source": [
        "plot_confusion_matrix(best_tree_f1, X_test_std, Y_test)\n",
        "plt.show() "
      ],
      "execution_count": null,
      "outputs": [
        {
          "output_type": "display_data",
          "data": {
            "image/png": "[encoded data removed]",
            "text/plain": [
              "<Figure size 432x288 with 2 Axes>"
            ]
          },
          "metadata": {
            "tags": [],
            "needs_background": "light"
          }
        }
      ]
    },
    {
      "cell_type": "code",
      "metadata": {
        "colab": {
          "base_uri": "https://localhost:8080/",
          "height": 440
        },
        "id": "fFQn3qAtPAMg",
        "outputId": "fe10016b-ceb1-4e7e-ef91-85f6f88aa5c8"
      },
      "source": [
        "dot_data = tree.export_graphviz(best_tree_f1, out_file=None, \n",
        "                                feature_names=[\n",
        "'age', 'anaemia', 'creatinine_phosphokinase', 'diabetes',\t'ejection_fraction',\t'high_blood_pressure',\t'platelets',\t'serum_creatinine', 'serum_sodium', 'sex', 'smoking', 'time'],  \n",
        "                                class_names=['0', '1'],\n",
        "                                filled=True)\n",
        "graph = graphviz.Source(dot_data, format=\"png\") \n",
        "graph"
      ],
      "execution_count": null,
      "outputs": [
        {
          "output_type": "execute_result",
          "data": {
            "text/plain": [
              "<graphviz.files.Source at 0x7f20a7126ad0>"
            ],
            "image/svg+xml": "<?xml version=\"1.0\" encoding=\"UTF-8\" standalone=\"no\"?>\n<!DOCTYPE svg PUBLIC \"-//W3C//DTD SVG 1.1//EN\"\n \"http://www.w3.org/Graphics/SVG/1.1/DTD/svg11.dtd\">\n<!-- Generated by graphviz version 2.40.1 (20161225.0304)\n -->\n<!-- Title: Tree Pages: 1 -->\n<svg width=\"437pt\" height=\"314pt\"\n viewBox=\"0.00 0.00 437.00 314.00\" xmlns=\"http://www.w3.org/2000/svg\" xmlns:xlink=\"http://www.w3.org/1999/xlink\">\n<g id=\"graph0\" class=\"graph\" transform=\"scale(1 1) rotate(0) translate(4 310)\">\n<title>Tree</title>\n<polygon fill=\"#ffffff\" stroke=\"transparent\" points=\"-4,4 -4,-310 433,-310 433,4 -4,4\"/>\n<!-- 0 -->\n<g id=\"node1\" class=\"node\">\n<title>0</title>\n<polygon fill=\"#ffffff\" stroke=\"#000000\" points=\"241,-306 94,-306 94,-223 241,-223 241,-306\"/>\n<text text-anchor=\"middle\" x=\"167.5\" y=\"-290.8\" font-family=\"Times,serif\" font-size=\"14.00\" fill=\"#000000\">time &lt;= &#45;0.796</text>\n<text text-anchor=\"middle\" x=\"167.5\" y=\"-275.8\" font-family=\"Times,serif\" font-size=\"14.00\" fill=\"#000000\">gini = 0.5</text>\n<text text-anchor=\"middle\" x=\"167.5\" y=\"-260.8\" font-family=\"Times,serif\" font-size=\"14.00\" fill=\"#000000\">samples = 209</text>\n<text text-anchor=\"middle\" x=\"167.5\" y=\"-245.8\" font-family=\"Times,serif\" font-size=\"14.00\" fill=\"#000000\">value = [104.5, 104.5]</text>\n<text text-anchor=\"middle\" x=\"167.5\" y=\"-230.8\" font-family=\"Times,serif\" font-size=\"14.00\" fill=\"#000000\">class = 1</text>\n</g>\n<!-- 1 -->\n<g id=\"node2\" class=\"node\">\n<title>1</title>\n<polygon fill=\"#4ba6e7\" stroke=\"#000000\" points=\"155,-179.5 0,-179.5 0,-111.5 155,-111.5 155,-179.5\"/>\n<text text-anchor=\"middle\" x=\"77.5\" y=\"-164.3\" font-family=\"Times,serif\" font-size=\"14.00\" fill=\"#000000\">gini = 0.151</text>\n<text text-anchor=\"middle\" x=\"77.5\" y=\"-149.3\" font-family=\"Times,serif\" font-size=\"14.00\" fill=\"#000000\">samples = 50</text>\n<text text-anchor=\"middle\" x=\"77.5\" y=\"-134.3\" font-family=\"Times,serif\" font-size=\"14.00\" fill=\"#000000\">value = [5.887, 65.507]</text>\n<text text-anchor=\"middle\" x=\"77.5\" y=\"-119.3\" font-family=\"Times,serif\" font-size=\"14.00\" fill=\"#000000\">class = 1</text>\n</g>\n<!-- 0&#45;&gt;1 -->\n<g id=\"edge1\" class=\"edge\">\n<title>0&#45;&gt;1</title>\n<path fill=\"none\" stroke=\"#000000\" d=\"M136.0224,-222.8796C127.4565,-211.5536 118.17,-199.2748 109.5717,-187.9058\"/>\n<polygon fill=\"#000000\" stroke=\"#000000\" points=\"112.2762,-185.6795 103.4525,-179.8149 106.6931,-189.902 112.2762,-185.6795\"/>\n<text text-anchor=\"middle\" x=\"100.0165\" y=\"-200.8777\" font-family=\"Times,serif\" font-size=\"14.00\" fill=\"#000000\">True</text>\n</g>\n<!-- 2 -->\n<g id=\"node3\" class=\"node\">\n<title>2</title>\n<polygon fill=\"#efb387\" stroke=\"#000000\" points=\"344,-187 173,-187 173,-104 344,-104 344,-187\"/>\n<text text-anchor=\"middle\" x=\"258.5\" y=\"-171.8\" font-family=\"Times,serif\" font-size=\"14.00\" fill=\"#000000\">serum_creatinine &lt;= 0.105</text>\n<text text-anchor=\"middle\" x=\"258.5\" y=\"-156.8\" font-family=\"Times,serif\" font-size=\"14.00\" fill=\"#000000\">gini = 0.406</text>\n<text text-anchor=\"middle\" x=\"258.5\" y=\"-141.8\" font-family=\"Times,serif\" font-size=\"14.00\" fill=\"#000000\">samples = 159</text>\n<text text-anchor=\"middle\" x=\"258.5\" y=\"-126.8\" font-family=\"Times,serif\" font-size=\"14.00\" fill=\"#000000\">value = [98.613, 38.993]</text>\n<text text-anchor=\"middle\" x=\"258.5\" y=\"-111.8\" font-family=\"Times,serif\" font-size=\"14.00\" fill=\"#000000\">class = 0</text>\n</g>\n<!-- 0&#45;&gt;2 -->\n<g id=\"edge2\" class=\"edge\">\n<title>0&#45;&gt;2</title>\n<path fill=\"none\" stroke=\"#000000\" d=\"M199.3274,-222.8796C206.1457,-213.9633 213.4156,-204.4565 220.4421,-195.268\"/>\n<polygon fill=\"#000000\" stroke=\"#000000\" points=\"223.2425,-197.3678 226.5368,-187.2981 217.682,-193.1156 223.2425,-197.3678\"/>\n<text text-anchor=\"middle\" x=\"229.8409\" y=\"-208.3788\" font-family=\"Times,serif\" font-size=\"14.00\" fill=\"#000000\">False</text>\n</g>\n<!-- 3 -->\n<g id=\"node4\" class=\"node\">\n<title>3</title>\n<polygon fill=\"#ea985d\" stroke=\"#000000\" points=\"249.5,-68 87.5,-68 87.5,0 249.5,0 249.5,-68\"/>\n<text text-anchor=\"middle\" x=\"168.5\" y=\"-52.8\" font-family=\"Times,serif\" font-size=\"14.00\" fill=\"#000000\">gini = 0.26</text>\n<text text-anchor=\"middle\" x=\"168.5\" y=\"-37.8\" font-family=\"Times,serif\" font-size=\"14.00\" fill=\"#000000\">samples = 127</text>\n<text text-anchor=\"middle\" x=\"168.5\" y=\"-22.8\" font-family=\"Times,serif\" font-size=\"14.00\" fill=\"#000000\">value = [86.102, 15.597]</text>\n<text text-anchor=\"middle\" x=\"168.5\" y=\"-7.8\" font-family=\"Times,serif\" font-size=\"14.00\" fill=\"#000000\">class = 0</text>\n</g>\n<!-- 2&#45;&gt;3 -->\n<g id=\"edge3\" class=\"edge\">\n<title>2&#45;&gt;3</title>\n<path fill=\"none\" stroke=\"#000000\" d=\"M224.9873,-103.9815C217.643,-94.8828 209.8612,-85.242 202.4981,-76.1199\"/>\n<polygon fill=\"#000000\" stroke=\"#000000\" points=\"205.1612,-73.8467 196.1568,-68.2637 199.7143,-78.2434 205.1612,-73.8467\"/>\n</g>\n<!-- 4 -->\n<g id=\"node5\" class=\"node\">\n<title>4</title>\n<polygon fill=\"#a3d1f3\" stroke=\"#000000\" points=\"429,-68 268,-68 268,0 429,0 429,-68\"/>\n<text text-anchor=\"middle\" x=\"348.5\" y=\"-52.8\" font-family=\"Times,serif\" font-size=\"14.00\" fill=\"#000000\">gini = 0.454</text>\n<text text-anchor=\"middle\" x=\"348.5\" y=\"-37.8\" font-family=\"Times,serif\" font-size=\"14.00\" fill=\"#000000\">samples = 32</text>\n<text text-anchor=\"middle\" x=\"348.5\" y=\"-22.8\" font-family=\"Times,serif\" font-size=\"14.00\" fill=\"#000000\">value = [12.511, 23.396]</text>\n<text text-anchor=\"middle\" x=\"348.5\" y=\"-7.8\" font-family=\"Times,serif\" font-size=\"14.00\" fill=\"#000000\">class = 1</text>\n</g>\n<!-- 2&#45;&gt;4 -->\n<g id=\"edge4\" class=\"edge\">\n<title>2&#45;&gt;4</title>\n<path fill=\"none\" stroke=\"#000000\" d=\"M292.0127,-103.9815C299.357,-94.8828 307.1388,-85.242 314.5019,-76.1199\"/>\n<polygon fill=\"#000000\" stroke=\"#000000\" points=\"317.2857,-78.2434 320.8432,-68.2637 311.8388,-73.8467 317.2857,-78.2434\"/>\n</g>\n</g>\n</svg>\n"
          },
          "metadata": {
            "tags": []
          },
          "execution_count": 62
        }
      ]
    },
    {
      "cell_type": "markdown",
      "metadata": {
        "id": "b0sauhHDiYkl"
      },
      "source": [
        "### Random Forest"
      ]
    },
    {
      "cell_type": "markdown",
      "metadata": {
        "id": "4Uys1s50QBOH"
      },
      "source": [
        "##### Accuracy"
      ]
    },
    {
      "cell_type": "code",
      "metadata": {
        "id": "AtLnDuc8kImO",
        "colab": {
          "base_uri": "https://localhost:8080/"
        },
        "outputId": "143fb16d-a5cf-4026-ec5b-e25d36fa37af"
      },
      "source": [
        "#Creating param grids for Random Forest\n",
        "grid = [\n",
        "  {'criterion' : ['gini', 'entropy'], 'bootstrap' : ['True', 'False'],\n",
        "   'max_features' : ['auto', 'sqrt'], 'n_estimators' : [50], 'ccp_alpha' : np.logspace(-2, -1, 20)},\n",
        "]\n",
        "\n",
        "forest_accuracy = RandomForestClassifier(class_weight='balanced')\n",
        "forest_gs_accuracy = GridSearchCV(estimator=forest_accuracy, param_grid=grid, cv = 5, n_jobs=-1, scoring='accuracy')\n",
        "forest_gs_accuracy.fit(X_train_std, Y_train)"
      ],
      "execution_count": null,
      "outputs": [
        {
          "output_type": "execute_result",
          "data": {
            "text/plain": [
              "GridSearchCV(cv=5, error_score=nan,\n",
              "             estimator=RandomForestClassifier(bootstrap=True, ccp_alpha=0.0,\n",
              "                                              class_weight='balanced',\n",
              "                                              criterion='gini', max_depth=None,\n",
              "                                              max_features='auto',\n",
              "                                              max_leaf_nodes=None,\n",
              "                                              max_samples=None,\n",
              "                                              min_impurity_decrease=0.0,\n",
              "                                              min_impurity_split=None,\n",
              "                                              min_samples_leaf=1,\n",
              "                                              min_samples_split=2,\n",
              "                                              min_weight_fraction_leaf=0.0,\n",
              "                                              n_estimators=100, n_jobs...\n",
              "                          'ccp_alpha': array([0.01      , 0.01128838, 0.01274275, 0.0143845 , 0.01623777,\n",
              "       0.01832981, 0.02069138, 0.02335721, 0.02636651, 0.02976351,\n",
              "       0.03359818, 0.0379269 , 0.04281332, 0.0483293 , 0.05455595,\n",
              "       0.06158482, 0.06951928, 0.078476  , 0.08858668, 0.1       ]),\n",
              "                          'criterion': ['gini', 'entropy'],\n",
              "                          'max_features': ['auto', 'sqrt'],\n",
              "                          'n_estimators': [50]}],\n",
              "             pre_dispatch='2*n_jobs', refit=True, return_train_score=False,\n",
              "             scoring='accuracy', verbose=0)"
            ]
          },
          "metadata": {
            "tags": []
          },
          "execution_count": 63
        }
      ]
    },
    {
      "cell_type": "code",
      "metadata": {
        "id": "AcJdGQH6kI8U",
        "colab": {
          "base_uri": "https://localhost:8080/"
        },
        "outputId": "7dc70a75-5ea6-4b85-cadc-22421866b8fb"
      },
      "source": [
        "best_forest_accuracy = forest_gs_accuracy.best_estimator_\n",
        "\n",
        "print(\"Best Hyperparameters\", forest_gs_accuracy.best_params_)\n",
        "print('Training accuracy:', forest_gs_accuracy.best_score_)\n",
        "print('Test accuracy:', best_forest_accuracy.score(X_test_std, Y_test))\n",
        "model_scores.append([forest_gs_accuracy.best_score_, best_forest_accuracy.score(X_test_std, Y_test)])"
      ],
      "execution_count": null,
      "outputs": [
        {
          "output_type": "stream",
          "text": [
            "Best Hyperparameters {'bootstrap': 'False', 'ccp_alpha': 0.018329807108324356, 'criterion': 'gini', 'max_features': 'sqrt', 'n_estimators': 50}\n",
            "Training accuracy: 0.8759581881533102\n",
            "Test accuracy: 0.8666666666666667\n"
          ],
          "name": "stdout"
        }
      ]
    },
    {
      "cell_type": "code",
      "metadata": {
        "colab": {
          "base_uri": "https://localhost:8080/",
          "height": 279
        },
        "id": "U9O4478jQbv7",
        "outputId": "aee9215b-fb8a-4fdb-ea20-5f30ab8f9061"
      },
      "source": [
        "plot_confusion_matrix(best_forest_accuracy, X_test_std, Y_test)\n",
        "plt.show() "
      ],
      "execution_count": null,
      "outputs": [
        {
          "output_type": "display_data",
          "data": {
            "image/png": "[encoded data removed]",
            "text/plain": [
              "<Figure size 432x288 with 2 Axes>"
            ]
          },
          "metadata": {
            "tags": [],
            "needs_background": "light"
          }
        }
      ]
    },
    {
      "cell_type": "markdown",
      "metadata": {
        "id": "wi2aTPn9Qk_2"
      },
      "source": [
        "##### Precision"
      ]
    },
    {
      "cell_type": "code",
      "metadata": {
        "colab": {
          "base_uri": "https://localhost:8080/"
        },
        "id": "0zhtx8YoQtQ7",
        "outputId": "70d8716b-5c42-4fac-f547-9246fb1dc551"
      },
      "source": [
        "#Creating param grids for Random Forest\n",
        "grid = [\n",
        "  {'criterion' : ['gini', 'entropy'], 'bootstrap' : ['True', 'False'],\n",
        "   'max_features' : ['auto', 'sqrt'], 'n_estimators' : [50], 'ccp_alpha' : np.logspace(-2, -1, 20)},\n",
        "]\n",
        "\n",
        "forest_precision = RandomForestClassifier(class_weight='balanced')\n",
        "forest_gs_precision = GridSearchCV(estimator=forest_precision, param_grid=grid, cv = 5, n_jobs=-1, scoring='precision')\n",
        "forest_gs_precision.fit(X_train_std, Y_train)"
      ],
      "execution_count": null,
      "outputs": [
        {
          "output_type": "execute_result",
          "data": {
            "text/plain": [
              "GridSearchCV(cv=5, error_score=nan,\n",
              "             estimator=RandomForestClassifier(bootstrap=True, ccp_alpha=0.0,\n",
              "                                              class_weight='balanced',\n",
              "                                              criterion='gini', max_depth=None,\n",
              "                                              max_features='auto',\n",
              "                                              max_leaf_nodes=None,\n",
              "                                              max_samples=None,\n",
              "                                              min_impurity_decrease=0.0,\n",
              "                                              min_impurity_split=None,\n",
              "                                              min_samples_leaf=1,\n",
              "                                              min_samples_split=2,\n",
              "                                              min_weight_fraction_leaf=0.0,\n",
              "                                              n_estimators=100, n_jobs...\n",
              "                          'ccp_alpha': array([0.01      , 0.01128838, 0.01274275, 0.0143845 , 0.01623777,\n",
              "       0.01832981, 0.02069138, 0.02335721, 0.02636651, 0.02976351,\n",
              "       0.03359818, 0.0379269 , 0.04281332, 0.0483293 , 0.05455595,\n",
              "       0.06158482, 0.06951928, 0.078476  , 0.08858668, 0.1       ]),\n",
              "                          'criterion': ['gini', 'entropy'],\n",
              "                          'max_features': ['auto', 'sqrt'],\n",
              "                          'n_estimators': [50]}],\n",
              "             pre_dispatch='2*n_jobs', refit=True, return_train_score=False,\n",
              "             scoring='precision', verbose=0)"
            ]
          },
          "metadata": {
            "tags": []
          },
          "execution_count": 66
        }
      ]
    },
    {
      "cell_type": "code",
      "metadata": {
        "colab": {
          "base_uri": "https://localhost:8080/"
        },
        "id": "JLhKmxMMQtll",
        "outputId": "f10f017a-d5d0-4000-fd07-c30e4174ecbe"
      },
      "source": [
        "best_forest_precision = forest_gs_precision.best_estimator_\n",
        "\n",
        "print(\"Best Hyperparameters\", forest_gs_precision.best_params_)\n",
        "print('Training score:', forest_gs_precision.best_score_)\n",
        "print('Test score:', best_forest_precision.score(X_test_std, Y_test))\n",
        "model_scores.append([forest_gs_precision.best_score_, best_forest_precision.score(X_test_std, Y_test)])"
      ],
      "execution_count": null,
      "outputs": [
        {
          "output_type": "stream",
          "text": [
            "Best Hyperparameters {'bootstrap': 'False', 'ccp_alpha': 0.011288378916846888, 'criterion': 'entropy', 'max_features': 'auto', 'n_estimators': 50}\n",
            "Training score: 0.8653679653679653\n",
            "Test score: 0.8555555555555555\n"
          ],
          "name": "stdout"
        }
      ]
    },
    {
      "cell_type": "code",
      "metadata": {
        "colab": {
          "base_uri": "https://localhost:8080/",
          "height": 279
        },
        "id": "cVw4Ug9xQt1R",
        "outputId": "df57836e-1032-4199-e49b-a11a5255b031"
      },
      "source": [
        "plot_confusion_matrix(best_forest_precision, X_test_std, Y_test)\n",
        "plt.show() "
      ],
      "execution_count": null,
      "outputs": [
        {
          "output_type": "display_data",
          "data": {
            "image/png": "[encoded data removed]",
            "text/plain": [
              "<Figure size 432x288 with 2 Axes>"
            ]
          },
          "metadata": {
            "tags": [],
            "needs_background": "light"
          }
        }
      ]
    },
    {
      "cell_type": "markdown",
      "metadata": {
        "id": "wQ53ivUiQn-v"
      },
      "source": [
        "##### Recall"
      ]
    },
    {
      "cell_type": "code",
      "metadata": {
        "colab": {
          "base_uri": "https://localhost:8080/"
        },
        "id": "XbjwdZ-lQu7V",
        "outputId": "135744d1-8fbf-47dd-edb4-f249254f5942"
      },
      "source": [
        "#Creating param grids for Random Forest\n",
        "grid = [\n",
        "  {'criterion' : ['gini', 'entropy'], 'bootstrap' : ['True', 'False'],\n",
        "   'max_features' : ['auto', 'sqrt'], 'n_estimators' : [50], 'ccp_alpha': np.logspace(-4, -1, 20)},\n",
        "]\n",
        "\n",
        "forest_recall = RandomForestClassifier(class_weight='balanced')\n",
        "forest_gs_recall = GridSearchCV(estimator=forest_recall, param_grid=grid, cv = 5, n_jobs=-1, scoring='recall')\n",
        "forest_gs_recall.fit(X_train_std, Y_train)"
      ],
      "execution_count": null,
      "outputs": [
        {
          "output_type": "execute_result",
          "data": {
            "text/plain": [
              "GridSearchCV(cv=5, error_score=nan,\n",
              "             estimator=RandomForestClassifier(bootstrap=True, ccp_alpha=0.0,\n",
              "                                              class_weight='balanced',\n",
              "                                              criterion='gini', max_depth=None,\n",
              "                                              max_features='auto',\n",
              "                                              max_leaf_nodes=None,\n",
              "                                              max_samples=None,\n",
              "                                              min_impurity_decrease=0.0,\n",
              "                                              min_impurity_split=None,\n",
              "                                              min_samples_leaf=1,\n",
              "                                              min_samples_split=2,\n",
              "                                              min_weight_fraction_leaf=0.0,\n",
              "                                              n_estimators=100, n_jobs...\n",
              "                          'ccp_alpha': array([0.0001    , 0.00014384, 0.00020691, 0.00029764, 0.00042813,\n",
              "       0.00061585, 0.00088587, 0.00127427, 0.00183298, 0.00263665,\n",
              "       0.00379269, 0.00545559, 0.0078476 , 0.01128838, 0.01623777,\n",
              "       0.02335721, 0.03359818, 0.0483293 , 0.06951928, 0.1       ]),\n",
              "                          'criterion': ['gini', 'entropy'],\n",
              "                          'max_features': ['auto', 'sqrt'],\n",
              "                          'n_estimators': [50]}],\n",
              "             pre_dispatch='2*n_jobs', refit=True, return_train_score=False,\n",
              "             scoring='recall', verbose=0)"
            ]
          },
          "metadata": {
            "tags": []
          },
          "execution_count": 69
        }
      ]
    },
    {
      "cell_type": "code",
      "metadata": {
        "colab": {
          "base_uri": "https://localhost:8080/"
        },
        "id": "wl3qUiyyQvJP",
        "outputId": "711c6b2e-8d02-4169-8a92-a326e88d2cab"
      },
      "source": [
        "best_forest_recall = forest_gs_recall.best_estimator_\n",
        "\n",
        "print(\"Best Hyperparameters\", forest_gs_recall.best_params_)\n",
        "print('Training score:', forest_gs_recall.best_score_)\n",
        "print('Test score:', best_forest_recall.score(X_test_std, Y_test))\n",
        "model_scores.append([forest_gs_recall.best_score_, best_forest_recall.score(X_test_std, Y_test)])"
      ],
      "execution_count": null,
      "outputs": [
        {
          "output_type": "stream",
          "text": [
            "Best Hyperparameters {'bootstrap': 'False', 'ccp_alpha': 0.023357214690901212, 'criterion': 'gini', 'max_features': 'auto', 'n_estimators': 50}\n",
            "Training score: 0.776923076923077\n",
            "Test score: 0.8888888888888888\n"
          ],
          "name": "stdout"
        }
      ]
    },
    {
      "cell_type": "code",
      "metadata": {
        "colab": {
          "base_uri": "https://localhost:8080/",
          "height": 279
        },
        "id": "M1K_53RtQvZb",
        "outputId": "4b5767b1-28bd-4a32-c592-634d9be6e721"
      },
      "source": [
        "plot_confusion_matrix(best_forest_recall, X_test_std, Y_test)\n",
        "plt.show() "
      ],
      "execution_count": null,
      "outputs": [
        {
          "output_type": "display_data",
          "data": {
            "image/png": "[encoded data removed]",
            "text/plain": [
              "<Figure size 432x288 with 2 Axes>"
            ]
          },
          "metadata": {
            "tags": [],
            "needs_background": "light"
          }
        }
      ]
    },
    {
      "cell_type": "markdown",
      "metadata": {
        "id": "gu9P5xmGQqIx"
      },
      "source": [
        "##### F1"
      ]
    },
    {
      "cell_type": "code",
      "metadata": {
        "colab": {
          "base_uri": "https://localhost:8080/"
        },
        "id": "CMHz6VVTQwGn",
        "outputId": "d8602707-0717-44a7-ceea-911d2881341b"
      },
      "source": [
        "#Creating param grids for Random Forest\n",
        "grid = [\n",
        "  {'criterion' : ['gini', 'entropy'], 'bootstrap' : ['True', 'False'],\n",
        "   'max_features' : ['auto', 'sqrt'], 'n_estimators' : [50], 'ccp_alpha' : np.logspace(-5, -1, 20)},\n",
        "]\n",
        "\n",
        "forest_f1 = RandomForestClassifier(class_weight='balanced')\n",
        "forest_gs_f1 = GridSearchCV(estimator=forest_f1, param_grid=grid, cv = 5, n_jobs=-1, scoring='f1')\n",
        "forest_gs_f1.fit(X_train_std, Y_train)"
      ],
      "execution_count": null,
      "outputs": [
        {
          "output_type": "execute_result",
          "data": {
            "text/plain": [
              "GridSearchCV(cv=5, error_score=nan,\n",
              "             estimator=RandomForestClassifier(bootstrap=True, ccp_alpha=0.0,\n",
              "                                              class_weight='balanced',\n",
              "                                              criterion='gini', max_depth=None,\n",
              "                                              max_features='auto',\n",
              "                                              max_leaf_nodes=None,\n",
              "                                              max_samples=None,\n",
              "                                              min_impurity_decrease=0.0,\n",
              "                                              min_impurity_split=None,\n",
              "                                              min_samples_leaf=1,\n",
              "                                              min_samples_split=2,\n",
              "                                              min_weight_fraction_leaf=0.0,\n",
              "                                              n_estimators=100, n_jobs...\n",
              "       6.95192796e-05, 1.12883789e-04, 1.83298071e-04, 2.97635144e-04,\n",
              "       4.83293024e-04, 7.84759970e-04, 1.27427499e-03, 2.06913808e-03,\n",
              "       3.35981829e-03, 5.45559478e-03, 8.85866790e-03, 1.43844989e-02,\n",
              "       2.33572147e-02, 3.79269019e-02, 6.15848211e-02, 1.00000000e-01]),\n",
              "                          'criterion': ['gini', 'entropy'],\n",
              "                          'max_features': ['auto', 'sqrt'],\n",
              "                          'n_estimators': [50]}],\n",
              "             pre_dispatch='2*n_jobs', refit=True, return_train_score=False,\n",
              "             scoring='f1', verbose=0)"
            ]
          },
          "metadata": {
            "tags": []
          },
          "execution_count": 72
        }
      ]
    },
    {
      "cell_type": "code",
      "metadata": {
        "colab": {
          "base_uri": "https://localhost:8080/"
        },
        "id": "NvTJJW_nQwZZ",
        "outputId": "bd39d444-f48e-446a-b3fb-2eb8caa2c5d0"
      },
      "source": [
        "best_forest_f1 = forest_gs_f1.best_estimator_\n",
        "\n",
        "print(\"Best Hyperparameters\", forest_gs_f1.best_params_)\n",
        "print('Training score:', forest_gs_f1.best_score_)\n",
        "print('Test score:', best_forest_f1.score(X_test_std, Y_test))\n",
        "model_scores.append([forest_gs_f1.best_score_, best_forest_f1.score(X_test_std, Y_test)])"
      ],
      "execution_count": null,
      "outputs": [
        {
          "output_type": "stream",
          "text": [
            "Best Hyperparameters {'bootstrap': 'False', 'ccp_alpha': 0.03792690190732246, 'criterion': 'gini', 'max_features': 'auto', 'n_estimators': 50}\n",
            "Training score: 0.7769987228607917\n",
            "Test score: 0.8888888888888888\n"
          ],
          "name": "stdout"
        }
      ]
    },
    {
      "cell_type": "code",
      "metadata": {
        "colab": {
          "base_uri": "https://localhost:8080/",
          "height": 279
        },
        "id": "FDhlQm89Qwmc",
        "outputId": "49678bf9-ee03-4db8-c8a4-7964947a8a12"
      },
      "source": [
        "plot_confusion_matrix(best_forest_f1, X_test_std, Y_test)\n",
        "plt.show() "
      ],
      "execution_count": null,
      "outputs": [
        {
          "output_type": "display_data",
          "data": {
            "image/png": "[encoded data removed]",
            "text/plain": [
              "<Figure size 432x288 with 2 Axes>"
            ]
          },
          "metadata": {
            "tags": [],
            "needs_background": "light"
          }
        }
      ]
    },
    {
      "cell_type": "markdown",
      "metadata": {
        "id": "ES21qisqifNR"
      },
      "source": [
        "## Ensemble Learning"
      ]
    },
    {
      "cell_type": "markdown",
      "metadata": {
        "id": "Ajno2QRrj3fk"
      },
      "source": [
        "### Majority Vote Classifier"
      ]
    },
    {
      "cell_type": "code",
      "metadata": {
        "id": "qFbNtMOPieXV"
      },
      "source": [
        "voting_clf = VotingClassifier(estimators=[\n",
        "                                          ('Logistic Regression Accuracy metric', best_lr_accuracy),\n",
        "                                          ('Logistic Regression Precision metric', best_lr_precision),\n",
        "                                          ('Logistic Regression Recall metric', best_lr_recall),\n",
        "                                          ('Logistic Regression F1 metric', best_lr_f1),\n",
        "                                          ('Support Vector Machine Accuracy metric', best_svc_accuracy),\n",
        "                                          ('Support Vector Machine Precision metric', best_svc_precision),\n",
        "                                          ('Support Vector Machine Recall metric', best_svc_recall),\n",
        "                                          ('Support Vector Machine F1 metric', best_svc_f1),\n",
        "                                          ('MLP Classifier Accuracy metric', best_mlp_accuracy),\n",
        "                                          ('MLP Classifier Precision metric', best_mlp_precision),\n",
        "                                          ('MLP Classifier Recall metric', best_mlp_recall),\n",
        "                                          ('MLP Classifier F1 metric', best_mlp_f1),\n",
        "                                          ('Decision Tree Accuracy metric', best_tree_accuracy),\n",
        "                                          ('Decision Tree Precision metric', best_tree_precision),\n",
        "                                          ('Decision Tree Recall metric', best_tree_recall),\n",
        "                                          ('Decision Tree F1 metric', best_tree_f1),\n",
        "                                          ('Random Forest Accuracy metric', best_forest_accuracy),\n",
        "                                          ('Random Forest Precision metric', best_forest_precision),\n",
        "                                          ('Random Forest Recall metric', best_forest_recall),\n",
        "                                          ('Random Forest F1 metric', best_forest_f1)\n",
        "                                          ], voting = 'hard')"
      ],
      "execution_count": null,
      "outputs": []
    },
    {
      "cell_type": "code",
      "metadata": {
        "id": "9TycbP7GkJ3k",
        "colab": {
          "base_uri": "https://localhost:8080/"
        },
        "outputId": "21473e52-357c-4744-8812-65f7191e1d37"
      },
      "source": [
        "voting_clf = voting_clf.fit(X_train_std, Y_train)\n",
        "print('Training score ', voting_clf.score(X_train_std, Y_train))\n",
        "print('Testing score ', voting_clf.score(X_test_std, Y_test))\n",
        "model_scores.append([voting_clf.score(X_train_std, Y_train), voting_clf.score(X_test_std, Y_test)])"
      ],
      "execution_count": null,
      "outputs": [
        {
          "output_type": "stream",
          "text": [
            "/usr/local/lib/python3.7/dist-packages/sklearn/neural_network/_multilayer_perceptron.py:571: ConvergenceWarning: Stochastic Optimizer: Maximum iterations (250) reached and the optimization hasn't converged yet.\n",
            "  % self.max_iter, ConvergenceWarning)\n"
          ],
          "name": "stderr"
        },
        {
          "output_type": "stream",
          "text": [
            "Training score  0.9138755980861244\n",
            "Testing score  0.8777777777777778\n"
          ],
          "name": "stdout"
        }
      ]
    },
    {
      "cell_type": "code",
      "metadata": {
        "colab": {
          "base_uri": "https://localhost:8080/",
          "height": 279
        },
        "id": "7yCmRY8SxXxp",
        "outputId": "cc97dcb8-adfe-4696-feac-da8f7d94bbd8"
      },
      "source": [
        "plot_confusion_matrix(best_forest_recall, X_test_std, Y_test)\n",
        "plt.show() "
      ],
      "execution_count": null,
      "outputs": [
        {
          "output_type": "display_data",
          "data": {
            "image/png": "[encoded data removed]",
            "text/plain": [
              "<Figure size 432x288 with 2 Axes>"
            ]
          },
          "metadata": {
            "tags": [],
            "needs_background": "light"
          }
        }
      ]
    },
    {
      "cell_type": "markdown",
      "metadata": {
        "id": "HrBYFYDth9-j"
      },
      "source": [
        "## Comparing all the models"
      ]
    },
    {
      "cell_type": "code",
      "metadata": {
        "id": "05uvqODEjPPI",
        "colab": {
          "base_uri": "https://localhost:8080/",
          "height": 700
        },
        "outputId": "95bc7880-3f70-4d9b-800f-bc86bd870ba2"
      },
      "source": [
        "model_data = np.array(model_scores)\n",
        "models = ['lr_best_accuracy', 'lr_best_precision', 'lr_best_recall', 'lr_best_f1',\n",
        "          'SVM_best_accuracy', 'SVM_best_precision', 'SVM_best_recall', 'SVM_best_F1',\n",
        "          'MLP_Classifier_best_accuracy', 'MLP_Classifier_best_precision', 'MLP_Classifier_best_recall', 'MLP_Classifier_best_f1',\n",
        "          'decision_tree_best_accuracy', 'decision_tree_best_precision', 'decision_tree_best_recall', 'decision_tree_best_f1',\n",
        "          'random_forest_best_accuracy', 'random_forest_best_precision', 'random_forest_best_recall', 'random_forest_best_f1', 'Ensemble Learning']\n",
        "table_scores = pd.DataFrame(data=model_data, index=models, columns=[\"Training score\", \"Testing score\"])\n",
        "table_scores"
      ],
      "execution_count": null,
      "outputs": [
        {
          "output_type": "execute_result",
          "data": {
            "text/html": [
              "<div>\n",
              "<style scoped>\n",
              "    .dataframe tbody tr th:only-of-type {\n",
              "        vertical-align: middle;\n",
              "    }\n",
              "\n",
              "    .dataframe tbody tr th {\n",
              "        vertical-align: top;\n",
              "    }\n",
              "\n",
              "    .dataframe thead th {\n",
              "        text-align: right;\n",
              "    }\n",
              "</style>\n",
              "<table border=\"1\" class=\"dataframe\">\n",
              "  <thead>\n",
              "    <tr style=\"text-align: right;\">\n",
              "      <th></th>\n",
              "      <th>Training score</th>\n",
              "      <th>Testing score</th>\n",
              "    </tr>\n",
              "  </thead>\n",
              "  <tbody>\n",
              "    <tr>\n",
              "      <th>lr_best_accuracy</th>\n",
              "      <td>0.804413</td>\n",
              "      <td>0.844444</td>\n",
              "    </tr>\n",
              "    <tr>\n",
              "      <th>lr_best_precision</th>\n",
              "      <td>0.792308</td>\n",
              "      <td>0.822222</td>\n",
              "    </tr>\n",
              "    <tr>\n",
              "      <th>lr_best_recall</th>\n",
              "      <td>0.777343</td>\n",
              "      <td>0.844444</td>\n",
              "    </tr>\n",
              "    <tr>\n",
              "      <th>lr_best_f1</th>\n",
              "      <td>0.708107</td>\n",
              "      <td>0.822222</td>\n",
              "    </tr>\n",
              "    <tr>\n",
              "      <th>SVM_best_accuracy</th>\n",
              "      <td>0.799535</td>\n",
              "      <td>0.766667</td>\n",
              "    </tr>\n",
              "    <tr>\n",
              "      <th>SVM_best_precision</th>\n",
              "      <td>0.845714</td>\n",
              "      <td>0.711111</td>\n",
              "    </tr>\n",
              "    <tr>\n",
              "      <th>SVM_best_recall</th>\n",
              "      <td>0.836264</td>\n",
              "      <td>0.766667</td>\n",
              "    </tr>\n",
              "    <tr>\n",
              "      <th>SVM_best_F1</th>\n",
              "      <td>0.726491</td>\n",
              "      <td>0.822222</td>\n",
              "    </tr>\n",
              "    <tr>\n",
              "      <th>MLP_Classifier_best_accuracy</th>\n",
              "      <td>0.837863</td>\n",
              "      <td>0.811111</td>\n",
              "    </tr>\n",
              "    <tr>\n",
              "      <th>MLP_Classifier_best_precision</th>\n",
              "      <td>0.900000</td>\n",
              "      <td>0.722222</td>\n",
              "    </tr>\n",
              "    <tr>\n",
              "      <th>MLP_Classifier_best_recall</th>\n",
              "      <td>0.729670</td>\n",
              "      <td>0.766667</td>\n",
              "    </tr>\n",
              "    <tr>\n",
              "      <th>MLP_Classifier_best_f1</th>\n",
              "      <td>0.725251</td>\n",
              "      <td>0.811111</td>\n",
              "    </tr>\n",
              "    <tr>\n",
              "      <th>decision_tree_best_accuracy</th>\n",
              "      <td>0.832869</td>\n",
              "      <td>0.855556</td>\n",
              "    </tr>\n",
              "    <tr>\n",
              "      <th>decision_tree_best_precision</th>\n",
              "      <td>0.747253</td>\n",
              "      <td>0.822222</td>\n",
              "    </tr>\n",
              "    <tr>\n",
              "      <th>decision_tree_best_recall</th>\n",
              "      <td>0.843939</td>\n",
              "      <td>0.855556</td>\n",
              "    </tr>\n",
              "    <tr>\n",
              "      <th>decision_tree_best_f1</th>\n",
              "      <td>0.734091</td>\n",
              "      <td>0.844444</td>\n",
              "    </tr>\n",
              "    <tr>\n",
              "      <th>random_forest_best_accuracy</th>\n",
              "      <td>0.875958</td>\n",
              "      <td>0.866667</td>\n",
              "    </tr>\n",
              "    <tr>\n",
              "      <th>random_forest_best_precision</th>\n",
              "      <td>0.865368</td>\n",
              "      <td>0.855556</td>\n",
              "    </tr>\n",
              "    <tr>\n",
              "      <th>random_forest_best_recall</th>\n",
              "      <td>0.776923</td>\n",
              "      <td>0.888889</td>\n",
              "    </tr>\n",
              "    <tr>\n",
              "      <th>random_forest_best_f1</th>\n",
              "      <td>0.776999</td>\n",
              "      <td>0.888889</td>\n",
              "    </tr>\n",
              "    <tr>\n",
              "      <th>Ensemble Learning</th>\n",
              "      <td>0.913876</td>\n",
              "      <td>0.877778</td>\n",
              "    </tr>\n",
              "  </tbody>\n",
              "</table>\n",
              "</div>"
            ],
            "text/plain": [
              "                               Training score  Testing score\n",
              "lr_best_accuracy                     0.804413       0.844444\n",
              "lr_best_precision                    0.792308       0.822222\n",
              "lr_best_recall                       0.777343       0.844444\n",
              "lr_best_f1                           0.708107       0.822222\n",
              "SVM_best_accuracy                    0.799535       0.766667\n",
              "SVM_best_precision                   0.845714       0.711111\n",
              "SVM_best_recall                      0.836264       0.766667\n",
              "SVM_best_F1                          0.726491       0.822222\n",
              "MLP_Classifier_best_accuracy         0.837863       0.811111\n",
              "MLP_Classifier_best_precision        0.900000       0.722222\n",
              "MLP_Classifier_best_recall           0.729670       0.766667\n",
              "MLP_Classifier_best_f1               0.725251       0.811111\n",
              "decision_tree_best_accuracy          0.832869       0.855556\n",
              "decision_tree_best_precision         0.747253       0.822222\n",
              "decision_tree_best_recall            0.843939       0.855556\n",
              "decision_tree_best_f1                0.734091       0.844444\n",
              "random_forest_best_accuracy          0.875958       0.866667\n",
              "random_forest_best_precision         0.865368       0.855556\n",
              "random_forest_best_recall            0.776923       0.888889\n",
              "random_forest_best_f1                0.776999       0.888889\n",
              "Ensemble Learning                    0.913876       0.877778"
            ]
          },
          "metadata": {
            "tags": []
          },
          "execution_count": 78
        }
      ]
    },
    {
      "cell_type": "markdown",
      "metadata": {
        "id": "oL-rEJXq5P6g"
      },
      "source": [
        "##### Training Score Comparison"
      ]
    },
    {
      "cell_type": "code",
      "metadata": {
        "colab": {
          "base_uri": "https://localhost:8080/",
          "height": 845
        },
        "id": "G5__XNPG5Lru",
        "outputId": "22b35378-d709-42e7-9ba5-bfeda0500f0e"
      },
      "source": [
        "models_training_scores = []\n",
        "for combine_result in model_data:\n",
        "    models_training_scores.append(round(combine_result[0] * 100, 2))\n",
        "fig = plt.figure()\n",
        "ax = fig.add_axes([0,0,3,3])\n",
        "ax.barh(models, models_training_scores)\n",
        "plt.title('Percentage')\n",
        "plt.ylabel('Models')"
      ],
      "execution_count": null,
      "outputs": [
        {
          "output_type": "execute_result",
          "data": {
            "text/plain": [
              "Text(0, 0.5, 'Models')"
            ]
          },
          "metadata": {
            "tags": []
          },
          "execution_count": 79
        },
        {
          "output_type": "display_data",
          "data": {
            "image/png": "[encoded data removed]",
            "text/plain": [
              "<Figure size 432x288 with 1 Axes>"
            ]
          },
          "metadata": {
            "tags": [],
            "needs_background": "light"
          }
        }
      ]
    },
    {
      "cell_type": "markdown",
      "metadata": {
        "id": "VCUe7GRX5UwJ"
      },
      "source": [
        "#### Testing Score Comparison"
      ]
    },
    {
      "cell_type": "code",
      "metadata": {
        "colab": {
          "base_uri": "https://localhost:8080/",
          "height": 845
        },
        "id": "JCKqsQAQvSR3",
        "outputId": "207925fe-bbb1-47cf-b489-39e3bd6f07d4"
      },
      "source": [
        "models_testing_scores = []\n",
        "for combine_result in model_data:\n",
        "    models_testing_scores.append(round(combine_result[1] * 100, 2))\n",
        "fig = plt.figure()\n",
        "ax = fig.add_axes([0,0,3,3])\n",
        "ax.barh(models, models_training_scores)\n",
        "plt.title('Percentage')\n",
        "plt.ylabel('Models')"
      ],
      "execution_count": null,
      "outputs": [
        {
          "output_type": "execute_result",
          "data": {
            "text/plain": [
              "Text(0, 0.5, 'Models')"
            ]
          },
          "metadata": {
            "tags": []
          },
          "execution_count": 80
        },
        {
          "output_type": "display_data",
          "data": {
            "image/png": "[encoded data removed]",
            "text/plain": [
              "<Figure size 432x288 with 1 Axes>"
            ]
          },
          "metadata": {
            "tags": [],
            "needs_background": "light"
          }
        }
      ]
    },
    {
      "cell_type": "markdown",
      "metadata": {
        "id": "oSf-zqfn9QXg"
      },
      "source": [
        "##### Combining the results in one graph"
      ]
    },
    {
      "cell_type": "code",
      "metadata": {
        "id": "Uavov8R50EkO",
        "colab": {
          "base_uri": "https://localhost:8080/",
          "height": 841
        },
        "outputId": "d7494965-e3db-4081-a65a-1aa4d47db2bc"
      },
      "source": [
        "n_groups = 21\n",
        "\n",
        "# create plot\n",
        "fig, ax = plt.subplots()\n",
        "ax = fig.add_axes([0,0,3,3])\n",
        "index = np.arange(n_groups)\n",
        "bar_width = 0.4\n",
        "opacity = 0.8\n",
        "\n",
        "rects1 = plt.barh(index, models_testing_scores[::-1], bar_width,\n",
        "alpha=opacity,\n",
        "color='b',\n",
        "label='Testing')\n",
        "\n",
        "rects2 = plt.barh(index + bar_width, models_training_scores[::-1], bar_width,\n",
        "alpha=opacity,\n",
        "color='g',\n",
        "label='Training')\n",
        "\n",
        "plt.xlabel('Percentage')\n",
        "plt.ylabel('Models')\n",
        "plt.title('Model Comparisons')\n",
        "plt.yticks(index + bar_width, models[::-1])\n",
        "plt.legend()\n",
        "\n",
        "plt.show()"
      ],
      "execution_count": null,
      "outputs": [
        {
          "output_type": "display_data",
          "data": {
            "image/png": "[encoded data removed]",
            "text/plain": [
              "<Figure size 432x288 with 2 Axes>"
            ]
          },
          "metadata": {
            "tags": [],
            "needs_background": "light"
          }
        }
      ]
    },
    {
      "cell_type": "code",
      "metadata": {
        "id": "YBeyEnBD0zDe"
      },
      "source": [],
      "execution_count": null,
      "outputs": []
    }
  ]
}